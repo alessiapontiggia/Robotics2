{
  "nbformat": 4,
  "nbformat_minor": 0,
  "metadata": {
    "colab": {
      "provenance": [],
      "toc_visible": true
    },
    "kernelspec": {
      "name": "python3",
      "display_name": "Python 3"
    },
    "language_info": {
      "name": "python"
    }
  },
  "cells": [
    {
      "cell_type": "markdown",
      "source": [
        "# Import"
      ],
      "metadata": {
        "id": "qITzzrjLplfV"
      }
    },
    {
      "cell_type": "code",
      "source": [
        "import sympy as sp\n",
        "import numpy as np\n",
        "import itertools\n",
        "from sympy import symbols, Eq, solve, diff, Function, simplify\n",
        "from IPython.display import display, Math"
      ],
      "metadata": {
        "id": "HVT9L-_x9PEJ"
      },
      "execution_count": null,
      "outputs": []
    },
    {
      "cell_type": "markdown",
      "source": [
        "# Calibration\n"
      ],
      "metadata": {
        "id": "go9e2xx42uT0"
      }
    },
    {
      "cell_type": "code",
      "execution_count": null,
      "metadata": {
        "id": "VAXLU0HJ2QnD"
      },
      "outputs": [],
      "source": [
        "\"\"\"\n",
        "f is the direct kinematics (written as a symbolic matrix)\n",
        "r is the respective task measured coordinate (valued)\n",
        "q is a list of configurations\n",
        "phi is a symbolic matrix multiplying the variations (see notes)\n",
        "\"\"\"\n",
        "\n",
        "def calibration_step(r, f, q, phi):\n",
        "\n",
        "  print(\"\\nStarting f (direct kinematics):\\n\")\n",
        "  for i in range(len(f)):\n",
        "    print(f[i])\n",
        "\n",
        "  print(\"\\nTask r:\\n\", r)\n",
        "\n",
        "  l = len(q)\n",
        "  print(f\"\\nConfigurations tried ({l}): \\n\")\n",
        "\n",
        "  delta_r = []\n",
        "  m,n = phi.shape\n",
        "  phi_bar = np.zeros((m*l, n))\n",
        "\n",
        "  k = 0\n",
        "  for i in range(l):\n",
        "    print(f\"\\nEXPERIMENT N.{i}: \", q[i])\n",
        "    f_c = f.copy()\n",
        "    phi_c = phi.copy()\n",
        "    for n in range(len(q[i])):\n",
        "      q_i = sp.symbols('q'+str(n+1))\n",
        "      f_c = f_c.subs(q_i, q[i][n])\n",
        "      phi_c = phi_c.subs(q_i, q[i][n])\n",
        "    r_nom = list(f_c)\n",
        "    print(\"\\nr for this experiment: \", r[i])\n",
        "    print(\"\\nr_nom for this experiment: \", r_nom)\n",
        "    print(\"\\nphi for this experiment: \", phi_c)\n",
        "\n",
        "    for j in range(len(r[i])):\n",
        "\n",
        "      diff = r[i][j]-r_nom[j]\n",
        "      if abs(diff) < 1e-15:\n",
        "        diff = 0\n",
        "      delta_r.append(diff)\n",
        "\n",
        "    for row in range(phi_c.shape[0]):\n",
        "      for col in range(phi_c.shape[1]):\n",
        "        if abs(phi_c[row,col])<1e-10:\n",
        "          phi_bar[k+row][col] = 0\n",
        "        else:\n",
        "          phi_bar[k+row][col] = phi_c[row,col]\n",
        "    k += m\n",
        "\n",
        "  delta_r = np.array(delta_r).reshape(-1,1)\n",
        "  print(\"\\ndelta r:\\n\", delta_r)\n",
        "  print(\"\\nphi bar:\\n\", phi_bar)\n",
        "\n",
        "  # solution\n",
        "  displacements = np.dot(np.linalg.pinv(phi_bar), delta_r)\n",
        "  print(\"\\nDisplacements:\\n\", displacements)\n",
        "\n",
        "  return list(displacements)\n"
      ]
    },
    {
      "cell_type": "code",
      "source": [
        "# example 2R robot midterm2022\n",
        "l1 = sp.symbols('l1')\n",
        "l2 = sp.symbols('l2')\n",
        "c1 = sp.cos('q1')\n",
        "s1 = sp.sin('q1')\n",
        "c2 = sp.cos('q2')\n",
        "s2 = sp.sin('q2')\n",
        "c12 = sp.cos('q1+q2')\n",
        "s12 = sp.sin('q1+q2')\n",
        "\n",
        "l1_nom = 1\n",
        "l2_nom = 1\n",
        "f = sp.Matrix([ [l1_nom*c1 + l2_nom*c12],\n",
        "                [l1_nom*s1 + l2_nom*s12]\n",
        "              ])\n",
        "\n",
        "r = [[2,0], [0,2], [1.6925, 0.7425], [1.7218, 0.6718]]\n",
        "q = [(0,0), (np.pi/2,0), (np.pi/4, -np.pi/4), (0, np.pi/4)]\n",
        "\n",
        "phi = sp.Matrix([\n",
        "                  [c1, c12],\n",
        "                  [s1, s12]\n",
        "                ])\n",
        "\n",
        "displ = calibration_step(r,f,q, phi)\n",
        "print(f\"\\nAfter one iteration:\\nL1 = {l1_nom-displ[0]}\\nL2 = {l2_nom-displ[1]}\")"
      ],
      "metadata": {
        "colab": {
          "base_uri": "https://localhost:8080/"
        },
        "id": "vQvCXKV59Llx",
        "outputId": "ae25ee1c-0471-45a1-c60c-9cd35b48f1d8"
      },
      "execution_count": null,
      "outputs": [
        {
          "output_type": "stream",
          "name": "stdout",
          "text": [
            "\n",
            "Starting f (direct kinematics):\n",
            "\n",
            "cos(q1) + cos(q1 + q2)\n",
            "sin(q1) + sin(q1 + q2)\n",
            "\n",
            "Task r:\n",
            " [[2, 0], [0, 2], [1.6925, 0.7425], [1.7218, 0.6718]]\n",
            "\n",
            "Configurations tried (4): \n",
            "\n",
            "\n",
            "EXPERIMENT N.0:  (0, 0)\n",
            "\n",
            "r for this experiment:  [2, 0]\n",
            "\n",
            "r_nom for this experiment:  [2, 0]\n",
            "\n",
            "phi for this experiment:  Matrix([[1, 1], [0, 0]])\n",
            "\n",
            "EXPERIMENT N.1:  (1.5707963267948966, 0)\n",
            "\n",
            "r for this experiment:  [0, 2]\n",
            "\n",
            "r_nom for this experiment:  [1.22464679914735e-16, 2.00000000000000]\n",
            "\n",
            "phi for this experiment:  Matrix([[6.12323399573677e-17, 6.12323399573677e-17], [1.00000000000000, 1.00000000000000]])\n",
            "\n",
            "EXPERIMENT N.2:  (0.7853981633974483, -0.7853981633974483)\n",
            "\n",
            "r for this experiment:  [1.6925, 0.7425]\n",
            "\n",
            "r_nom for this experiment:  [1.70710678118655, 0.707106781186547]\n",
            "\n",
            "phi for this experiment:  Matrix([[0.707106781186548, 1], [0.707106781186547, 0]])\n",
            "\n",
            "EXPERIMENT N.3:  (0, 0.7853981633974483)\n",
            "\n",
            "r for this experiment:  [1.7218, 0.6718]\n",
            "\n",
            "r_nom for this experiment:  [1.70710678118655, 0.707106781186547]\n",
            "\n",
            "phi for this experiment:  Matrix([[1, 0.707106781186548], [0, 0.707106781186547]])\n",
            "\n",
            "delta r:\n",
            " [[0]\n",
            " [0]\n",
            " [0]\n",
            " [0]\n",
            " [-0.0146067811865476]\n",
            " [0.0353932188134526]\n",
            " [0.0146932188134525]\n",
            " [-0.0353067811865475]]\n",
            "\n",
            "phi bar:\n",
            " [[1.         1.        ]\n",
            " [0.         0.        ]\n",
            " [0.         0.        ]\n",
            " [1.         1.        ]\n",
            " [0.70710678 1.        ]\n",
            " [0.70710678 0.        ]\n",
            " [1.         0.70710678]\n",
            " [0.         0.70710678]]\n",
            "\n",
            "Displacements:\n",
            " [[0.0500102976094881]\n",
            " [-0.0499821518204010]]\n",
            "\n",
            "After one iteration:\n",
            "L1 = [0.949989702390512]\n",
            "L2 = [1.04998215182040]\n"
          ]
        }
      ]
    },
    {
      "cell_type": "markdown",
      "source": [
        "# Redundancy: velocity level"
      ],
      "metadata": {
        "id": "Pa0PNJP5JxXp"
      }
    },
    {
      "cell_type": "markdown",
      "source": [
        "## Jacobian-based methods"
      ],
      "metadata": {
        "id": "R2F7ZfWW9Atc"
      }
    },
    {
      "cell_type": "code",
      "source": [
        "def DLS(J, r_dot, values, mu):\n",
        "  print(\"\\nStarting Jacobian:\\n\", J)\n",
        "  print(\"\\nDesired task velocity:\\n\", r_dot)\n",
        "  m,n = J.shape\n",
        "\n",
        "  check_J = input(\"\\nIs J symbolic? (Y/N): \")\n",
        "  if check_J == 'Y':\n",
        "    J = np.round(np.array(J.subs(values)).astype(np.float64), 3)\n",
        "\n",
        "  I = np.identity(m)\n",
        "  JJT = np.dot(J, J.T)\n",
        "  mu2I = mu**2 * I\n",
        "  inverse_part = np.linalg.inv(JJT + mu2I)\n",
        "  q_dot = np.dot(np.dot(J.T, inverse_part), r_dot)\n",
        "  print(\"\\nThe solution q_dot is:\\n\", q_dot)\n",
        "  return q_dot\n"
      ],
      "metadata": {
        "id": "U4af3_8nZn0I"
      },
      "execution_count": null,
      "outputs": []
    },
    {
      "cell_type": "code",
      "source": [
        "# example DLS\n",
        "\n",
        "l = sp.symbols('l')\n",
        "s1 = sp.sin('q1')\n",
        "s2 = sp.sin('q2')\n",
        "s3 = sp.sin('q3')\n",
        "s12 = sp.sin('q1+q2')\n",
        "s123 = sp.sin('q1+q2+q3')\n",
        "c1 = sp.cos('q1')\n",
        "c2 = sp.cos('q2')\n",
        "c3 = sp.cos('q3')\n",
        "c12 = sp.cos('q1+q2')\n",
        "c123 = sp.cos('q1+q2+q3')\n",
        "\n",
        "J = sp.Matrix([\n",
        "    [-l*(s1+s12+s123), -l*(s12+s123), -l*s123],\n",
        "    [l*(c1+c12+c123), l*(c12+c123), l*c123]\n",
        "])\n",
        "\n",
        "values = {'l':1, 'q1':np.pi/2, 'q2':np.pi/3, 'q3':-2*np.pi/3}\n",
        "\n",
        "r_dot = np.array([[1], [-np.sqrt(3)]])\n",
        "q_dot = DLS(J, r_dot, values, mu = 0.25)"
      ],
      "metadata": {
        "colab": {
          "base_uri": "https://localhost:8080/"
        },
        "id": "eqlR6DPTz-Kp",
        "outputId": "d7eb4a60-1455-49a8-9c56-74ea8d3ec6a3"
      },
      "execution_count": null,
      "outputs": [
        {
          "output_type": "stream",
          "name": "stdout",
          "text": [
            "\n",
            "Starting Jacobian:\n",
            " Matrix([[-l*(sin(q1) + sin(q1 + q2) + sin(q1 + q2 + q3)), -l*(sin(q1 + q2) + sin(q1 + q2 + q3)), -l*sin(q1 + q2 + q3)], [l*(cos(q1) + cos(q1 + q2) + cos(q1 + q2 + q3)), l*(cos(q1 + q2) + cos(q1 + q2 + q3)), l*cos(q1 + q2 + q3)]])\n",
            "\n",
            "Desired task velocity:\n",
            " [[ 1.        ]\n",
            " [-1.73205081]]\n",
            "\n",
            "Is J symbolic? (Y/N): Y\n",
            "\n",
            "The solution q_dot is:\n",
            " [[-0.03026534]\n",
            " [-0.01513267]\n",
            " [-1.84678173]]\n"
          ]
        }
      ]
    },
    {
      "cell_type": "code",
      "source": [
        "# strong-right inverse\n",
        "\"\"\"\n",
        "- J is either symbolic or numeric Jacobian matrix\n",
        "- r_dot is a vector of task velocity\n",
        "- values is a dictionary with keys the symbolic variables names and as values\n",
        "  the values to give to those variables\n",
        "\"\"\"\n",
        "def strong_right_inverse(J, r_dot, values):\n",
        "  print(\"\\nStarting Jacobian:\\n\", J)\n",
        "  print(\"\\nDesired task velocity:\\n\", r_dot)\n",
        "  m,n = J.shape\n",
        "  print(f\"\\nRows = {m}\\nCols = {n}\")\n",
        "\n",
        "  non_singular_minors = []\n",
        "  largest_size = 0\n",
        "\n",
        "  check_J = input(\"\\nIs J symbolic? (Y/N): \")\n",
        "  if check_J == 'Y':\n",
        "    J = np.round(np.array(J.subs(values)).astype(np.float64), 3)\n",
        "\n",
        "\n",
        "  for col_comb in itertools.combinations(range(n), m):\n",
        "    minor = J[:, col_comb]\n",
        "\n",
        "    if np.linalg.det(minor) != 0:\n",
        "      non_singular_minors.append(minor)\n",
        "      largest_size = m\n",
        "\n",
        "  l = len(non_singular_minors)\n",
        "  if l > 0:\n",
        "    print(f\"\\nFound {l} non-singular minors of J...\\n\")\n",
        "    for i in range(l):\n",
        "      print(non_singular_minors[i])\n",
        "      print()\n",
        "\n",
        "    K = np.zeros((n,m))\n",
        "    J_a = non_singular_minors[0]  # change the index if you want to use another minor\n",
        "    for i in range(m):\n",
        "      for j in range(m):\n",
        "        K[i][j] = J_a[i][j]\n",
        "\n",
        "    print(\"\\nThe strong right inverse using the first minor is:\\n\",K)\n",
        "    q_dot = np.dot(K, r_dot)\n",
        "    print(\"\\nThe solution q_dot is:\\n\", q_dot)\n",
        "  else:\n",
        "    print(\"\\nNo minor is non singular\")\n",
        "\n",
        "  return K, q_dot"
      ],
      "metadata": {
        "id": "dOPqDFC7JwwG"
      },
      "execution_count": null,
      "outputs": []
    },
    {
      "cell_type": "code",
      "source": [
        "# example SRI\n",
        "J = np.array([[1, 2, 3, 4],\n",
        "              [5, 6, 7, 8],\n",
        "              [9, 7, 11, 12]])\n",
        "r_dot = np.array([\n",
        "                  [1],\n",
        "                  [0],\n",
        "                  [-2]])\n",
        "values = {'q1': 0, 'q2': 0, 'q3': 0, 'q4': 0}\n",
        "K, q_dot = strong_right_inverse(J, r_dot, values)"
      ],
      "metadata": {
        "colab": {
          "base_uri": "https://localhost:8080/"
        },
        "id": "Uyw5iSpl-b8X",
        "outputId": "3128fad5-9833-4530-ce73-ac427e13610b"
      },
      "execution_count": null,
      "outputs": [
        {
          "output_type": "stream",
          "name": "stdout",
          "text": [
            "\n",
            "Starting Jacobian:\n",
            " [[ 1  2  3  4]\n",
            " [ 5  6  7  8]\n",
            " [ 9  7 11 12]]\n",
            "\n",
            "Desired task velocity:\n",
            " [[ 1]\n",
            " [ 0]\n",
            " [-2]]\n",
            "\n",
            "Rows = 3\n",
            "Cols = 4\n",
            "\n",
            "Is J symbolic? (Y/N): N\n",
            "\n",
            "Found 3 non-singular minors of J...\n",
            "\n",
            "[[ 1  2  3]\n",
            " [ 5  6  7]\n",
            " [ 9  7 11]]\n",
            "\n",
            "[[ 1  2  4]\n",
            " [ 5  6  8]\n",
            " [ 9  7 12]]\n",
            "\n",
            "[[ 2  3  4]\n",
            " [ 6  7  8]\n",
            " [ 7 11 12]]\n",
            "\n",
            "\n",
            "The strong right inverse using the first minor is:\n",
            " [[ 1.  2.  3.]\n",
            " [ 5.  6.  7.]\n",
            " [ 9.  7. 11.]\n",
            " [ 0.  0.  0.]]\n",
            "\n",
            "The solution q_dot is:\n",
            " [[ -5.]\n",
            " [ -9.]\n",
            " [-13.]\n",
            " [  0.]]\n"
          ]
        }
      ]
    },
    {
      "cell_type": "code",
      "source": [
        "# pseudoinverse\n",
        "\"\"\"\n",
        "- J is either symbolic or numeric Jacobian matrix\n",
        "- r_dot is a vector of task velocity\n",
        "- values is a dictionary with keys the symbolic variables names and as values\n",
        "  the values to give to those variables\n",
        "\"\"\"\n",
        "\n",
        "def pseudoinverse(J, r_dot, values):\n",
        "  print(\"\\nStarting jacobian:\\n\", J)\n",
        "  print(\"\\nDesired task velocity:\\n\", r_dot)\n",
        "\n",
        "  check_J = input(\"\\nIs J symbolic? (Y/N): \")\n",
        "  if check_J == 'Y':\n",
        "    J = np.round(np.array(J.subs(values)).astype(np.float64), 3)\n",
        "\n",
        "  m,n = J.shape\n",
        "\n",
        "  non_singular_minors = []\n",
        "  for col_comb in itertools.combinations(range(n), m):\n",
        "    minor = J[:, col_comb]\n",
        "\n",
        "    if np.linalg.det(minor) != 0:\n",
        "      non_singular_minors.append(minor)\n",
        "\n",
        "  if len(non_singular_minors) > 0:\n",
        "    print(\"\\nJ is full row rank...\\nLet's compute J#\\n\")\n",
        "    J_pseudoinv = np.dot(J.T, np.linalg.inv(np.dot(J,J.T)))\n",
        "  else:\n",
        "    print(\"\\nJ is not full row rank...\\nLet's compute J#\\n\")\n",
        "    J_pseudoinv = np.linalg.pinv(J)\n",
        "\n",
        "  print(\"\\nThe jacobian pseudoinverse is:\\n\", J_pseudoinv)\n",
        "  q_dot = np.dot(J_pseudoinv, r_dot)\n",
        "  print(\"\\nThe solution q_dot is:\\n\", q_dot)\n",
        "  return J_pseudoinv, q_dot"
      ],
      "metadata": {
        "id": "nJW8WQFGBQUi"
      },
      "execution_count": null,
      "outputs": []
    },
    {
      "cell_type": "code",
      "source": [
        "# jacobian instanciation\n",
        "\n",
        "# example DLS\n",
        "\n",
        "s1 = sp.sin('q1')\n",
        "s2 = sp.sin('q2')\n",
        "s3 = sp.sin('q3')\n",
        "s4 = sp.sin('q4')\n",
        "s12 = sp.sin('q1+q2')\n",
        "s123 = sp.sin('q1+q2+q3')\n",
        "s1234 = sp.sin('q1+q2+q3+q4')\n",
        "c1 = sp.cos('q1')\n",
        "c2 = sp.cos('q2')\n",
        "c3 = sp.cos('q3')\n",
        "c4 = sp.cos('q4')\n",
        "c12 = sp.cos('q1+q2')\n",
        "c123 = sp.cos('q1+q2+q3')\n",
        "c1234 = sp.cos('q1+q2+q3+q4')\n",
        "\n",
        "J1 = sp.Matrix([\n",
        "    [-(s1+s12+s123+s1234), -(s12+s123+s1234), -s123-s1234, -s1234],\n",
        "    [(c1+c12+c123+c1234), (c12+c123+c1234), c123+c1234, c1234]\n",
        "])\n",
        "\n",
        "J2 = sp.Matrix([\n",
        "    [-(s1+s12), -s12, 0, 0],\n",
        "    [c1+c12, c12, 0, 0]\n",
        "])\n",
        "\n",
        "values = {'q1':0, 'q2':np.pi/6, 'q3':-np.pi/3, 'q4':-np.pi/3}\n",
        "\n",
        "print(J2.subs(values))\n",
        "#J = J.subs(values)\n",
        "\n",
        "r_dot = np.array([-0.5, 0.866])\n",
        "\n",
        "P,q = pseudoinverse(J2, r_dot, values)\n",
        "\n",
        "#r_dot = np.array([[1], [-np.sqrt(3)]])\n"
      ],
      "metadata": {
        "colab": {
          "base_uri": "https://localhost:8080/"
        },
        "id": "dd6vQ8-ie3y-",
        "outputId": "e2603165-8cc5-43e9-bb65-8ce16cef165e"
      },
      "execution_count": null,
      "outputs": [
        {
          "output_type": "stream",
          "name": "stdout",
          "text": [
            "Matrix([[-0.500000000000000, -0.500000000000000, 0, 0], [1.86602540378444, 0.866025403784439, 0, 0]])\n",
            "\n",
            "Starting jacobian:\n",
            " Matrix([[-sin(q1) - sin(q1 + q2), -sin(q1 + q2), 0, 0], [cos(q1) + cos(q1 + q2), cos(q1 + q2), 0, 0]])\n",
            "\n",
            "Desired task velocity:\n",
            " [-0.5    0.866]\n",
            "\n",
            "Is J symbolic? (Y/N): Y\n",
            "\n",
            "J is full row rank...\n",
            "Let's compute J#\n",
            "\n",
            "\n",
            "The jacobian pseudoinverse is:\n",
            " [[ 1.732  1.   ]\n",
            " [-3.732 -1.   ]\n",
            " [ 0.     0.   ]\n",
            " [ 0.     0.   ]]\n",
            "\n",
            "The solution q_dot is:\n",
            " [1.11022302e-16 1.00000000e+00 0.00000000e+00 0.00000000e+00]\n"
          ]
        }
      ]
    },
    {
      "cell_type": "code",
      "source": [
        "error = r_dot - np.dot(np.array(J.subs(values)),q)\n",
        "print(error)\n",
        "#print(np.linalg.norm(error))"
      ],
      "metadata": {
        "colab": {
          "base_uri": "https://localhost:8080/"
        },
        "id": "UmmBmhdMhjsP",
        "outputId": "835a8d59-0736-4ff6-b9e5-dce9d011f1be"
      },
      "execution_count": null,
      "outputs": [
        {
          "output_type": "stream",
          "name": "stdout",
          "text": [
            "[-2.22044604925031e-16 1.24013327302830e-5]\n"
          ]
        }
      ]
    },
    {
      "cell_type": "code",
      "source": [
        "# example pseudoinverse\n",
        "J = np.array([[1, 1, 3, 4],\n",
        "              [5, 2, 7, 8],\n",
        "              [9, 1, 11, 12]])\n",
        "r_dot = np.array([\n",
        "                  [1],\n",
        "                  [0],\n",
        "                  [-2]])\n",
        "\n",
        "values = {'q1': 0, 'q2': 0, 'q3': 0, 'q4': 0}\n",
        "J_p, q_dot = pseudoinverse(J, r_dot, values)"
      ],
      "metadata": {
        "colab": {
          "base_uri": "https://localhost:8080/"
        },
        "id": "n7jYywB2IRJf",
        "outputId": "074c4b4e-f7ec-4a86-b6de-4b16450df97b"
      },
      "execution_count": null,
      "outputs": [
        {
          "output_type": "stream",
          "name": "stdout",
          "text": [
            "\n",
            "Starting jacobian:\n",
            " [[ 1  1  3  4]\n",
            " [ 5  2  7  8]\n",
            " [ 9  1 11 12]]\n",
            "\n",
            "Desired task velocity:\n",
            " [[ 1]\n",
            " [ 0]\n",
            " [-2]]\n",
            "\n",
            "Is J symbolic? (Y/N): N\n",
            "\n",
            "J is full row rank...\n",
            "Let's compute J#\n",
            "\n",
            "\n",
            "The jacobian pseudoinverse is:\n",
            " [[-0.69642857  0.35714286 -0.01785714]\n",
            " [-0.5         1.         -0.5       ]\n",
            " [ 0.08928571 -0.07142857  0.05357143]\n",
            " [ 0.48214286 -0.28571429  0.08928571]]\n",
            "\n",
            "The solution q_dot is:\n",
            " [[-0.66071429]\n",
            " [ 0.5       ]\n",
            " [-0.01785714]\n",
            " [ 0.30357143]]\n"
          ]
        }
      ]
    },
    {
      "cell_type": "code",
      "source": [
        "# weighted pseudoinverse\n",
        "\"\"\"\n",
        "- J is either symbolic or numeric Jacobian matrix\n",
        "- W is a (diagonal) weight matrix\n",
        "- r_dot is a vector of task velocity\n",
        "- values is a dictionary with keys the symbolic variables names and as values\n",
        "  the values to give to those variables\n",
        "\"\"\"\n",
        "def weighted_pseudoinverse(J, W, r_dot, values):\n",
        "  print(\"\\nStarting jacobian:\\n\", J)\n",
        "  print(\"\\nWeight matrix:\\n\", W)\n",
        "  print(\"\\nDesired task velocity:\\n\", r_dot)\n",
        "\n",
        "  check_J = input(\"\\nIs J symbolic? (Y/N): \")\n",
        "  if check_J == 'Y':\n",
        "    J = np.round(np.array(J.subs(values)).astype(np.float64), 3)\n",
        "\n",
        "  m,n = J.shape\n",
        "  non_singular_minors = []\n",
        "  for col_comb in itertools.combinations(range(n), m):\n",
        "    minor = J[:, col_comb]\n",
        "\n",
        "    if np.linalg.det(minor) != 0:\n",
        "      non_singular_minors.append(minor)\n",
        "\n",
        "  if len(non_singular_minors) > 0:\n",
        "    print(\"\\nJ is full row rank...\\nLet's compute J#\\n\")\n",
        "    w_inv = np.linalg.inv(W)\n",
        "    last_term = np.linalg.inv(np.dot(np.dot(J, w_inv), J.T))\n",
        "    J_pseudo_w = np.dot(np.dot(w_inv, J.T), last_term)\n",
        "    print(\"\\nThe weighted pseudoinverse is:\\n\", J_pseudo_w)\n",
        "    q_dot = np.dot(J_pseudo_w, r_dot)\n",
        "    print(\"\\nThe solution q_dot is:\\n\", q_dot)\n",
        "    return J_pseudo_w, q_dot\n",
        "  else:\n",
        "    print(\"\\nJ is not full row rank... Can not compute the solution\")\n",
        "    return"
      ],
      "metadata": {
        "id": "MnDt0c6LI0n8"
      },
      "execution_count": null,
      "outputs": []
    },
    {
      "cell_type": "code",
      "source": [
        "# example weighted pseudoinverse\n",
        "\n",
        "J = np.array([[1, 0, 3, 4],\n",
        "              [5, 1, 7, 8],\n",
        "              [9, 0, 1, 12]])\n",
        "W = np.array([\n",
        "              [1, 0, 0, 0],\n",
        "              [0, 1, 0, 0],\n",
        "              [0, 0, 1, 0],\n",
        "              [0, 0, 0, 1]\n",
        "            ])\n",
        "r_dot = np.array([\n",
        "                  [1],\n",
        "                  [0],\n",
        "                  [-2]])\n",
        "\n",
        "values = {'q1': 0, 'q2': 0, 'q3': 0, 'q4': 0}\n",
        "J_w, q_dot = weighted_pseudoinverse(J, W, r_dot, values)"
      ],
      "metadata": {
        "colab": {
          "base_uri": "https://localhost:8080/"
        },
        "id": "OGhRSVNILJj4",
        "outputId": "6b14444e-e27a-47b5-ea3f-2614236ad393"
      },
      "execution_count": null,
      "outputs": [
        {
          "output_type": "stream",
          "name": "stdout",
          "text": [
            "\n",
            "Starting jacobian:\n",
            " [[ 1  0  3  4]\n",
            " [ 5  1  7  8]\n",
            " [ 9  0  1 12]]\n",
            "\n",
            "Weight matrix:\n",
            " [[1 0 0 0]\n",
            " [0 1 0 0]\n",
            " [0 0 1 0]\n",
            " [0 0 0 1]]\n",
            "\n",
            "Desired task velocity:\n",
            " [[ 1]\n",
            " [ 0]\n",
            " [-2]]\n",
            "\n",
            "Is J symbolic? (Y/N): N\n",
            "\n",
            "J is full row rank...\n",
            "Let's compute J#\n",
            "\n",
            "\n",
            "The weighted pseudoinverse is:\n",
            " [[-0.5657232   0.23027105  0.03921804]\n",
            " [-0.25353802  0.13648357 -0.02206764]\n",
            " [-0.0492924   0.17270329 -0.09558647]\n",
            " [ 0.4284001  -0.18709523  0.06188534]]\n",
            "\n",
            "The solution q_dot is:\n",
            " [[-0.64415927]\n",
            " [-0.20940273]\n",
            " [ 0.14188055]\n",
            " [ 0.30462941]]\n"
          ]
        }
      ]
    },
    {
      "cell_type": "markdown",
      "source": [
        "## Null Space methods"
      ],
      "metadata": {
        "id": "uX9fMQC3Q3Go"
      }
    },
    {
      "cell_type": "code",
      "source": [
        "def chooce_q0_dot(obj, parameters):\n",
        "  if obj == 'M':      # manipulability\n",
        "    pass\n",
        "  elif obj == 'JR':   # joint range\n",
        "    pass\n",
        "  elif obj == 'OA':   # obstacle avoidance\n",
        "    pass\n",
        "\n",
        "  return"
      ],
      "metadata": {
        "id": "5nDDpVnG8Mbf"
      },
      "execution_count": null,
      "outputs": []
    },
    {
      "cell_type": "code",
      "source": [
        "\"\"\"\n",
        "- J is either symbolic or numeric Jacobian matrix\n",
        "- r_dot is a vector of task velocity\n",
        "- q_dot_zero is the preferred joint velocity\n",
        "- values is a dictionary with keys the symbolic variables names and as values\n",
        "  the values to give to those variables\n",
        "\"\"\"\n",
        "\n",
        "def projected_gradient(J, r_dot, q_dot_zero, values):\n",
        "  print(\"\\nStarting Jacobian:\\n\", J)\n",
        "  print(\"\\nDesired velocity:\\n\", r_dot)\n",
        "  print(\"\\nPreferred joint velocity:\\n\", q_dot_zero)\n",
        "  check_J = input(\"\\nIs J symbolic? (Y/N): \")\n",
        "  if check_J == 'Y':\n",
        "    J = np.round(np.array(J.subs(values)).astype(np.float64), 3)\n",
        "\n",
        "  m,n = J.shape\n",
        "  I = np.identity(n)\n",
        "  J_pseudoinv = np.linalg.pinv(J)\n",
        "  q_dot = np.dot(J_pseudoinv, r_dot) + np.dot(I-np.dot(J_pseudoinv, J), q_dot_zero)\n",
        "  print(\"\\nThe solution of PG method q_dot is:\\n\", q_dot)\n",
        "  return q_dot"
      ],
      "metadata": {
        "id": "Xm1_BrgSJK2I"
      },
      "execution_count": null,
      "outputs": []
    },
    {
      "cell_type": "code",
      "source": [
        "# example PG\n",
        "\n",
        "l = sp.symbols('l')\n",
        "s1 = sp.sin('q1')\n",
        "s2 = sp.sin('q2')\n",
        "s3 = sp.sin('q3')\n",
        "s12 = sp.sin('q1+q2')\n",
        "s123 = sp.sin('q1+q2+q3')\n",
        "c1 = sp.cos('q1')\n",
        "c2 = sp.cos('q2')\n",
        "c3 = sp.cos('q3')\n",
        "c12 = sp.cos('q1+q2')\n",
        "c123 = sp.cos('q1+q2+q3')\n",
        "\n",
        "J = sp.Matrix([\n",
        "    [-l*(s1+s12+s123), -l*(s12+s123), -l*s123],\n",
        "    [l*(c1+c12+c123), l*(c12+c123), l*c123]\n",
        "])\n",
        "\n",
        "values = {'l':1, 'q1':np.pi/2, 'q2':np.pi/3, 'q3':-2*np.pi/3}\n",
        "\n",
        "r_dot = np.array([[1], [-np.sqrt(3)]])\n",
        "q_dot_zero = np.array([[-1], [0], [1]])\n",
        "q_dot = projected_gradient(J, r_dot, q_dot_zero, values)"
      ],
      "metadata": {
        "colab": {
          "base_uri": "https://localhost:8080/"
        },
        "id": "JksyBgRX0rKU",
        "outputId": "539f8875-d0c3-44c2-e64c-61cd6036f6f4"
      },
      "execution_count": null,
      "outputs": [
        {
          "output_type": "stream",
          "name": "stdout",
          "text": [
            "\n",
            "Starting Jacobian:\n",
            " Matrix([[-l*(sin(q1) + sin(q1 + q2) + sin(q1 + q2 + q3)), -l*(sin(q1 + q2) + sin(q1 + q2 + q3)), -l*sin(q1 + q2 + q3)], [l*(cos(q1) + cos(q1 + q2) + cos(q1 + q2 + q3)), l*(cos(q1 + q2) + cos(q1 + q2 + q3)), l*cos(q1 + q2 + q3)]])\n",
            "\n",
            "Desired velocity:\n",
            " [[ 1.        ]\n",
            " [-1.73205081]]\n",
            "\n",
            "Preferred joint velocity:\n",
            " [[-1]\n",
            " [ 0]\n",
            " [ 1]]\n",
            "\n",
            "Is J symbolic? (Y/N): Y\n",
            "\n",
            "The solution of PG method q_dot is:\n",
            " [[-0.19998827]\n",
            " [ 0.40000587]\n",
            " [-2.00005867]]\n"
          ]
        }
      ]
    },
    {
      "cell_type": "code",
      "source": [
        "\"\"\"\n",
        "- J is either symbolic or numeric matrix jacobian\n",
        "- H is either symbolic or numeric matrix defining the objective function\n",
        "- r_dot is the vector representing the task velocity\n",
        "- values is a dictionary with keys the variables and values the values to give\n",
        "  to those variables\n",
        "- variables is a n-ple containing variables defined as symbols\n",
        "\"\"\"\n",
        "\n",
        "def reduced_gradient(J, H, r_dot, values, variables):\n",
        "  print(\"\\nStarting J:\\n\", J)\n",
        "  print(\"\\nH:\\n\", H)\n",
        "  print(\"\\nValues:\\n\", values)\n",
        "\n",
        "  check_J = input(\"\\nIs J symbolic? (Y/N): \")\n",
        "  if check_J == 'Y':\n",
        "    J = np.round(np.array(J.subs(values)).astype(np.float64), 3)\n",
        "  m,n = J.shape\n",
        "  non_singular_minors = {}\n",
        "  for col_comb in itertools.combinations(range(n), m):\n",
        "    minor = J[:, col_comb]\n",
        "    det = np.linalg.det(minor)\n",
        "    if det != 0:\n",
        "      non_singular_minors[det] = [minor, col_comb]\n",
        "\n",
        "  selected_key = max(non_singular_minors, key=abs) # we choose the maximum determinant\n",
        "  selected_minor = non_singular_minors[selected_key][0]\n",
        "  selected_q = non_singular_minors[selected_key][1]\n",
        "\n",
        "  q_a = []\n",
        "  a = []\n",
        "  for i in range(len(selected_q)):\n",
        "    q_a.append(f\"q{selected_q[i]+1}\")\n",
        "    a.append(selected_q[i])\n",
        "\n",
        "  q_b = []\n",
        "  b = []\n",
        "  for i in range(1, n):\n",
        "    if 'q'+str(i) not in q_a:\n",
        "      q_b.append(f\"q\"+str(i))\n",
        "      b.append(i-1)\n",
        "\n",
        "  idx = a+b\n",
        "  print(idx)\n",
        "  T = np.zeros((n,n))\n",
        "  for i in range(n):\n",
        "    T[i][idx[i]] = 1\n",
        "\n",
        "  print(\"\\nT:\\n\", T)\n",
        "  print(f\"Choosen q_a: {q_a}\\nRemaining q_b: {q_b}\")\n",
        "\n",
        "  J_a = selected_minor\n",
        "  print(\"\\nJ_a is:\\n\", J_a)\n",
        "  J_a_inv = np.linalg.inv(J_a)\n",
        "\n",
        "  J_b = J[:, b]\n",
        "  print(\"\\nJ_b is:\\n\", J_b)\n",
        "\n",
        "  check_H = input(\"\\nIs H symbolic? (Y/N): \")\n",
        "  if check_H == 'Y':\n",
        "    delta_H = sp.Matrix([sp.diff(H, var) for var in variables])\n",
        "    print(\"\\nGradient of H:\\n\", delta_H)\n",
        "    v_DH = np.round(np.array(delta_H.subs(values)).astype(np.float64), 3)\n",
        "    print(\"\\nValued gradient of H:\\n\", v_DH)\n",
        "  else:\n",
        "    v_DH = H\n",
        "\n",
        "  I = np.identity(n-m)\n",
        "  DH_prime = np.dot(np.hstack((-np.dot(J_a_inv, J_b).T, I)), v_DH)\n",
        "  print(\"\\nThe reduced gradient is:\\n\", DH_prime)\n",
        "\n",
        "  M1 = np.dot(J_a_inv, r_dot - np.dot(J_b, DH_prime))\n",
        "  M = np.vstack((M1, DH_prime))\n",
        "  q_dot = np.dot(T.T, M)\n",
        "  print(\"\\nThe solution q_dot is:\\n\", q_dot)\n",
        "  return q_dot"
      ],
      "metadata": {
        "id": "7omytKc-kfR5"
      },
      "execution_count": null,
      "outputs": []
    },
    {
      "cell_type": "code",
      "source": [
        "# example RG\n",
        "# symbolic version midterm 29-03-2017\n",
        "\n",
        "l = sp.symbols('l')\n",
        "s1 = sp.sin('q1')\n",
        "s2 = sp.sin('q2')\n",
        "s3 = sp.sin('q3')\n",
        "s12 = sp.sin('q1+q2')\n",
        "s123 = sp.sin('q1+q2+q3')\n",
        "c1 = sp.cos('q1')\n",
        "c2 = sp.cos('q2')\n",
        "c3 = sp.cos('q3')\n",
        "c12 = sp.cos('q1+q2')\n",
        "c123 = sp.cos('q1+q2+q3')\n",
        "\n",
        "J = sp.Matrix([\n",
        "    [-l*(s1+s12+s123), -l*(s12+s123), -l*s123],\n",
        "    [l*(c1+c12+c123), l*(c12+c123), l*c123]\n",
        "])\n",
        "\n",
        "values = {'l':1, 'q1':np.pi/2, 'q2':np.pi/3, 'q3':-2*np.pi/3}\n",
        "q1 = sp.symbols('q1')\n",
        "q2 = sp.symbols('q2')\n",
        "q3 = sp.symbols('q3')\n",
        "variables = (q1, q2, q3)\n",
        "H = s2**2 + s3**2\n",
        "r_dot = np.array([[1], [-np.sqrt(3)]])\n",
        "q_dot = reduced_gradient(J, H, r_dot, values, variables)"
      ],
      "metadata": {
        "colab": {
          "base_uri": "https://localhost:8080/"
        },
        "id": "v6ou4Pbn1tGu",
        "outputId": "8b597ab0-aa4e-4adb-c301-6c96577b9cc9"
      },
      "execution_count": null,
      "outputs": [
        {
          "output_type": "stream",
          "name": "stdout",
          "text": [
            "\n",
            "Starting J:\n",
            " Matrix([[-l*(sin(q1) + sin(q1 + q2) + sin(q1 + q2 + q3)), -l*(sin(q1 + q2) + sin(q1 + q2 + q3)), -l*sin(q1 + q2 + q3)], [l*(cos(q1) + cos(q1 + q2) + cos(q1 + q2 + q3)), l*(cos(q1 + q2) + cos(q1 + q2 + q3)), l*cos(q1 + q2 + q3)]])\n",
            "\n",
            "H:\n",
            " sin(q2)**2 + sin(q3)**2\n",
            "\n",
            "Values:\n",
            " {'l': 1, 'q1': 1.5707963267948966, 'q2': 1.0471975511965976, 'q3': -2.0943951023931953}\n",
            "\n",
            "Is J symbolic? (Y/N): Y\n",
            "[0, 2, 1]\n",
            "\n",
            "T:\n",
            " [[1. 0. 0.]\n",
            " [0. 0. 1.]\n",
            " [0. 1. 0.]]\n",
            "Choosen q_a: ['q1', 'q3']\n",
            "Remaining q_b: ['q2']\n",
            "\n",
            "J_a is:\n",
            " [[-2.    -0.5  ]\n",
            " [ 0.     0.866]]\n",
            "\n",
            "J_b is:\n",
            " [[-1.]\n",
            " [ 0.]]\n",
            "\n",
            "Is H symbolic? (Y/N): Y\n",
            "\n",
            "Gradient of H:\n",
            " Matrix([[0], [2*sin(q2)*cos(q2)], [2*sin(q3)*cos(q3)]])\n",
            "\n",
            "Valued gradient of H:\n",
            " [[0.   ]\n",
            " [0.866]\n",
            " [0.866]]\n",
            "\n",
            "The reduced gradient is:\n",
            " [[0.866]]\n",
            "\n",
            "The solution q_dot is:\n",
            " [[-0.43298533]\n",
            " [ 0.866     ]\n",
            " [-2.00005867]]\n"
          ]
        }
      ]
    },
    {
      "cell_type": "markdown",
      "source": [
        "## Task Augmentation"
      ],
      "metadata": {
        "id": "XA5x_DvYQ9ET"
      }
    },
    {
      "cell_type": "code",
      "source": [
        "\"\"\"\n",
        "- J is the starting jacobian\n",
        "- l is a list containing as first element the direct kinematics f (or None)\n",
        "  and as second element the augmented jacobian (or None)\n",
        "- r_dot is the task velocity\n",
        "- values is a dictionary with keys the variables and values the values to give\n",
        "  to those variables\n",
        "- variables is a n-ple containing variables defined as symbols\n",
        "\"\"\"\n",
        "\n",
        "def task_augmentation(J, l, r_dot, values, variables):\n",
        "  print(\"\\nStarting J:\\n\", J)\n",
        "  f = l[0]\n",
        "  if f == None:\n",
        "    J_a = l[1]\n",
        "  else:\n",
        "    J_a = sp.Matrix([sp.diff(f, var) for var in variables])\n",
        "\n",
        "  print(\"\\nAugmented J:\\n\", J_a)\n",
        "  print(\"\\nDesired velocity:\\n\", r_dot)\n",
        "\n",
        "  check = input(\"\\nIs J symbolic? (Y/N): \")\n",
        "  if check == 'Y':\n",
        "    J = np.round(np.array(J.subs(values)).astype(np.float64), 3)\n",
        "\n",
        "  check = input(\"\\nIs J_a symbolic? (Y/N): \")\n",
        "  if check == 'Y':\n",
        "    J_a = np.round(np.array(J_a.subs(values)).astype(np.float64), 3)\n",
        "\n",
        "  J_final = np.vstack((J, J_a))\n",
        "  print(\"\\nFinal J:\\n\", J_final)\n",
        "\n",
        "  m,n = J_final.shape\n",
        "  if m==n:\n",
        "    det = np.linalg.det(J_final)\n",
        "    if det != 0:\n",
        "      print(\"\\nThe final jacobian is non-singular...\\n\")\n",
        "      q_dot = np.dot(np.linalg.inv(J_final), r_dot)\n",
        "      print(\"\\nThe solution q_dot is:\\n\", q_dot)\n",
        "  else:\n",
        "    J_p = np.linalg.pinv(J_final)\n",
        "    q_dot = np.dot(J_p, r_dot)\n",
        "    print(\"\\nThe final Jacobian is singular...\\n\")\n",
        "    print(\"\\nThe solution q_dot using the pseudoinverse is:\\n\", q_dot)\n",
        "\n",
        "  return q_dot"
      ],
      "metadata": {
        "id": "K_Pju4iUQ_-j"
      },
      "execution_count": null,
      "outputs": []
    },
    {
      "cell_type": "code",
      "source": [
        "# example TA\n",
        "\n",
        "l = sp.symbols('l')\n",
        "s1 = sp.sin('q1')\n",
        "s2 = sp.sin('q2')\n",
        "s3 = sp.sin('q3')\n",
        "s12 = sp.sin('q1+q2')\n",
        "s123 = sp.sin('q1+q2+q3')\n",
        "c1 = sp.cos('q1')\n",
        "c2 = sp.cos('q2')\n",
        "c3 = sp.cos('q3')\n",
        "c12 = sp.cos('q1+q2')\n",
        "c123 = sp.cos('q1+q2+q3')\n",
        "\n",
        "J = sp.Matrix([\n",
        "    [-l*(s1+s12+s123), -l*(s12+s123), -l*s123],\n",
        "    [l*(c1+c12+c123), l*(c12+c123), l*c123]\n",
        "])\n",
        "\n",
        "J_a = sp.Matrix([\n",
        "    [-3*l*(c1+c12), -2*l**2*s2-3*l*c12, 0],\n",
        "])\n",
        "\n",
        "l = [None, J_a]\n",
        "\n",
        "values = {'l':1, 'q1':np.pi/2, 'q2':np.pi/3, 'q3':-2*np.pi/3}\n",
        "q1 = sp.symbols('q1')\n",
        "q2 = sp.symbols('q2')\n",
        "q3 = sp.symbols('q3')\n",
        "variables = (q1, q2, q3)\n",
        "\n",
        "r_dot = np.array([[1], [-np.sqrt(3)], [0]])\n",
        "q_dot = task_augmentation(J, l, r_dot, values, variables)"
      ],
      "metadata": {
        "colab": {
          "base_uri": "https://localhost:8080/"
        },
        "id": "Hxh7iuk62khy",
        "outputId": "433cad77-344d-468a-f096-dc359779e336"
      },
      "execution_count": null,
      "outputs": [
        {
          "output_type": "stream",
          "name": "stdout",
          "text": [
            "\n",
            "Starting J:\n",
            " Matrix([[-l*(sin(q1) + sin(q1 + q2) + sin(q1 + q2 + q3)), -l*(sin(q1 + q2) + sin(q1 + q2 + q3)), -l*sin(q1 + q2 + q3)], [l*(cos(q1) + cos(q1 + q2) + cos(q1 + q2 + q3)), l*(cos(q1 + q2) + cos(q1 + q2 + q3)), l*cos(q1 + q2 + q3)]])\n",
            "\n",
            "Augmented J:\n",
            " Matrix([[-3*l*(cos(q1) + cos(q1 + q2)), -2*l**2*sin(q2) - 3*l*cos(q1 + q2), 0]])\n",
            "\n",
            "Desired velocity:\n",
            " [[ 1.        ]\n",
            " [-1.73205081]\n",
            " [ 0.        ]]\n",
            "\n",
            "Is J symbolic? (Y/N): Y\n",
            "\n",
            "Is J_a symbolic? (Y/N): Y\n",
            "\n",
            "Final J:\n",
            " [[-2.    -1.    -0.5  ]\n",
            " [ 0.     0.     0.866]\n",
            " [ 2.598  0.866  0.   ]]\n",
            "\n",
            "The final jacobian is non-singular...\n",
            "\n",
            "\n",
            "The solution q_dot is:\n",
            " [[-2.93346241e-05]\n",
            " [ 8.80038722e-05]\n",
            " [-2.00005867e+00]]\n"
          ]
        }
      ]
    },
    {
      "cell_type": "code",
      "source": [
        "\"\"\"\n",
        "J1 and J2 are assumed to be numerically defined\n",
        "as well as r1_dot, r2_dot and v2\n",
        "\"\"\"\n",
        "def TA_priority(J1, J2, r1_dot, r2_dot, v2, values):\n",
        "  check = input(\"\\nIs J1 symbolic? (Y/N): \")\n",
        "  if check == 'Y':\n",
        "    J1 = np.round(np.array(J1.subs(values)).astype(np.float64), 3)\n",
        "\n",
        "  check = input(\"\\nIs J2 symbolic? (Y/N): \")\n",
        "  if check == 'Y':\n",
        "    J2 = np.round(np.array(J2.subs(values)).astype(np.float64), 3)\n",
        "\n",
        "  J1_p = np.linalg.pinv(J1)\n",
        "  J2_p = np.linalg.pinv(J2)\n",
        "  m,n = J1.shape\n",
        "\n",
        "  I = np.identity(n)\n",
        "  P1 = I-np.dot(J1_p, J1)\n",
        "  J2P1 = np.dot(J2, P1)\n",
        "  J2P1_p = np.linalg.pinv(np.dot(J2, P1))\n",
        "  v1_1 = np.dot(J2P1_p, r2_dot-np.dot(np.dot(J2, J1_p), r1_dot))\n",
        "  v1_2 = np.dot(I-np.dot(J2P1_p, J2P1), v2)\n",
        "  v1 = v1_1+v1_2\n",
        "  q_dot = np.dot(J1_p, r1_dot) + np.dot(P1, v1)\n",
        "  print(\"\\nThe solution q_dot is:\\n\", q_dot)\n",
        "  return q_dot"
      ],
      "metadata": {
        "id": "k91ktxWpWY9h"
      },
      "execution_count": null,
      "outputs": []
    },
    {
      "cell_type": "code",
      "source": [
        "# example TA with priority\n",
        "\n",
        "# example TA\n",
        "\n",
        "l = sp.symbols('l')\n",
        "s1 = sp.sin('q1')\n",
        "s2 = sp.sin('q2')\n",
        "s3 = sp.sin('q3')\n",
        "s12 = sp.sin('q1+q2')\n",
        "s123 = sp.sin('q1+q2+q3')\n",
        "c1 = sp.cos('q1')\n",
        "c2 = sp.cos('q2')\n",
        "c3 = sp.cos('q3')\n",
        "c12 = sp.cos('q1+q2')\n",
        "c123 = sp.cos('q1+q2+q3')\n",
        "\n",
        "J1 = sp.Matrix([\n",
        "    [-l*(s1+s12+s123), -l*(s12+s123), -l*s123],\n",
        "    [l*(c1+c12+c123), l*(c12+c123), l*c123]\n",
        "])\n",
        "\n",
        "J2 = sp.Matrix([\n",
        "    [-3*l*(c1+c12), -2*l**2*s2-3*l*c12, 0],\n",
        "    [-3*l*(s1+s12), -2*l**2*c2-3*l*s12, 0]\n",
        "])\n",
        "\n",
        "\n",
        "values = {'l':1, 'q1':np.pi/2, 'q2':np.pi/3, 'q3':-2*np.pi/3}\n",
        "q1 = sp.symbols('q1')\n",
        "q2 = sp.symbols('q2')\n",
        "q3 = sp.symbols('q3')\n",
        "variables = (q1, q2, q3)\n",
        "\n",
        "r1_dot = np.array([[1], [-np.sqrt(3)]])\n",
        "r2_dot = np.array([[1], [-np.sqrt(3)]])\n",
        "\n",
        "\n",
        "q_dot = TA_priority(J1, J2, r1_dot, r2_dot, 0, values)"
      ],
      "metadata": {
        "colab": {
          "base_uri": "https://localhost:8080/"
        },
        "id": "mnMJgoBB7kU-",
        "outputId": "5f874ff6-919d-43ab-be7e-233462396804"
      },
      "execution_count": null,
      "outputs": [
        {
          "output_type": "stream",
          "name": "stdout",
          "text": [
            "\n",
            "Is J1 symbolic? (Y/N): Y\n",
            "\n",
            "Is J2 symbolic? (Y/N): Y\n",
            "\n",
            "The solution q_dot is:\n",
            " [[ 0.43717602  0.43717602  0.43717602]\n",
            " [-0.12055827 -0.12055827 -0.12055827]\n",
            " [-1.95788775 -1.95788775 -1.95788775]]\n"
          ]
        }
      ]
    },
    {
      "cell_type": "code",
      "source": [
        "# TO DO: generalized (recursive) version of task priority"
      ],
      "metadata": {
        "id": "kwyaDVdibBld"
      },
      "execution_count": null,
      "outputs": []
    },
    {
      "cell_type": "markdown",
      "source": [
        "# Redundancy: acceleration level"
      ],
      "metadata": {
        "id": "47IWNfNw8iLG"
      }
    },
    {
      "cell_type": "code",
      "source": [
        "def acceleration_redundancy(J, J_dot, q, q_dot, q_double_dot_zero, r_doubledot, values, variables):\n",
        "  print(\"\\nStarting J:\\n\", J)\n",
        "  print(\"\\nStarting q:\\n\", q)\n",
        "  print(\"\\nStarting q_dot:\\n\", q_dot)\n",
        "  print(\"\\nPreferred acceleration:\\n\", q_double_dot_zero)\n",
        "\n",
        "  check_J = input(\"Is J symbolic? (Y/N): \")\n",
        "  if check_J=='Y':\n",
        "    J = np.round(np.array(J.subs(values)).astype(np.float64), 3)\n",
        "\n",
        "  m,n = J.shape\n",
        "  x_double_dot = r_doubledot - np.dot(J_dot, q_dot)\n",
        "  I = np.identity(m)\n",
        "  J_p = np.linalg.pinv(J)\n",
        "  projection = I-np.dot(J_p, J)\n",
        "\n",
        "  # solution\n",
        "  q_double_dot = np.dot(J_p, x_double_dot) + np.dot(projection, q_double_dot_zero)\n",
        "  print(\"\\nThe solution q_double_dot is:\\n\", q_double_dot)\n",
        "  return q_double_dot"
      ],
      "metadata": {
        "id": "kp88aHIJ8nIL"
      },
      "execution_count": null,
      "outputs": []
    },
    {
      "cell_type": "code",
      "source": [
        "# TO DO\n",
        "def dynamic_redundancy_res():\n",
        "  # first method\n",
        "  typ = input(\"Do you want to solve with minimum torque norm solution? (Y/n): \")\n",
        "  if typ == 'Y':\n",
        "    pass\n",
        "  else:\n",
        "    # second method\n",
        "    typ = input(\"Do you want to solve with minimum torque norm solution using Squared Inverse Inertia Matrix? (Y/n): \")\n",
        "    if typ == 'Y':\n",
        "      pass\n",
        "    else:\n",
        "      # third method\n",
        "      typ = input(\"Do you want to solve with minimum torque norm solution using Inverse Inertia Matrix? (Y/n): \")\n",
        "      if typ == 'Y':\n",
        "        pass\n",
        "\n",
        "  return"
      ],
      "metadata": {
        "id": "u8D1-7hu_jKH"
      },
      "execution_count": null,
      "outputs": []
    },
    {
      "cell_type": "markdown",
      "source": [
        "# SNS"
      ],
      "metadata": {
        "id": "GCqB0zWaC8Qw"
      }
    },
    {
      "cell_type": "code",
      "source": [
        "# this solution doesn't provide the scaling factor\n",
        "# it stops the search in the null space when there's no violeted boundary\n",
        "\n",
        "def SNS(J, q_bounds, v):\n",
        "\n",
        "  print(\"\\nWARNING: Indexes rely on the updated version of J and q_dot, not the original one!!!\")\n",
        "\n",
        "  print(\"\\nStarting J:\\n\", J)\n",
        "  print(\"\\nVelocity bounds:\\n\", q_bounds)\n",
        "  print(\"\\nPreferred velocity:\\n\", v)\n",
        "\n",
        "  m,n = J.shape\n",
        "\n",
        "  v_new = np.zeros((m,1))\n",
        "  q_dot = np.dot(np.linalg.pinv(J), v)\n",
        "\n",
        "  fault = True\n",
        "\n",
        "  while fault != False:\n",
        "    errors = []\n",
        "\n",
        "    print(\"\\nq_dot:\\n\", q_dot)\n",
        "\n",
        "    for i in range(len(q_bounds)):\n",
        "      if i < len(q_bounds):\n",
        "        q_max = q_bounds[i]\n",
        "        q_min = -q_bounds[i]\n",
        "        if q_dot[i]>q_max:\n",
        "          errors.append(i+1)\n",
        "          print(f\"\\nJoint {i+1} disrespects the max bounds...\\nJOINT {i+1} will have velocity {q_bounds[i+1]}\")\n",
        "          q_bounds.pop(i)\n",
        "          Ji = J[:,i:i+1]\n",
        "          v_new = v - Ji * q_max\n",
        "          print(\"\\nNew velocity v =\\n\", v_new)\n",
        "          J_i = np.delete(J, i, axis = 1)\n",
        "          q_dot_new = np.dot(np.linalg.pinv(J_i), v_new)\n",
        "          print(\"\\nNew q_dot:\\n\", q_dot_new)\n",
        "\n",
        "        elif q_dot[i] < q_min:\n",
        "          errors.append(i+1)\n",
        "          print(f\"\\nJoint {i+1} disrespects the min bounds...\\nJOINT {i+1} will have velocity {q_bounds[i+1]}\")\n",
        "          q_bounds.pop(i)\n",
        "          Ji = J[:,i:i+1]\n",
        "          v_new = v - Ji * q_min\n",
        "          print(\"\\nNew velocity v =\\n\", v_new)\n",
        "          J_i = np.delete(J, i, axis = 1)\n",
        "          q_dot_new = np.dot(np.linalg.pinv(J_i), v_new)\n",
        "          print(\"\\nNew q_dot:\\n\", q_dot_new)\n",
        "\n",
        "\n",
        "    if len(errors) == 0:\n",
        "      print(\"\\nNo other violations...\\nEXIT\")\n",
        "      fault = False\n",
        "\n",
        "\n",
        "    v = v_new\n",
        "    q_dot = q_dot_new\n",
        "    J = J_i\n",
        "\n",
        "  return"
      ],
      "metadata": {
        "id": "fa55I3rvG0sE"
      },
      "execution_count": null,
      "outputs": []
    },
    {
      "cell_type": "code",
      "source": [
        "# midterm 29-03-2017\n",
        "J = np.array([\n",
        "    [0,0, 0, 0],\n",
        "    [2, 1.5, 1, 0.5]\n",
        "])\n",
        "\n",
        "\n",
        "v = np.array([\n",
        "    [0],\n",
        "    [10]\n",
        "])\n",
        "\n",
        "q_bounds = [4, 2, 1, 1]\n",
        "\n",
        "sol = SNS(J, q_bounds, v)"
      ],
      "metadata": {
        "colab": {
          "base_uri": "https://localhost:8080/"
        },
        "id": "F0hBwtyOI8D0",
        "outputId": "7962a3e1-27b9-42d3-f928-cbef7462baa6"
      },
      "execution_count": null,
      "outputs": [
        {
          "output_type": "stream",
          "name": "stdout",
          "text": [
            "\n",
            "WARNING: Indexes rely on the updated version of J and q_dot, not the original one!!!\n",
            "\n",
            "Starting J:\n",
            " [[0.  0.  0.  0. ]\n",
            " [2.  1.5 1.  0.5]]\n",
            "\n",
            "Velocity bounds:\n",
            " [4, 2, 1, 1]\n",
            "\n",
            "Preferred velocity:\n",
            " [[ 0]\n",
            " [10]]\n",
            "\n",
            "q_dot:\n",
            " [[2.66666667]\n",
            " [2.        ]\n",
            " [1.33333333]\n",
            " [0.66666667]]\n",
            "\n",
            "Joint 3 disrespects the max bounds...\n",
            "JOINT 3 will have velocity 1\n",
            "\n",
            "New velocity v =\n",
            " [[0.]\n",
            " [9.]]\n",
            "\n",
            "New q_dot:\n",
            " [[2.76923077]\n",
            " [2.07692308]\n",
            " [0.69230769]]\n",
            "\n",
            "q_dot:\n",
            " [[2.76923077]\n",
            " [2.07692308]\n",
            " [0.69230769]]\n",
            "\n",
            "Joint 2 disrespects the max bounds...\n",
            "JOINT 2 will have velocity 1\n",
            "\n",
            "New velocity v =\n",
            " [[0.]\n",
            " [6.]]\n",
            "\n",
            "New q_dot:\n",
            " [[2.82352941]\n",
            " [0.70588235]]\n",
            "\n",
            "q_dot:\n",
            " [[2.82352941]\n",
            " [0.70588235]]\n",
            "\n",
            "No other violations...\n",
            "EXIT\n"
          ]
        }
      ]
    },
    {
      "cell_type": "code",
      "source": [
        "# exam 5-06-2020\n",
        "J = np.array([\n",
        "    [-1,-1, -0.5],\n",
        "    [-0.366, -0.866, -0.866]\n",
        "])\n",
        "\n",
        "\n",
        "v = np.array([\n",
        "    [2],\n",
        "    [1]\n",
        "])\n",
        "\n",
        "\n",
        "q_bounds = [1,1.5, 2]\n",
        "\n",
        "sol = SNS(J, q_bounds, v)"
      ],
      "metadata": {
        "colab": {
          "base_uri": "https://localhost:8080/"
        },
        "id": "Vpvo00t76Hq1",
        "outputId": "b29c6e32-48a7-4545-d852-2fed6ad7ff7d"
      },
      "execution_count": null,
      "outputs": [
        {
          "output_type": "stream",
          "name": "stdout",
          "text": [
            "\n",
            "WARNING: Indexes rely on the updated version of J and q_dot, not the original one!!!\n",
            "\n",
            "Starting J:\n",
            " [[-1.    -1.    -0.5  ]\n",
            " [-0.366 -0.866 -0.866]]\n",
            "\n",
            "Velocity bounds:\n",
            " [1, 1.5, 2]\n",
            "\n",
            "Preferred velocity:\n",
            " [[2]\n",
            " [1]]\n",
            "\n",
            "q_dot:\n",
            " [[-1.33571392]\n",
            " [-0.73835425]\n",
            " [ 0.14813635]]\n",
            "\n",
            "Joint 1 disrespects the min bounds...\n",
            "JOINT 1 will have velocity 1.5\n",
            "\n",
            "New velocity v =\n",
            " [[1.   ]\n",
            " [0.634]]\n",
            "\n",
            "New q_dot:\n",
            " [[-1.26789838]\n",
            " [ 0.53579677]]\n",
            "\n",
            "q_dot:\n",
            " [[-1.26789838]\n",
            " [ 0.53579677]]\n",
            "\n",
            "No other violations...\n",
            "EXIT\n"
          ]
        }
      ]
    },
    {
      "cell_type": "markdown",
      "source": [
        "# DH: utils"
      ],
      "metadata": {
        "id": "ZUR2m8VdXmrl"
      }
    },
    {
      "cell_type": "code",
      "source": [
        "# this function creates a simulation of the table\n",
        "\"\"\"\n",
        "- alpha is a list of values alpha\n",
        "- a is a list of values a\n",
        "- d is a list of values/variables d\n",
        "- theta is a list of values theta\n",
        "\"\"\"\n",
        "\n",
        "def create_DH_table(alpha, a, d, theta):\n",
        "  dh = {'alpha': alpha, 'a': a, 'd': d, 'theta': theta}\n",
        "  for i in range(len(dh['alpha'])):\n",
        "    print(f\"i = {i+1}\\nalpha = {dh['alpha'][i]}\\na = {dh['a'][i]}\\nd = {dh['d'][i]}\\ntheta = {dh['theta'][i]}\")\n",
        "    print()\n",
        "  return dh"
      ],
      "metadata": {
        "id": "CnWC26qqXJGS"
      },
      "execution_count": null,
      "outputs": []
    },
    {
      "cell_type": "code",
      "source": [
        "# example of usage\n",
        "dh = create_DH_table([-np.pi/2, np.pi/2, 0], [0,0,sp.symbols('dc3')],[sp.symbols('q1'),sp.symbols('l2'),0], [0, sp.symbols('q2'), sp.symbols('q3')])"
      ],
      "metadata": {
        "colab": {
          "base_uri": "https://localhost:8080/"
        },
        "id": "rJjfAK87Xorc",
        "outputId": "44f59e11-4d5a-4596-ff8b-1f928171062d"
      },
      "execution_count": null,
      "outputs": [
        {
          "output_type": "stream",
          "name": "stdout",
          "text": [
            "i = 1\n",
            "alpha = -1.5707963267948966\n",
            "a = 0\n",
            "d = q1\n",
            "theta = 0\n",
            "\n",
            "i = 2\n",
            "alpha = 1.5707963267948966\n",
            "a = 0\n",
            "d = l2\n",
            "theta = q2\n",
            "\n",
            "i = 3\n",
            "alpha = 0\n",
            "a = dc3\n",
            "d = 0\n",
            "theta = q3\n",
            "\n"
          ]
        }
      ]
    },
    {
      "cell_type": "code",
      "source": [
        "# example of usage\n",
        "dh = create_DH_table([np.pi/2, 0, 0], [0,sp.symbols('a2'),sp.symbols('a3')],[0,0,0], [sp.symbols('q1'), sp.symbols('q2'), sp.symbols('q3')])"
      ],
      "metadata": {
        "colab": {
          "base_uri": "https://localhost:8080/"
        },
        "id": "q9_09eb8wHAS",
        "outputId": "368d8276-dd8c-43b3-ea7a-21aad8815535"
      },
      "execution_count": null,
      "outputs": [
        {
          "output_type": "stream",
          "name": "stdout",
          "text": [
            "i = 1\n",
            "alpha = 1.5707963267948966\n",
            "a = 0\n",
            "d = 0\n",
            "theta = q1\n",
            "\n",
            "i = 2\n",
            "alpha = 0\n",
            "a = a2\n",
            "d = 0\n",
            "theta = q2\n",
            "\n",
            "i = 3\n",
            "alpha = 0\n",
            "a = a3\n",
            "d = 0\n",
            "theta = q3\n",
            "\n"
          ]
        }
      ]
    },
    {
      "cell_type": "code",
      "source": [
        "# example of usage\n",
        "dh = create_DH_table([0, 0], [0,sp.symbols('d2')],[sp.symbols('q1'), 0], [0, sp.symbols('q2')])"
      ],
      "metadata": {
        "colab": {
          "base_uri": "https://localhost:8080/"
        },
        "id": "8p8hmuK6tr1y",
        "outputId": "bafdae40-06d3-44e6-8232-03a7a0c38d37"
      },
      "execution_count": null,
      "outputs": [
        {
          "output_type": "stream",
          "name": "stdout",
          "text": [
            "i = 1\n",
            "alpha = 0\n",
            "a = 0\n",
            "d = q1\n",
            "theta = 0\n",
            "\n",
            "i = 2\n",
            "alpha = 0\n",
            "a = d2\n",
            "d = 0\n",
            "theta = q2\n",
            "\n"
          ]
        }
      ]
    },
    {
      "cell_type": "code",
      "source": [
        "# example of usage\n",
        "dh = create_DH_table([0, 0, 0, 0], [sp.symbols('l1'),sp.symbols('l2'),sp.symbols('l3'), sp.symbols('l4')],[0, 0,0,0], [sp.symbols('q1'), sp.symbols('q2'), sp.symbols('q3'),sp.symbols('q4')])"
      ],
      "metadata": {
        "colab": {
          "base_uri": "https://localhost:8080/"
        },
        "id": "K-4LfRKdDof1",
        "outputId": "dffcb6e6-0cc7-4cf7-e569-b2f2e917b38f"
      },
      "execution_count": null,
      "outputs": [
        {
          "output_type": "stream",
          "name": "stdout",
          "text": [
            "i = 1\n",
            "alpha = 0\n",
            "a = l1\n",
            "d = 0\n",
            "theta = q1\n",
            "\n",
            "i = 2\n",
            "alpha = 0\n",
            "a = l2\n",
            "d = 0\n",
            "theta = q2\n",
            "\n",
            "i = 3\n",
            "alpha = 0\n",
            "a = l3\n",
            "d = 0\n",
            "theta = q3\n",
            "\n",
            "i = 4\n",
            "alpha = 0\n",
            "a = l4\n",
            "d = 0\n",
            "theta = q4\n",
            "\n"
          ]
        }
      ]
    },
    {
      "cell_type": "code",
      "source": [
        "# this function creates the matrix with alpha_i, a_i, d_i, theta_i\n",
        "def create_DH_matrix(i, alpha, a, d, theta):\n",
        "  threshold = 1e-10\n",
        "\n",
        "  A_00 = sp.cos(theta)\n",
        "  A_010 = sp.cos(alpha)\n",
        "  A_011 = sp.sin(theta)\n",
        "  A_020 = sp.sin(alpha)\n",
        "  A_021 = sp.sin(theta)\n",
        "  A_120 = sp.cos(alpha)\n",
        "\n",
        "  if A_00.is_number:\n",
        "    if A_00 < threshold:\n",
        "      A_00 = 0\n",
        "\n",
        "  if A_010.is_number:\n",
        "    if abs(A_010) < threshold:\n",
        "      A_010 = 0\n",
        "\n",
        "  if A_011.is_number:\n",
        "    if abs(A_011) < threshold:\n",
        "      A_011 = 0\n",
        "\n",
        "  if A_020.is_number:\n",
        "    if abs(A_020) < threshold:\n",
        "      A_020 = 0\n",
        "\n",
        "\n",
        "  if A_021.is_number:\n",
        "    if abs(A_021) < threshold:\n",
        "      A_021 = 0\n",
        "\n",
        "  if A_120.is_number:\n",
        "    if abs(A_120) < threshold:\n",
        "      A_120 = 0\n",
        "\n",
        "  A_i = np.array([\n",
        "      [A_00, -A_010*A_011, A_020*A_021, sp.simplify(a)*A_00],\n",
        "      [A_011, A_010*A_00, -A_020*A_00, sp.simplify(a)*A_011],\n",
        "      [0, A_020, A_120, sp.simplify(d)],\n",
        "      [0, 0, 0, 1]\n",
        "  ])\n",
        "\n",
        "  R_i = A_i[:3, :3]\n",
        "  last_column = A_i[:,-1]\n",
        "  r_i = last_column[:3].reshape(-1,1)\n",
        "\n",
        "  print(A_i)\n",
        "  print()\n",
        "  return A_i, R_i, r_i\n",
        "\n",
        "def define_all_matrices(N_joints, dh):\n",
        "  A = []\n",
        "  R = []\n",
        "  r = []\n",
        "  for i in range(N_joints):\n",
        "    print(f\"\\nMatrix A associated to RF{i+1} wrt RF{i}\\n\")\n",
        "    A_i, R_i, r_i = create_DH_matrix(i, dh['alpha'][i], dh['a'][i], dh['d'][i], dh['theta'][i])\n",
        "    A.append(A_i)\n",
        "    R.append(R_i)\n",
        "    r.append(r_i)\n",
        "  return A, R, r"
      ],
      "metadata": {
        "id": "UNk7iPh_XvJ8"
      },
      "execution_count": null,
      "outputs": []
    },
    {
      "cell_type": "code",
      "source": [
        "# example: determine each A of frames\n",
        "A, R, r = define_all_matrices(3, dh)"
      ],
      "metadata": {
        "colab": {
          "base_uri": "https://localhost:8080/"
        },
        "id": "hGax5OtIX114",
        "outputId": "124d16c8-528d-4d26-ce78-15ae6a7304b1"
      },
      "execution_count": null,
      "outputs": [
        {
          "output_type": "stream",
          "name": "stdout",
          "text": [
            "\n",
            "Matrix A associated to RF1 wrt RF0\n",
            "\n",
            "[[1 0 0 0]\n",
            " [0 0 1.00000000000000 0]\n",
            " [0 -1.00000000000000 0 q1]\n",
            " [0 0 0 1]]\n",
            "\n",
            "\n",
            "Matrix A associated to RF2 wrt RF1\n",
            "\n",
            "[[cos(q2) 0 1.0*sin(q2) 0]\n",
            " [sin(q2) 0 -1.0*cos(q2) 0]\n",
            " [0 1.00000000000000 0 l2]\n",
            " [0 0 0 1]]\n",
            "\n",
            "\n",
            "Matrix A associated to RF3 wrt RF2\n",
            "\n",
            "[[cos(q3) -sin(q3) 0 dc3*cos(q3)]\n",
            " [sin(q3) cos(q3) 0 dc3*sin(q3)]\n",
            " [0 0 1 0]\n",
            " [0 0 0 1]]\n",
            "\n"
          ]
        }
      ]
    },
    {
      "cell_type": "code",
      "source": [
        "# example: determine each A of frames\n",
        "A, R, r = define_all_matrices(3, dh)"
      ],
      "metadata": {
        "colab": {
          "base_uri": "https://localhost:8080/"
        },
        "id": "ioz0TD9lwgHf",
        "outputId": "24b6a008-551b-41b2-ef73-368d7a1ef21d"
      },
      "execution_count": null,
      "outputs": [
        {
          "output_type": "stream",
          "name": "stdout",
          "text": [
            "\n",
            "Matrix A associated to RF1 wrt RF0\n",
            "\n",
            "[[cos(q1) 0 1.0*sin(q1) 0]\n",
            " [sin(q1) 0 -1.0*cos(q1) 0]\n",
            " [0 1.00000000000000 0 0]\n",
            " [0 0 0 1]]\n",
            "\n",
            "\n",
            "Matrix A associated to RF2 wrt RF1\n",
            "\n",
            "[[cos(q2) -sin(q2) 0 a2*cos(q2)]\n",
            " [sin(q2) cos(q2) 0 a2*sin(q2)]\n",
            " [0 0 1 0]\n",
            " [0 0 0 1]]\n",
            "\n",
            "\n",
            "Matrix A associated to RF3 wrt RF2\n",
            "\n",
            "[[cos(q3) -sin(q3) 0 a3*cos(q3)]\n",
            " [sin(q3) cos(q3) 0 a3*sin(q3)]\n",
            " [0 0 1 0]\n",
            " [0 0 0 1]]\n",
            "\n"
          ]
        }
      ]
    },
    {
      "cell_type": "code",
      "source": [
        "# example: determine each A of frames\n",
        "A, R, r = define_all_matrices(2, dh)"
      ],
      "metadata": {
        "colab": {
          "base_uri": "https://localhost:8080/"
        },
        "id": "taX0lKKGt9ZS",
        "outputId": "12ee49c6-e68a-4db1-b241-c5d98f0c16f7"
      },
      "execution_count": null,
      "outputs": [
        {
          "output_type": "stream",
          "name": "stdout",
          "text": [
            "\n",
            "Matrix A associated to RF1 wrt RF0\n",
            "\n",
            "[[1 0 0 0]\n",
            " [0 1 0 0]\n",
            " [0 0 1 q1]\n",
            " [0 0 0 1]]\n",
            "\n",
            "\n",
            "Matrix A associated to RF2 wrt RF1\n",
            "\n",
            "[[cos(q2) -sin(q2) 0 d2*cos(q2)]\n",
            " [sin(q2) cos(q2) 0 d2*sin(q2)]\n",
            " [0 0 1 0]\n",
            " [0 0 0 1]]\n",
            "\n"
          ]
        }
      ]
    },
    {
      "cell_type": "code",
      "source": [
        "# example: determine each A of frames\n",
        "A, R, r = define_all_matrices(4, dh)"
      ],
      "metadata": {
        "colab": {
          "base_uri": "https://localhost:8080/"
        },
        "id": "T66WcVEKD06r",
        "outputId": "17c747e5-c627-4b07-91df-441dae151054"
      },
      "execution_count": null,
      "outputs": [
        {
          "output_type": "stream",
          "name": "stdout",
          "text": [
            "\n",
            "Matrix A associated to RF1 wrt RF0\n",
            "\n",
            "[[cos(q1) -sin(q1) 0 l1*cos(q1)]\n",
            " [sin(q1) cos(q1) 0 l1*sin(q1)]\n",
            " [0 0 1 0]\n",
            " [0 0 0 1]]\n",
            "\n",
            "\n",
            "Matrix A associated to RF2 wrt RF1\n",
            "\n",
            "[[cos(q2) -sin(q2) 0 l2*cos(q2)]\n",
            " [sin(q2) cos(q2) 0 l2*sin(q2)]\n",
            " [0 0 1 0]\n",
            " [0 0 0 1]]\n",
            "\n",
            "\n",
            "Matrix A associated to RF3 wrt RF2\n",
            "\n",
            "[[cos(q3) -sin(q3) 0 l3*cos(q3)]\n",
            " [sin(q3) cos(q3) 0 l3*sin(q3)]\n",
            " [0 0 1 0]\n",
            " [0 0 0 1]]\n",
            "\n",
            "\n",
            "Matrix A associated to RF4 wrt RF3\n",
            "\n",
            "[[cos(q4) -sin(q4) 0 l4*cos(q4)]\n",
            " [sin(q4) cos(q4) 0 l4*sin(q4)]\n",
            " [0 0 1 0]\n",
            " [0 0 0 1]]\n",
            "\n"
          ]
        }
      ]
    },
    {
      "cell_type": "code",
      "source": [
        "\"\"\"\n",
        "here there are some useful function to manage the homogenous matrices\n",
        "\"\"\"\n",
        "def compute_T(R, p):\n",
        "  r11 = R[0][0]\n",
        "  r12 = R[0][1]\n",
        "  r13 = R[0][2]\n",
        "  r21 = R[1][0]\n",
        "  r22 = R[1][1]\n",
        "  r23 = R[1][2]\n",
        "  r31 = R[2][0]\n",
        "  r32 = R[2][1]\n",
        "  r33 = R[2][2]\n",
        "\n",
        "  p1 = p[0]\n",
        "  p2 = p[1]\n",
        "  p3 = p[2]\n",
        "\n",
        "  T = np.array([\n",
        "      [r11, r12, r13, p1],\n",
        "      [r21, r22, r23, p2],\n",
        "      [r31, r32, r33, p3],\n",
        "      [0, 0, 0, 1]\n",
        "  ])\n",
        "\n",
        "  print(\"T matrix:\\n\", T)\n",
        "  return T\n",
        "\n",
        "\n",
        "def multiplications_of_T(T1, T2):\n",
        "  dim_T1 = T1.shape\n",
        "  dim_T2 = T2.shape\n",
        "  if (dim_T1 == dim_T2 and dim_T1[0]==4 and dim_T1[1] == 4) == False:\n",
        "    return \"Invalid dimensions\"\n",
        "  else:\n",
        "    T_res = np.dot(T1, T2)\n",
        "    return T_res\n",
        "\n",
        "def composition_of_T(list_of_T, Base, v):\n",
        "  if v==True:\n",
        "    list_of_T = [Base]+list_of_T  # added the multiplication with a base frame hom. matrix\n",
        "  n = len(list_of_T)\n",
        "  if n>0:\n",
        "    result = np.eye(list_of_T[0].shape[0])\n",
        "    for i in range(n):\n",
        "      result = multiplications_of_T(result, list_of_T[i])\n",
        "      result = sp.simplify(result)\n",
        "    for row in result:\n",
        "      print(sp.simplify(row))\n",
        "    return result\n",
        "  else:\n",
        "    return \"Empty List\""
      ],
      "metadata": {
        "id": "dAwrT6jiYe57"
      },
      "execution_count": null,
      "outputs": []
    },
    {
      "cell_type": "code",
      "source": [
        "# determine the result (chain of multiplications)\n",
        "\n",
        "result = composition_of_T(A, [], False)"
      ],
      "metadata": {
        "colab": {
          "base_uri": "https://localhost:8080/"
        },
        "id": "imCef2SVYUMA",
        "outputId": "e377b01f-ef4e-42f5-fa0f-b056a54dadb8"
      },
      "execution_count": null,
      "outputs": [
        {
          "output_type": "stream",
          "name": "stdout",
          "text": [
            "[1.0*cos(q2)*cos(q3), -1.0*sin(q3)*cos(q2), 1.0*sin(q2), 1.0*dc3*cos(q2)*cos(q3)]\n",
            "[1.0*sin(q3), 1.0*cos(q3), 0, 1.0*dc3*sin(q3) + 1.0*l2]\n",
            "[-1.0*sin(q2)*cos(q3), 1.0*sin(q2)*sin(q3), 1.0*cos(q2), -1.0*dc3*sin(q2)*cos(q3) + 1.0*q1]\n",
            "[0, 0, 0, 1.0]\n"
          ]
        }
      ]
    },
    {
      "cell_type": "code",
      "source": [
        "# determine the result (chain of multiplications)\n",
        "\n",
        "result = composition_of_T(A, [], False)"
      ],
      "metadata": {
        "colab": {
          "base_uri": "https://localhost:8080/"
        },
        "id": "h7J5_1MCw1KK",
        "outputId": "9ca11d49-805f-4d3f-c11c-bf90a1a0cd46"
      },
      "execution_count": null,
      "outputs": [
        {
          "output_type": "stream",
          "name": "stdout",
          "text": [
            "[1.0*cos(q1)*cos(q2 + q3), -1.0*sin(q2 + q3)*cos(q1), 1.0*sin(q1), 1.0*(a2*cos(q2) + a3*cos(q2 + q3))*cos(q1)]\n",
            "[1.0*sin(q1)*cos(q2 + q3), -1.0*sin(q1)*sin(q2 + q3), -1.0*cos(q1), 1.0*(a2*cos(q2) + a3*cos(q2 + q3))*sin(q1)]\n",
            "[1.0*sin(q2 + q3), 1.0*cos(q2 + q3), 0, 1.0*a2*sin(q2) + 1.0*a3*sin(q2 + q3)]\n",
            "[0, 0, 0, 1.0]\n"
          ]
        }
      ]
    },
    {
      "cell_type": "code",
      "source": [
        "# determine the result (chain of multiplications)\n",
        "\n",
        "result = composition_of_T(A, [], False)"
      ],
      "metadata": {
        "colab": {
          "base_uri": "https://localhost:8080/"
        },
        "id": "x3d1qgieuQ2t",
        "outputId": "8cd2672a-474a-48b6-a53e-ebd9b7126ae4"
      },
      "execution_count": null,
      "outputs": [
        {
          "output_type": "stream",
          "name": "stdout",
          "text": [
            "[1.0*cos(q1 + q2), -1.0*sin(q1 + q2), 0, 1.0*a1*cos(q1) + 1.0*a2*cos(q1 + q2)]\n",
            "[1.0*sin(q1 + q2), 1.0*cos(q1 + q2), 0, 1.0*a1*sin(q1) + 1.0*a2*sin(q1 + q2)]\n",
            "[0, 0, 1.0, 0]\n",
            "[0, 0, 0, 1.0]\n"
          ]
        }
      ]
    },
    {
      "cell_type": "code",
      "source": [
        "# insert values inside Result\n",
        "values = {'q1':0, 'q2':np.pi/6, 'q3':-np.pi/2}\n",
        "R_valued = result.subs(values)\n",
        "\n",
        "for row in R_valued:\n",
        "  print(row)"
      ],
      "metadata": {
        "colab": {
          "base_uri": "https://localhost:8080/"
        },
        "id": "0YQK1JCfZwU5",
        "outputId": "cfc6e1ec-f36c-402f-d31e-52ad42541521"
      },
      "execution_count": null,
      "outputs": [
        {
          "output_type": "stream",
          "name": "stdout",
          "text": [
            "[0.5, 0.866025403784439, 0, 0.866025403784439*a2 + 0.5*a3]\n",
            "[0, 0, -1.0, 0]\n",
            "[-0.866025403784439, 0.5, 0, 0.5*a2 - 0.866025403784439*a3]\n",
            "[0, 0, 0, 1.0]\n"
          ]
        }
      ]
    },
    {
      "cell_type": "markdown",
      "source": [
        "# Jacobian derivative"
      ],
      "metadata": {
        "id": "nRPqcQdT3_Gt"
      }
    },
    {
      "cell_type": "code",
      "source": [
        "def compute_Jdot(J, variables):\n",
        "\n",
        "  print(\"Jacobian:\\n\")\n",
        "  display(Math(sp.latex(sp.simplify(J))))\n",
        "\n",
        "  m = J.shape[0]\n",
        "  n = J.shape[1]\n",
        "\n",
        "  j = sp.zeros(m,n)\n",
        "  for i in range(len(variables)):\n",
        "    q_i = variables[i]\n",
        "    q_i_dot = sp.symbols('q'+str(i+1)+'_dot')\n",
        "    j += sp.diff(J, q_i)*q_i_dot\n",
        "\n",
        "  print(\"\\nJ_dot * q_dot:\\n\")\n",
        "  display(Math(sp.latex(sp.simplify(j))))\n",
        "\n",
        "\n",
        "  return\n"
      ],
      "metadata": {
        "id": "ezUHn41f4CbZ"
      },
      "execution_count": null,
      "outputs": []
    },
    {
      "cell_type": "code",
      "source": [
        "c1 = sp.cos('q1')\n",
        "s1 = sp.sin('q1')\n",
        "c12 = sp.cos('q1+q2')\n",
        "s12 = sp.sin('q1+q2')\n",
        "l = sp.symbols('L')\n",
        "J = sp.Matrix([\n",
        "    [l*(s1+s12), l*s12],\n",
        "    [l*(c1+c12), l*c12]\n",
        "])\n",
        "\n",
        "variables = [sp.symbols('q1'), sp.symbols('q2')]\n",
        "compute_Jdot(J, variables)"
      ],
      "metadata": {
        "colab": {
          "base_uri": "https://localhost:8080/",
          "height": 185
        },
        "id": "uYvguuEQ6gD5",
        "outputId": "b7cc5338-a98b-42c5-f29c-b4d952c1a816"
      },
      "execution_count": null,
      "outputs": [
        {
          "output_type": "stream",
          "name": "stdout",
          "text": [
            "Jacobian:\n",
            "\n"
          ]
        },
        {
          "output_type": "display_data",
          "data": {
            "text/plain": [
              "<IPython.core.display.Math object>"
            ],
            "text/latex": "$\\displaystyle \\left[\\begin{matrix}L \\left(\\sin{\\left(q_{1} \\right)} + \\sin{\\left(q_{1} + q_{2} \\right)}\\right) & L \\sin{\\left(q_{1} + q_{2} \\right)}\\\\L \\left(\\cos{\\left(q_{1} \\right)} + \\cos{\\left(q_{1} + q_{2} \\right)}\\right) & L \\cos{\\left(q_{1} + q_{2} \\right)}\\end{matrix}\\right]$"
          },
          "metadata": {}
        },
        {
          "output_type": "stream",
          "name": "stdout",
          "text": [
            "\n",
            "J_dot * q_dot:\n",
            "\n"
          ]
        },
        {
          "output_type": "display_data",
          "data": {
            "text/plain": [
              "<IPython.core.display.Math object>"
            ],
            "text/latex": "$\\displaystyle \\left[\\begin{matrix}L \\left(q_{1 dot} \\left(\\cos{\\left(q_{1} \\right)} + \\cos{\\left(q_{1} + q_{2} \\right)}\\right) + q_{2 dot} \\cos{\\left(q_{1} + q_{2} \\right)}\\right) & L \\left(q_{1 dot} + q_{2 dot}\\right) \\cos{\\left(q_{1} + q_{2} \\right)}\\\\- L \\left(q_{1 dot} \\sin{\\left(q_{1} \\right)} + q_{1 dot} \\sin{\\left(q_{1} + q_{2} \\right)} + q_{2 dot} \\sin{\\left(q_{1} + q_{2} \\right)}\\right) & L \\left(- q_{1 dot} - q_{2 dot}\\right) \\sin{\\left(q_{1} + q_{2} \\right)}\\end{matrix}\\right]$"
          },
          "metadata": {}
        }
      ]
    },
    {
      "cell_type": "markdown",
      "source": [
        "# Euler-Lagrange Method"
      ],
      "metadata": {
        "id": "eSlvv08iaXl9"
      }
    },
    {
      "cell_type": "code",
      "source": [
        "\"\"\"\n",
        "p_c is the vector of elements with positions of center of mass i wrt RF0\n",
        "w is the vector of angular velocities associated to each link\n",
        "variables is the list of var for which we have to differentiate\n",
        "\"\"\"\n",
        "\n",
        "def kinematic_energy(p_c, w, m, I, variables, derivatives):\n",
        "  n = len(p_c)\n",
        "  T = 0\n",
        "  for i in range(n):\n",
        "    v_ci = sp.zeros(3,1)\n",
        "    p_ci = p_c[i]\n",
        "    J = np.array(p_ci.jacobian(variables))\n",
        "\n",
        "    for r in range(J.shape[0]):\n",
        "      v_cic = 0\n",
        "      for c in range(J.shape[1]):\n",
        "        v_cic += J[r][c]*derivatives[c]\n",
        "      v_ci[r]=v_cic\n",
        "\n",
        "\n",
        "    print(f\"\\nPosition COM{i+1}:\\n\")\n",
        "    display(Math(sp.latex(p_ci)))\n",
        "\n",
        "    print(f\"\\nVelocity COM{i+1}:\\n\")\n",
        "    display(Math(sp.latex(v_ci)))\n",
        "\n",
        "    T_i_w = np.array(sp.simplify(0.5*I[i]*w[i]*w[i]))\n",
        "    T_i_vc = np.array(sp.simplify(0.5*m[i]*(v_ci.T*v_ci)))\n",
        "    T_i = sp.simplify(T_i_w + T_i_vc)[0][0]\n",
        "    print(f\"\\nKinetic energy of link {i+1}:\\n\")\n",
        "    display(Math(sp.latex(T_i)))\n",
        "\n",
        "    T += T_i\n",
        "\n",
        "  M = sp.hessian(T, (sp.symbols('q1_dot'), sp.symbols('q2_dot'),sp.symbols('q3_dot'), sp.symbols('q4_dot')))\n",
        "  M_latex = sp.latex(sp.simplify(M))\n",
        "  print(\"\\nInertia Matrix:\\n\")\n",
        "  display(Math(M_latex))\n",
        "\n",
        "  return"
      ],
      "metadata": {
        "id": "_dkaufNS9qyq"
      },
      "execution_count": null,
      "outputs": []
    },
    {
      "cell_type": "code",
      "source": [
        "m1 = sp.symbols('m1')\n",
        "m2 = sp.symbols('m2')\n",
        "m3 = sp.symbols('m3')\n",
        "m4 = sp.symbols('m4')\n",
        "\n",
        "d1 = sp.symbols('d1')\n",
        "d2 = sp.symbols('d2')\n",
        "d3 = sp.symbols('d3')\n",
        "d4 = sp.symbols('d4')\n",
        "\n",
        "l1 = sp.symbols('l1')\n",
        "\n",
        "q1 = sp.symbols('q1')\n",
        "q2 = sp.symbols('q2')\n",
        "q3 = sp.symbols('q3')\n",
        "q4 = sp.symbols('q4')\n",
        "\n",
        "q1_dot = sp.symbols('q1_dot')\n",
        "q2_dot = sp.symbols('q2_dot')\n",
        "q3_dot = sp.symbols('q3_dot')\n",
        "q4_dot = sp.symbols('q4_dot')\n",
        "\n",
        "c1 = sp.cos('q1')\n",
        "s1 = sp.sin('q1')\n",
        "s12 = sp.sin('q1+q2')\n",
        "c12 = sp.cos('q1+q2')\n",
        "c13 = sp.cos('q1+q3')\n",
        "s13 = sp.sin('q1+q3')\n",
        "c124 = sp.cos('q1+q2+q4')\n",
        "s124 = sp.sin('q1+q2+q4')\n",
        "\n",
        "I1 = sp.symbols('I1')\n",
        "I2 = sp.symbols('I2')\n",
        "I3 = sp.symbols('I3')\n",
        "I4 = sp.symbols('I4')\n",
        "\n",
        "p_c1 = sp.Matrix([\n",
        "    [d1*c1],\n",
        "    [d1*s1],\n",
        "    [0]\n",
        "])\n",
        "\n",
        "p_c2 = sp.Matrix([\n",
        "    [l1*c1+s12],\n",
        "    [l1*s1+c12],\n",
        "    [0]\n",
        "])\n",
        "\n",
        "p_c3 = sp.Matrix([\n",
        "    [l1*c1+(q3-d3)*c12],\n",
        "    [l1*s1+(q3-d3)*s12],\n",
        "    [0]\n",
        "])\n",
        "\n",
        "p_c4 = sp.Matrix([\n",
        "    [l1*c1+q3*c12+d4*c124],\n",
        "    [l1*s1+q3*s12+d4*s124],\n",
        "    [0]\n",
        "])\n",
        "\n",
        "w1 = q1_dot\n",
        "w2 = q2_dot\n",
        "w3 = q1_dot+q2_dot\n",
        "w4 = q1_dot+q2_dot+q4_dot\n",
        "\n",
        "p_c = [p_c1, p_c2, p_c3, p_c4]\n",
        "w = [w1, w2, w3, w4]\n",
        "m = [m1, m2, m3, m4]\n",
        "I = [I1, I2, I3, I4]\n",
        "kinematic_energy(p_c, w, m, I, [q1,q2,q3,q4], [q1_dot,q2_dot,q3_dot,q4_dot])"
      ],
      "metadata": {
        "colab": {
          "base_uri": "https://localhost:8080/",
          "height": 1000
        },
        "id": "BQAI4zGN-uB8",
        "outputId": "e663ba5d-f766-44f3-dc3b-362321f92ea0"
      },
      "execution_count": null,
      "outputs": [
        {
          "output_type": "stream",
          "name": "stdout",
          "text": [
            "\n",
            "Position COM1:\n",
            "\n"
          ]
        },
        {
          "output_type": "display_data",
          "data": {
            "text/plain": [
              "<IPython.core.display.Math object>"
            ],
            "text/latex": "$\\displaystyle \\left[\\begin{matrix}d_{1} \\cos{\\left(q_{1} \\right)}\\\\d_{1} \\sin{\\left(q_{1} \\right)}\\\\0\\end{matrix}\\right]$"
          },
          "metadata": {}
        },
        {
          "output_type": "stream",
          "name": "stdout",
          "text": [
            "\n",
            "Velocity COM1:\n",
            "\n"
          ]
        },
        {
          "output_type": "display_data",
          "data": {
            "text/plain": [
              "<IPython.core.display.Math object>"
            ],
            "text/latex": "$\\displaystyle \\left[\\begin{matrix}- d_{1} q_{1 dot} \\sin{\\left(q_{1} \\right)}\\\\d_{1} q_{1 dot} \\cos{\\left(q_{1} \\right)}\\\\0\\end{matrix}\\right]$"
          },
          "metadata": {}
        },
        {
          "output_type": "stream",
          "name": "stdout",
          "text": [
            "\n",
            "Kinetic energy of link 1:\n",
            "\n"
          ]
        },
        {
          "output_type": "display_data",
          "data": {
            "text/plain": [
              "<IPython.core.display.Math object>"
            ],
            "text/latex": "$\\displaystyle 0.5 q_{1 dot}^{2} \\left(I_{1} + d_{1}^{2} m_{1}\\right)$"
          },
          "metadata": {}
        },
        {
          "output_type": "stream",
          "name": "stdout",
          "text": [
            "\n",
            "Position COM2:\n",
            "\n"
          ]
        },
        {
          "output_type": "display_data",
          "data": {
            "text/plain": [
              "<IPython.core.display.Math object>"
            ],
            "text/latex": "$\\displaystyle \\left[\\begin{matrix}l_{1} \\cos{\\left(q_{1} \\right)} + \\sin{\\left(q_{1} + q_{2} \\right)}\\\\l_{1} \\sin{\\left(q_{1} \\right)} + \\cos{\\left(q_{1} + q_{2} \\right)}\\\\0\\end{matrix}\\right]$"
          },
          "metadata": {}
        },
        {
          "output_type": "stream",
          "name": "stdout",
          "text": [
            "\n",
            "Velocity COM2:\n",
            "\n"
          ]
        },
        {
          "output_type": "display_data",
          "data": {
            "text/plain": [
              "<IPython.core.display.Math object>"
            ],
            "text/latex": "$\\displaystyle \\left[\\begin{matrix}q_{1 dot} \\left(- l_{1} \\sin{\\left(q_{1} \\right)} + \\cos{\\left(q_{1} + q_{2} \\right)}\\right) + q_{2 dot} \\cos{\\left(q_{1} + q_{2} \\right)}\\\\q_{1 dot} \\left(l_{1} \\cos{\\left(q_{1} \\right)} - \\sin{\\left(q_{1} + q_{2} \\right)}\\right) - q_{2 dot} \\sin{\\left(q_{1} + q_{2} \\right)}\\\\0\\end{matrix}\\right]$"
          },
          "metadata": {}
        },
        {
          "output_type": "stream",
          "name": "stdout",
          "text": [
            "\n",
            "Kinetic energy of link 2:\n",
            "\n"
          ]
        },
        {
          "output_type": "display_data",
          "data": {
            "text/plain": [
              "<IPython.core.display.Math object>"
            ],
            "text/latex": "$\\displaystyle 0.5 I_{2} q_{2 dot}^{2} + 0.5 m_{2} \\left(\\left(q_{1 dot} \\left(l_{1} \\sin{\\left(q_{1} \\right)} - \\cos{\\left(q_{1} + q_{2} \\right)}\\right) - q_{2 dot} \\cos{\\left(q_{1} + q_{2} \\right)}\\right)^{2} + \\left(q_{1 dot} \\left(l_{1} \\cos{\\left(q_{1} \\right)} - \\sin{\\left(q_{1} + q_{2} \\right)}\\right) - q_{2 dot} \\sin{\\left(q_{1} + q_{2} \\right)}\\right)^{2}\\right)$"
          },
          "metadata": {}
        },
        {
          "output_type": "stream",
          "name": "stdout",
          "text": [
            "\n",
            "Position COM3:\n",
            "\n"
          ]
        },
        {
          "output_type": "display_data",
          "data": {
            "text/plain": [
              "<IPython.core.display.Math object>"
            ],
            "text/latex": "$\\displaystyle \\left[\\begin{matrix}l_{1} \\cos{\\left(q_{1} \\right)} + \\left(- d_{3} + q_{3}\\right) \\cos{\\left(q_{1} + q_{2} \\right)}\\\\l_{1} \\sin{\\left(q_{1} \\right)} + \\left(- d_{3} + q_{3}\\right) \\sin{\\left(q_{1} + q_{2} \\right)}\\\\0\\end{matrix}\\right]$"
          },
          "metadata": {}
        },
        {
          "output_type": "stream",
          "name": "stdout",
          "text": [
            "\n",
            "Velocity COM3:\n",
            "\n"
          ]
        },
        {
          "output_type": "display_data",
          "data": {
            "text/plain": [
              "<IPython.core.display.Math object>"
            ],
            "text/latex": "$\\displaystyle \\left[\\begin{matrix}q_{1 dot} \\left(- l_{1} \\sin{\\left(q_{1} \\right)} - \\left(- d_{3} + q_{3}\\right) \\sin{\\left(q_{1} + q_{2} \\right)}\\right) - q_{2 dot} \\left(- d_{3} + q_{3}\\right) \\sin{\\left(q_{1} + q_{2} \\right)} + q_{3 dot} \\cos{\\left(q_{1} + q_{2} \\right)}\\\\q_{1 dot} \\left(l_{1} \\cos{\\left(q_{1} \\right)} + \\left(- d_{3} + q_{3}\\right) \\cos{\\left(q_{1} + q_{2} \\right)}\\right) + q_{2 dot} \\left(- d_{3} + q_{3}\\right) \\cos{\\left(q_{1} + q_{2} \\right)} + q_{3 dot} \\sin{\\left(q_{1} + q_{2} \\right)}\\\\0\\end{matrix}\\right]$"
          },
          "metadata": {}
        },
        {
          "output_type": "stream",
          "name": "stdout",
          "text": [
            "\n",
            "Kinetic energy of link 3:\n",
            "\n"
          ]
        },
        {
          "output_type": "display_data",
          "data": {
            "text/plain": [
              "<IPython.core.display.Math object>"
            ],
            "text/latex": "$\\displaystyle 0.5 I_{3} \\left(q_{1 dot} + q_{2 dot}\\right)^{2} + 0.5 m_{3} \\left(\\left(- q_{1 dot} \\left(l_{1} \\sin{\\left(q_{1} \\right)} - \\left(d_{3} - q_{3}\\right) \\sin{\\left(q_{1} + q_{2} \\right)}\\right) + q_{2 dot} \\left(d_{3} - q_{3}\\right) \\sin{\\left(q_{1} + q_{2} \\right)} + q_{3 dot} \\cos{\\left(q_{1} + q_{2} \\right)}\\right)^{2} + \\left(q_{1 dot} \\left(l_{1} \\cos{\\left(q_{1} \\right)} - \\left(d_{3} - q_{3}\\right) \\cos{\\left(q_{1} + q_{2} \\right)}\\right) - q_{2 dot} \\left(d_{3} - q_{3}\\right) \\cos{\\left(q_{1} + q_{2} \\right)} + q_{3 dot} \\sin{\\left(q_{1} + q_{2} \\right)}\\right)^{2}\\right)$"
          },
          "metadata": {}
        },
        {
          "output_type": "stream",
          "name": "stdout",
          "text": [
            "\n",
            "Position COM4:\n",
            "\n"
          ]
        },
        {
          "output_type": "display_data",
          "data": {
            "text/plain": [
              "<IPython.core.display.Math object>"
            ],
            "text/latex": "$\\displaystyle \\left[\\begin{matrix}d_{4} \\cos{\\left(q_{1} + q_{2} + q_{4} \\right)} + l_{1} \\cos{\\left(q_{1} \\right)} + q_{3} \\cos{\\left(q_{1} + q_{2} \\right)}\\\\d_{4} \\sin{\\left(q_{1} + q_{2} + q_{4} \\right)} + l_{1} \\sin{\\left(q_{1} \\right)} + q_{3} \\sin{\\left(q_{1} + q_{2} \\right)}\\\\0\\end{matrix}\\right]$"
          },
          "metadata": {}
        },
        {
          "output_type": "stream",
          "name": "stdout",
          "text": [
            "\n",
            "Velocity COM4:\n",
            "\n"
          ]
        },
        {
          "output_type": "display_data",
          "data": {
            "text/plain": [
              "<IPython.core.display.Math object>"
            ],
            "text/latex": "$\\displaystyle \\left[\\begin{matrix}- d_{4} q_{4 dot} \\sin{\\left(q_{1} + q_{2} + q_{4} \\right)} + q_{1 dot} \\left(- d_{4} \\sin{\\left(q_{1} + q_{2} + q_{4} \\right)} - l_{1} \\sin{\\left(q_{1} \\right)} - q_{3} \\sin{\\left(q_{1} + q_{2} \\right)}\\right) + q_{2 dot} \\left(- d_{4} \\sin{\\left(q_{1} + q_{2} + q_{4} \\right)} - q_{3} \\sin{\\left(q_{1} + q_{2} \\right)}\\right) + q_{3 dot} \\cos{\\left(q_{1} + q_{2} \\right)}\\\\d_{4} q_{4 dot} \\cos{\\left(q_{1} + q_{2} + q_{4} \\right)} + q_{1 dot} \\left(d_{4} \\cos{\\left(q_{1} + q_{2} + q_{4} \\right)} + l_{1} \\cos{\\left(q_{1} \\right)} + q_{3} \\cos{\\left(q_{1} + q_{2} \\right)}\\right) + q_{2 dot} \\left(d_{4} \\cos{\\left(q_{1} + q_{2} + q_{4} \\right)} + q_{3} \\cos{\\left(q_{1} + q_{2} \\right)}\\right) + q_{3 dot} \\sin{\\left(q_{1} + q_{2} \\right)}\\\\0\\end{matrix}\\right]$"
          },
          "metadata": {}
        },
        {
          "output_type": "stream",
          "name": "stdout",
          "text": [
            "\n",
            "Kinetic energy of link 4:\n",
            "\n"
          ]
        },
        {
          "output_type": "display_data",
          "data": {
            "text/plain": [
              "<IPython.core.display.Math object>"
            ],
            "text/latex": "$\\displaystyle 0.5 I_{4} \\left(q_{1 dot} + q_{2 dot} + q_{4 dot}\\right)^{2} + 0.5 m_{4} \\left(\\left(d_{4} q_{4 dot} \\sin{\\left(q_{1} + q_{2} + q_{4} \\right)} + q_{1 dot} \\left(d_{4} \\sin{\\left(q_{1} + q_{2} + q_{4} \\right)} + l_{1} \\sin{\\left(q_{1} \\right)} + q_{3} \\sin{\\left(q_{1} + q_{2} \\right)}\\right) + q_{2 dot} \\left(d_{4} \\sin{\\left(q_{1} + q_{2} + q_{4} \\right)} + q_{3} \\sin{\\left(q_{1} + q_{2} \\right)}\\right) - q_{3 dot} \\cos{\\left(q_{1} + q_{2} \\right)}\\right)^{2} + \\left(d_{4} q_{4 dot} \\cos{\\left(q_{1} + q_{2} + q_{4} \\right)} + q_{1 dot} \\left(d_{4} \\cos{\\left(q_{1} + q_{2} + q_{4} \\right)} + l_{1} \\cos{\\left(q_{1} \\right)} + q_{3} \\cos{\\left(q_{1} + q_{2} \\right)}\\right) + q_{2 dot} \\left(d_{4} \\cos{\\left(q_{1} + q_{2} + q_{4} \\right)} + q_{3} \\cos{\\left(q_{1} + q_{2} \\right)}\\right) + q_{3 dot} \\sin{\\left(q_{1} + q_{2} \\right)}\\right)^{2}\\right)$"
          },
          "metadata": {}
        },
        {
          "output_type": "stream",
          "name": "stdout",
          "text": [
            "\n",
            "Inertia Matrix:\n",
            "\n"
          ]
        },
        {
          "output_type": "display_data",
          "data": {
            "text/plain": [
              "<IPython.core.display.Math object>"
            ],
            "text/latex": "$\\displaystyle \\left[\\begin{matrix}1.0 I_{1} + 1.0 I_{3} + 1.0 I_{4} + 1.0 d_{1}^{2} m_{1} + 1.0 m_{2} \\left(\\left(l_{1} \\sin{\\left(q_{1} \\right)} - \\cos{\\left(q_{1} + q_{2} \\right)}\\right)^{2} + \\left(l_{1} \\cos{\\left(q_{1} \\right)} - \\sin{\\left(q_{1} + q_{2} \\right)}\\right)^{2}\\right) + 1.0 m_{3} \\left(d_{3}^{2} - 2 d_{3} l_{1} \\cos{\\left(q_{2} \\right)} - 2 d_{3} q_{3} + l_{1}^{2} + 2 l_{1} q_{3} \\cos{\\left(q_{2} \\right)} + q_{3}^{2}\\right) + 1.0 m_{4} \\left(d_{4}^{2} + 2 d_{4} l_{1} \\cos{\\left(q_{2} + q_{4} \\right)} + 2 d_{4} q_{3} \\cos{\\left(q_{4} \\right)} + l_{1}^{2} + 2 l_{1} q_{3} \\cos{\\left(q_{2} \\right)} + q_{3}^{2}\\right) & 1.0 I_{3} + 1.0 I_{4} - 1.0 m_{2} \\left(\\left(l_{1} \\sin{\\left(q_{1} \\right)} - \\cos{\\left(q_{1} + q_{2} \\right)}\\right) \\cos{\\left(q_{1} + q_{2} \\right)} + \\left(l_{1} \\cos{\\left(q_{1} \\right)} - \\sin{\\left(q_{1} + q_{2} \\right)}\\right) \\sin{\\left(q_{1} + q_{2} \\right)}\\right) - 1.0 m_{3} \\left(d_{3} - q_{3}\\right) \\left(- d_{3} + l_{1} \\cos{\\left(q_{2} \\right)} + q_{3}\\right) + 1.0 m_{4} \\left(d_{4}^{2} + d_{4} l_{1} \\cos{\\left(q_{2} + q_{4} \\right)} + 2 d_{4} q_{3} \\cos{\\left(q_{4} \\right)} + l_{1} q_{3} \\cos{\\left(q_{2} \\right)} + q_{3}^{2}\\right) & - 1.0 d_{4} m_{4} \\sin{\\left(q_{4} \\right)} + 1.0 l_{1} m_{3} \\sin{\\left(q_{2} \\right)} + 1.0 l_{1} m_{4} \\sin{\\left(q_{2} \\right)} & 1.0 I_{4} + 1.0 d_{4} m_{4} \\left(d_{4} + l_{1} \\cos{\\left(q_{2} + q_{4} \\right)} + q_{3} \\cos{\\left(q_{4} \\right)}\\right)\\\\1.0 I_{3} + 1.0 I_{4} - 1.0 m_{2} \\left(\\left(l_{1} \\sin{\\left(q_{1} \\right)} - \\cos{\\left(q_{1} + q_{2} \\right)}\\right) \\cos{\\left(q_{1} + q_{2} \\right)} + \\left(l_{1} \\cos{\\left(q_{1} \\right)} - \\sin{\\left(q_{1} + q_{2} \\right)}\\right) \\sin{\\left(q_{1} + q_{2} \\right)}\\right) - 1.0 m_{3} \\left(d_{3} - q_{3}\\right) \\left(- d_{3} + l_{1} \\cos{\\left(q_{2} \\right)} + q_{3}\\right) + 1.0 m_{4} \\left(d_{4}^{2} + d_{4} l_{1} \\cos{\\left(q_{2} + q_{4} \\right)} + 2 d_{4} q_{3} \\cos{\\left(q_{4} \\right)} + l_{1} q_{3} \\cos{\\left(q_{2} \\right)} + q_{3}^{2}\\right) & 1.0 I_{2} + 1.0 I_{3} + 1.0 I_{4} + 1.0 m_{2} + 1.0 m_{3} \\left(d_{3} - q_{3}\\right)^{2} + 1.0 m_{4} \\left(d_{4}^{2} + 2 d_{4} q_{3} \\cos{\\left(q_{4} \\right)} + q_{3}^{2}\\right) & - 1.0 d_{4} m_{4} \\sin{\\left(q_{4} \\right)} & 1.0 I_{4} + 1.0 d_{4} m_{4} \\left(d_{4} + q_{3} \\cos{\\left(q_{4} \\right)}\\right)\\\\- 1.0 d_{4} m_{4} \\sin{\\left(q_{4} \\right)} + 1.0 l_{1} m_{3} \\sin{\\left(q_{2} \\right)} + 1.0 l_{1} m_{4} \\sin{\\left(q_{2} \\right)} & - 1.0 d_{4} m_{4} \\sin{\\left(q_{4} \\right)} & 1.0 m_{3} + 1.0 m_{4} & - 1.0 d_{4} m_{4} \\sin{\\left(q_{4} \\right)}\\\\1.0 I_{4} + 1.0 d_{4} m_{4} \\left(d_{4} + l_{1} \\cos{\\left(q_{2} + q_{4} \\right)} + q_{3} \\cos{\\left(q_{4} \\right)}\\right) & 1.0 I_{4} + 1.0 d_{4} m_{4} \\left(d_{4} + q_{3} \\cos{\\left(q_{4} \\right)}\\right) & - 1.0 d_{4} m_{4} \\sin{\\left(q_{4} \\right)} & 1.0 I_{4} + 1.0 d_{4}^{2} m_{4}\\end{matrix}\\right]$"
          },
          "metadata": {}
        }
      ]
    },
    {
      "cell_type": "markdown",
      "source": [
        "## Moving Frames"
      ],
      "metadata": {
        "id": "aAfbftLizXYv"
      }
    },
    {
      "cell_type": "code",
      "source": [
        "\"\"\"\n",
        "- R is the list of rotation matrices\n",
        "- r is the positional vector coming from frame i-1 to i\n",
        "- r_c is a list of positional vector from RF_i to the COM_i\n",
        "- m is a list of symbolic variables m_i\n",
        "- I_c is a list of symbolic variables I_ci,zz\n",
        "- sigma is a list of 0 or 1 (1 if the joint i is P, 0 else)\n",
        "- q_dot is a list of symbolic variables q_dot_i\n",
        "\"\"\"\n",
        "def moving_frames(R, r, r_c, m, I_c, sigma, q_dot):\n",
        "  sp.init_printing()\n",
        "  w_0 = np.zeros((3,1))\n",
        "  v_0 = np.zeros((3,1))\n",
        "  z_prev = np.array([[0], [0], [1]])\n",
        "  T = 0\n",
        "  for i in range(len(R)):\n",
        "    R_i = R[i]          # rotation matrix ^{i-1}RF_i\n",
        "    print(f\"\\nRotation matrix from {i} to {i+1}:\\n\")\n",
        "    display(Math(sp.latex(sp.Matrix(R_i).applyfunc(sp.simplify))))\n",
        "    r_i = np.array(sp.simplify(np.dot(R_i.T,r[i]))) # moving frame\n",
        "    print(f\"\\nPositional vector between origins in moving frame:\\n\")\n",
        "    display(Math(sp.latex(sp.Matrix(r_i).applyfunc(sp.simplify))))\n",
        "    r_ci = r_c[i]\n",
        "    print(f\"\\nPositional vector of link CoM{i} in moving frame:\\n\")\n",
        "    display(Math(sp.latex(sp.Matrix(r_ci).applyfunc(sp.simplify))))\n",
        "\n",
        "    if i == 0:\n",
        "      w_i = np.dot(R_i.T, w_0+(1-sigma[i])*q_dot[i]*z_prev)\n",
        "\n",
        "      t1 = np.dot(R_i.T, v_0)\n",
        "      t2 = np.dot(R_i.T, sigma[i]*q_dot[i]*z_prev)\n",
        "      t3 = np.cross(w_i.flatten(), r_i.flatten()).reshape(-1,1)\n",
        "      v_i = t1+t2+t3\n",
        "\n",
        "\n",
        "    else:\n",
        "      w_i = np.dot(R_i.T, w_i_prev+(1-sigma[i])*q_dot[i]*z_prev)\n",
        "\n",
        "      t1 = np.dot(R_i.T, v_i_prev)\n",
        "      t2 = np.dot(R_i.T, sigma[i]*q_dot[i]*z_prev)\n",
        "      t3 = np.cross(w_i.flatten(), r_i.flatten()).reshape(-1,1)\n",
        "      v_i = t1+t2+t3\n",
        "\n",
        "    v_i_prev = v_i\n",
        "    w_i_prev = w_i\n",
        "\n",
        "    v_ci = v_i + np.cross(w_i.flatten(), r_ci.flatten()).reshape(-1,1)\n",
        "    w_i_latex = sp.latex(sp.Matrix(w_i).applyfunc(sp.simplify))\n",
        "    v_i_latex = sp.latex(sp.Matrix(v_i).applyfunc(sp.simplify))\n",
        "    v_ci_latex = sp.latex(sp.Matrix(v_ci).applyfunc(sp.simplify))\n",
        "    T_i = 0.5*m[i]*np.dot(v_ci.T, v_ci)+0.5*np.dot(w_i.T, w_i)*I_c[i]\n",
        "    T += T_i\n",
        "    T_i_latex = sp.latex(sp.Matrix(T_i).applyfunc(sp.simplify))\n",
        "    print(f\"\\ni = {i+1}\")\n",
        "    print(f\"\\nw_{i+1}:\\n\")\n",
        "    display(Math(w_i_latex))\n",
        "    print(f\"\\nv_{i+1}:\\n\")\n",
        "    display(Math(v_i_latex))\n",
        "    print(f\"\\nv_c{i+1}:\\n\")\n",
        "    display(Math(v_ci_latex))\n",
        "    print(f\"\\nT_{i+1}:\\n\")\n",
        "    display(Math(T_i_latex))\n",
        "\n",
        "  return T"
      ],
      "metadata": {
        "id": "I7ciDF3sb8sF"
      },
      "execution_count": null,
      "outputs": []
    },
    {
      "cell_type": "code",
      "source": [
        "sigma = [1,0,0]\n",
        "q_dot = [sp.symbols('q_dot_1'), sp.symbols('q_dot_2'), sp.symbols('q_dot_3')]\n",
        "r_c = [np.array([[0], [sp.symbols('dc1')], [0]]), np.array([[0], [sp.symbols('dc2')-sp.symbols('l2')], [0]]), np.array([[sp.symbols('dc3')], [0], [0]])]\n",
        "m = [sp.symbols('m1'), sp.symbols('m2'), sp.symbols('m3')]\n",
        "I_c = [sp.symbols('I_c1'), sp.symbols('I_c2'), sp.symbols('I_c3')]\n",
        "T = moving_frames(R, r, r_c, m, I_c, sigma, q_dot)\n",
        "\n",
        "print(\"\\nInertia Matrix:\\n\")\n",
        "M = sp.hessian(T.item(), (sp.symbols('q_dot_1'), sp.symbols('q_dot_2'),sp.symbols('q_dot_3')))\n",
        "M_latex = sp.latex(sp.simplify(M))\n",
        "display(Math(M_latex))\n"
      ],
      "metadata": {
        "colab": {
          "base_uri": "https://localhost:8080/",
          "height": 1000
        },
        "id": "donNQHBa0uVW",
        "outputId": "66818404-4035-4ccd-f498-dcc0ed86ad93"
      },
      "execution_count": null,
      "outputs": [
        {
          "output_type": "stream",
          "name": "stdout",
          "text": [
            "\n",
            "Rotation matrix from 0 to 1:\n",
            "\n"
          ]
        },
        {
          "output_type": "display_data",
          "data": {
            "text/plain": [
              "<IPython.core.display.Math object>"
            ],
            "text/latex": "$\\displaystyle \\left[\\begin{matrix}1 & 0 & 0\\\\0 & 0 & 1.0\\\\0 & -1.0 & 0\\end{matrix}\\right]$"
          },
          "metadata": {}
        },
        {
          "output_type": "stream",
          "name": "stdout",
          "text": [
            "\n",
            "Positional vector between origins in moving frame:\n",
            "\n"
          ]
        },
        {
          "output_type": "display_data",
          "data": {
            "text/plain": [
              "<IPython.core.display.Math object>"
            ],
            "text/latex": "$\\displaystyle \\left[\\begin{matrix}0\\\\- 1.0 q_{1}\\\\0\\end{matrix}\\right]$"
          },
          "metadata": {}
        },
        {
          "output_type": "stream",
          "name": "stdout",
          "text": [
            "\n",
            "Positional vector of link CoM0 in moving frame:\n",
            "\n"
          ]
        },
        {
          "output_type": "display_data",
          "data": {
            "text/plain": [
              "<IPython.core.display.Math object>"
            ],
            "text/latex": "$\\displaystyle \\left[\\begin{matrix}0\\\\dc_{1}\\\\0\\end{matrix}\\right]$"
          },
          "metadata": {}
        },
        {
          "output_type": "stream",
          "name": "stdout",
          "text": [
            "\n",
            "i = 1\n",
            "\n",
            "w_1:\n",
            "\n"
          ]
        },
        {
          "output_type": "display_data",
          "data": {
            "text/plain": [
              "<IPython.core.display.Math object>"
            ],
            "text/latex": "$\\displaystyle \\left[\\begin{matrix}0\\\\0\\\\0\\end{matrix}\\right]$"
          },
          "metadata": {}
        },
        {
          "output_type": "stream",
          "name": "stdout",
          "text": [
            "\n",
            "v_1:\n",
            "\n"
          ]
        },
        {
          "output_type": "display_data",
          "data": {
            "text/plain": [
              "<IPython.core.display.Math object>"
            ],
            "text/latex": "$\\displaystyle \\left[\\begin{matrix}0\\\\- 1.0 q_{dot 1}\\\\0\\end{matrix}\\right]$"
          },
          "metadata": {}
        },
        {
          "output_type": "stream",
          "name": "stdout",
          "text": [
            "\n",
            "v_c1:\n",
            "\n"
          ]
        },
        {
          "output_type": "display_data",
          "data": {
            "text/plain": [
              "<IPython.core.display.Math object>"
            ],
            "text/latex": "$\\displaystyle \\left[\\begin{matrix}0\\\\- 1.0 q_{dot 1}\\\\0\\end{matrix}\\right]$"
          },
          "metadata": {}
        },
        {
          "output_type": "stream",
          "name": "stdout",
          "text": [
            "\n",
            "T_1:\n",
            "\n"
          ]
        },
        {
          "output_type": "display_data",
          "data": {
            "text/plain": [
              "<IPython.core.display.Math object>"
            ],
            "text/latex": "$\\displaystyle \\left[\\begin{matrix}0.5 m_{1} q_{dot 1}^{2}\\end{matrix}\\right]$"
          },
          "metadata": {}
        },
        {
          "output_type": "stream",
          "name": "stdout",
          "text": [
            "\n",
            "Rotation matrix from 1 to 2:\n",
            "\n"
          ]
        },
        {
          "output_type": "display_data",
          "data": {
            "text/plain": [
              "<IPython.core.display.Math object>"
            ],
            "text/latex": "$\\displaystyle \\left[\\begin{matrix}\\cos{\\left(q_{2} \\right)} & 0 & 1.0 \\sin{\\left(q_{2} \\right)}\\\\\\sin{\\left(q_{2} \\right)} & 0 & - 1.0 \\cos{\\left(q_{2} \\right)}\\\\0 & 1.0 & 0\\end{matrix}\\right]$"
          },
          "metadata": {}
        },
        {
          "output_type": "stream",
          "name": "stdout",
          "text": [
            "\n",
            "Positional vector between origins in moving frame:\n",
            "\n"
          ]
        },
        {
          "output_type": "display_data",
          "data": {
            "text/plain": [
              "<IPython.core.display.Math object>"
            ],
            "text/latex": "$\\displaystyle \\left[\\begin{matrix}0\\\\1.0 l_{2}\\\\0\\end{matrix}\\right]$"
          },
          "metadata": {}
        },
        {
          "output_type": "stream",
          "name": "stdout",
          "text": [
            "\n",
            "Positional vector of link CoM1 in moving frame:\n",
            "\n"
          ]
        },
        {
          "output_type": "display_data",
          "data": {
            "text/plain": [
              "<IPython.core.display.Math object>"
            ],
            "text/latex": "$\\displaystyle \\left[\\begin{matrix}0\\\\dc_{2} - l_{2}\\\\0\\end{matrix}\\right]$"
          },
          "metadata": {}
        },
        {
          "output_type": "stream",
          "name": "stdout",
          "text": [
            "\n",
            "i = 2\n",
            "\n",
            "w_2:\n",
            "\n"
          ]
        },
        {
          "output_type": "display_data",
          "data": {
            "text/plain": [
              "<IPython.core.display.Math object>"
            ],
            "text/latex": "$\\displaystyle \\left[\\begin{matrix}0\\\\1.0 q_{dot 2}\\\\0\\end{matrix}\\right]$"
          },
          "metadata": {}
        },
        {
          "output_type": "stream",
          "name": "stdout",
          "text": [
            "\n",
            "v_2:\n",
            "\n"
          ]
        },
        {
          "output_type": "display_data",
          "data": {
            "text/plain": [
              "<IPython.core.display.Math object>"
            ],
            "text/latex": "$\\displaystyle \\left[\\begin{matrix}- 1.0 q_{dot 1} \\sin{\\left(q_{2} \\right)}\\\\0\\\\1.0 q_{dot 1} \\cos{\\left(q_{2} \\right)}\\end{matrix}\\right]$"
          },
          "metadata": {}
        },
        {
          "output_type": "stream",
          "name": "stdout",
          "text": [
            "\n",
            "v_c2:\n",
            "\n"
          ]
        },
        {
          "output_type": "display_data",
          "data": {
            "text/plain": [
              "<IPython.core.display.Math object>"
            ],
            "text/latex": "$\\displaystyle \\left[\\begin{matrix}- 1.0 q_{dot 1} \\sin{\\left(q_{2} \\right)}\\\\0\\\\1.0 q_{dot 1} \\cos{\\left(q_{2} \\right)}\\end{matrix}\\right]$"
          },
          "metadata": {}
        },
        {
          "output_type": "stream",
          "name": "stdout",
          "text": [
            "\n",
            "T_2:\n",
            "\n"
          ]
        },
        {
          "output_type": "display_data",
          "data": {
            "text/plain": [
              "<IPython.core.display.Math object>"
            ],
            "text/latex": "$\\displaystyle \\left[\\begin{matrix}0.5 I_{c2} q_{dot 2}^{2} + 0.5 m_{2} q_{dot 1}^{2}\\end{matrix}\\right]$"
          },
          "metadata": {}
        },
        {
          "output_type": "stream",
          "name": "stdout",
          "text": [
            "\n",
            "Rotation matrix from 2 to 3:\n",
            "\n"
          ]
        },
        {
          "output_type": "display_data",
          "data": {
            "text/plain": [
              "<IPython.core.display.Math object>"
            ],
            "text/latex": "$\\displaystyle \\left[\\begin{matrix}\\cos{\\left(q_{3} \\right)} & - \\sin{\\left(q_{3} \\right)} & 0\\\\\\sin{\\left(q_{3} \\right)} & \\cos{\\left(q_{3} \\right)} & 0\\\\0 & 0 & 1\\end{matrix}\\right]$"
          },
          "metadata": {}
        },
        {
          "output_type": "stream",
          "name": "stdout",
          "text": [
            "\n",
            "Positional vector between origins in moving frame:\n",
            "\n"
          ]
        },
        {
          "output_type": "display_data",
          "data": {
            "text/plain": [
              "<IPython.core.display.Math object>"
            ],
            "text/latex": "$\\displaystyle \\left[\\begin{matrix}dc_{3}\\\\0\\\\0\\end{matrix}\\right]$"
          },
          "metadata": {}
        },
        {
          "output_type": "stream",
          "name": "stdout",
          "text": [
            "\n",
            "Positional vector of link CoM2 in moving frame:\n",
            "\n"
          ]
        },
        {
          "output_type": "display_data",
          "data": {
            "text/plain": [
              "<IPython.core.display.Math object>"
            ],
            "text/latex": "$\\displaystyle \\left[\\begin{matrix}dc_{3}\\\\0\\\\0\\end{matrix}\\right]$"
          },
          "metadata": {}
        },
        {
          "output_type": "stream",
          "name": "stdout",
          "text": [
            "\n",
            "i = 3\n",
            "\n",
            "w_3:\n",
            "\n"
          ]
        },
        {
          "output_type": "display_data",
          "data": {
            "text/plain": [
              "<IPython.core.display.Math object>"
            ],
            "text/latex": "$\\displaystyle \\left[\\begin{matrix}1.0 q_{dot 2} \\sin{\\left(q_{3} \\right)}\\\\1.0 q_{dot 2} \\cos{\\left(q_{3} \\right)}\\\\q_{dot 3}\\end{matrix}\\right]$"
          },
          "metadata": {}
        },
        {
          "output_type": "stream",
          "name": "stdout",
          "text": [
            "\n",
            "v_3:\n",
            "\n"
          ]
        },
        {
          "output_type": "display_data",
          "data": {
            "text/plain": [
              "<IPython.core.display.Math object>"
            ],
            "text/latex": "$\\displaystyle \\left[\\begin{matrix}- 1.0 q_{dot 1} \\sin{\\left(q_{2} \\right)} \\cos{\\left(q_{3} \\right)}\\\\dc_{3} q_{dot 3} + 1.0 q_{dot 1} \\sin{\\left(q_{2} \\right)} \\sin{\\left(q_{3} \\right)}\\\\- 1.0 dc_{3} q_{dot 2} \\cos{\\left(q_{3} \\right)} + 1.0 q_{dot 1} \\cos{\\left(q_{2} \\right)}\\end{matrix}\\right]$"
          },
          "metadata": {}
        },
        {
          "output_type": "stream",
          "name": "stdout",
          "text": [
            "\n",
            "v_c3:\n",
            "\n"
          ]
        },
        {
          "output_type": "display_data",
          "data": {
            "text/plain": [
              "<IPython.core.display.Math object>"
            ],
            "text/latex": "$\\displaystyle \\left[\\begin{matrix}- 1.0 q_{dot 1} \\sin{\\left(q_{2} \\right)} \\cos{\\left(q_{3} \\right)}\\\\2.0 dc_{3} q_{dot 3} + 1.0 q_{dot 1} \\sin{\\left(q_{2} \\right)} \\sin{\\left(q_{3} \\right)}\\\\- 2.0 dc_{3} q_{dot 2} \\cos{\\left(q_{3} \\right)} + 1.0 q_{dot 1} \\cos{\\left(q_{2} \\right)}\\end{matrix}\\right]$"
          },
          "metadata": {}
        },
        {
          "output_type": "stream",
          "name": "stdout",
          "text": [
            "\n",
            "T_3:\n",
            "\n"
          ]
        },
        {
          "output_type": "display_data",
          "data": {
            "text/plain": [
              "<IPython.core.display.Math object>"
            ],
            "text/latex": "$\\displaystyle \\left[\\begin{matrix}0.5 I_{c3} \\left(q_{dot 2}^{2} + q_{dot 3}^{2}\\right) + 0.5 m_{3} \\left(4.0 dc_{3}^{2} q_{dot 2}^{2} \\cos^{2}{\\left(q_{3} \\right)} + 4.0 dc_{3}^{2} q_{dot 3}^{2} - 4.0 dc_{3} q_{dot 1} q_{dot 2} \\cos{\\left(q_{2} \\right)} \\cos{\\left(q_{3} \\right)} + 4.0 dc_{3} q_{dot 1} q_{dot 3} \\sin{\\left(q_{2} \\right)} \\sin{\\left(q_{3} \\right)} + 1.0 q_{dot 1}^{2}\\right)\\end{matrix}\\right]$"
          },
          "metadata": {}
        }
      ]
    },
    {
      "cell_type": "code",
      "source": [
        "sigma = [1,0] # 0 : joint revolute, 1: joint prismatic\n",
        "q_dot = [sp.symbols('q_dot_1'), sp.symbols('q_dot_2')]\n",
        "r_c = [np.array([[sp.symbols('q1')], [0], [0]]), np.array([[sp.symbols('q1')+sp.symbols('d2')*sp.cos('q2')], [sp.symbols('d2')*sp.sin('q2')], [0]])]\n",
        "m = [sp.symbols('m1'), sp.symbols('m2')]\n",
        "I_c = [sp.symbols('I_c1'), sp.symbols('I_c2')]\n",
        "T = moving_frames(R, r, r_c, m, I_c, sigma, q_dot)\n",
        "\n",
        "print(\"\\nInertia Matrix:\\n\")\n",
        "M = sp.hessian(T.item(), (sp.symbols('q_dot_1'), sp.symbols('q_dot_2')))\n",
        "M_latex = sp.latex(sp.simplify(M))\n",
        "display(Math(M_latex))\n"
      ],
      "metadata": {
        "colab": {
          "base_uri": "https://localhost:8080/",
          "height": 1000
        },
        "id": "om3h8FgUu7kn",
        "outputId": "75a95b26-3789-4574-c60c-d0591fd8bcee"
      },
      "execution_count": null,
      "outputs": [
        {
          "output_type": "stream",
          "name": "stdout",
          "text": [
            "\n",
            "Rotation matrix from 0 to 1:\n",
            "\n"
          ]
        },
        {
          "output_type": "display_data",
          "data": {
            "text/plain": [
              "<IPython.core.display.Math object>"
            ],
            "text/latex": "$\\displaystyle \\left[\\begin{matrix}1 & 0 & 0\\\\0 & 1 & 0\\\\0 & 0 & 1\\end{matrix}\\right]$"
          },
          "metadata": {}
        },
        {
          "output_type": "stream",
          "name": "stdout",
          "text": [
            "\n",
            "Positional vector between origins in moving frame:\n",
            "\n"
          ]
        },
        {
          "output_type": "display_data",
          "data": {
            "text/plain": [
              "<IPython.core.display.Math object>"
            ],
            "text/latex": "$\\displaystyle \\left[\\begin{matrix}0\\\\0\\\\q_{1}\\end{matrix}\\right]$"
          },
          "metadata": {}
        },
        {
          "output_type": "stream",
          "name": "stdout",
          "text": [
            "\n",
            "Positional vector of link CoM0 in moving frame:\n",
            "\n"
          ]
        },
        {
          "output_type": "display_data",
          "data": {
            "text/plain": [
              "<IPython.core.display.Math object>"
            ],
            "text/latex": "$\\displaystyle \\left[\\begin{matrix}q_{1}\\\\0\\\\0\\end{matrix}\\right]$"
          },
          "metadata": {}
        },
        {
          "output_type": "stream",
          "name": "stdout",
          "text": [
            "\n",
            "i = 1\n",
            "\n",
            "w_1:\n",
            "\n"
          ]
        },
        {
          "output_type": "display_data",
          "data": {
            "text/plain": [
              "<IPython.core.display.Math object>"
            ],
            "text/latex": "$\\displaystyle \\left[\\begin{matrix}0\\\\0\\\\0\\end{matrix}\\right]$"
          },
          "metadata": {}
        },
        {
          "output_type": "stream",
          "name": "stdout",
          "text": [
            "\n",
            "v_1:\n",
            "\n"
          ]
        },
        {
          "output_type": "display_data",
          "data": {
            "text/plain": [
              "<IPython.core.display.Math object>"
            ],
            "text/latex": "$\\displaystyle \\left[\\begin{matrix}0\\\\0\\\\q_{dot 1}\\end{matrix}\\right]$"
          },
          "metadata": {}
        },
        {
          "output_type": "stream",
          "name": "stdout",
          "text": [
            "\n",
            "v_c1:\n",
            "\n"
          ]
        },
        {
          "output_type": "display_data",
          "data": {
            "text/plain": [
              "<IPython.core.display.Math object>"
            ],
            "text/latex": "$\\displaystyle \\left[\\begin{matrix}0\\\\0\\\\q_{dot 1}\\end{matrix}\\right]$"
          },
          "metadata": {}
        },
        {
          "output_type": "stream",
          "name": "stdout",
          "text": [
            "\n",
            "T_1:\n",
            "\n"
          ]
        },
        {
          "output_type": "display_data",
          "data": {
            "text/plain": [
              "<IPython.core.display.Math object>"
            ],
            "text/latex": "$\\displaystyle \\left[\\begin{matrix}0.5 m_{1} q_{dot 1}^{2}\\end{matrix}\\right]$"
          },
          "metadata": {}
        },
        {
          "output_type": "stream",
          "name": "stdout",
          "text": [
            "\n",
            "Rotation matrix from 1 to 2:\n",
            "\n"
          ]
        },
        {
          "output_type": "display_data",
          "data": {
            "text/plain": [
              "<IPython.core.display.Math object>"
            ],
            "text/latex": "$\\displaystyle \\left[\\begin{matrix}\\cos{\\left(q_{2} \\right)} & - \\sin{\\left(q_{2} \\right)} & 0\\\\\\sin{\\left(q_{2} \\right)} & \\cos{\\left(q_{2} \\right)} & 0\\\\0 & 0 & 1\\end{matrix}\\right]$"
          },
          "metadata": {}
        },
        {
          "output_type": "stream",
          "name": "stdout",
          "text": [
            "\n",
            "Positional vector between origins in moving frame:\n",
            "\n"
          ]
        },
        {
          "output_type": "display_data",
          "data": {
            "text/plain": [
              "<IPython.core.display.Math object>"
            ],
            "text/latex": "$\\displaystyle \\left[\\begin{matrix}d_{2}\\\\0\\\\0\\end{matrix}\\right]$"
          },
          "metadata": {}
        },
        {
          "output_type": "stream",
          "name": "stdout",
          "text": [
            "\n",
            "Positional vector of link CoM1 in moving frame:\n",
            "\n"
          ]
        },
        {
          "output_type": "display_data",
          "data": {
            "text/plain": [
              "<IPython.core.display.Math object>"
            ],
            "text/latex": "$\\displaystyle \\left[\\begin{matrix}d_{2} \\cos{\\left(q_{2} \\right)} + q_{1}\\\\d_{2} \\sin{\\left(q_{2} \\right)}\\\\0\\end{matrix}\\right]$"
          },
          "metadata": {}
        },
        {
          "output_type": "stream",
          "name": "stdout",
          "text": [
            "\n",
            "i = 2\n",
            "\n",
            "w_2:\n",
            "\n"
          ]
        },
        {
          "output_type": "display_data",
          "data": {
            "text/plain": [
              "<IPython.core.display.Math object>"
            ],
            "text/latex": "$\\displaystyle \\left[\\begin{matrix}0\\\\0\\\\q_{dot 2}\\end{matrix}\\right]$"
          },
          "metadata": {}
        },
        {
          "output_type": "stream",
          "name": "stdout",
          "text": [
            "\n",
            "v_2:\n",
            "\n"
          ]
        },
        {
          "output_type": "display_data",
          "data": {
            "text/plain": [
              "<IPython.core.display.Math object>"
            ],
            "text/latex": "$\\displaystyle \\left[\\begin{matrix}0\\\\d_{2} q_{dot 2}\\\\q_{dot 1}\\end{matrix}\\right]$"
          },
          "metadata": {}
        },
        {
          "output_type": "stream",
          "name": "stdout",
          "text": [
            "\n",
            "v_c2:\n",
            "\n"
          ]
        },
        {
          "output_type": "display_data",
          "data": {
            "text/plain": [
              "<IPython.core.display.Math object>"
            ],
            "text/latex": "$\\displaystyle \\left[\\begin{matrix}- d_{2} q_{dot 2} \\sin{\\left(q_{2} \\right)}\\\\q_{dot 2} \\left(d_{2} \\cos{\\left(q_{2} \\right)} + d_{2} + q_{1}\\right)\\\\q_{dot 1}\\end{matrix}\\right]$"
          },
          "metadata": {}
        },
        {
          "output_type": "stream",
          "name": "stdout",
          "text": [
            "\n",
            "T_2:\n",
            "\n"
          ]
        },
        {
          "output_type": "display_data",
          "data": {
            "text/plain": [
              "<IPython.core.display.Math object>"
            ],
            "text/latex": "$\\displaystyle \\left[\\begin{matrix}0.5 I_{c2} q_{dot 2}^{2} + 0.5 m_{2} \\left(d_{2}^{2} q_{dot 2}^{2} \\sin^{2}{\\left(q_{2} \\right)} + q_{dot 1}^{2} + q_{dot 2}^{2} \\left(d_{2} \\cos{\\left(q_{2} \\right)} + d_{2} + q_{1}\\right)^{2}\\right)\\end{matrix}\\right]$"
          },
          "metadata": {}
        },
        {
          "output_type": "stream",
          "name": "stdout",
          "text": [
            "\n",
            "Inertia Matrix:\n",
            "\n"
          ]
        },
        {
          "output_type": "display_data",
          "data": {
            "text/plain": [
              "<IPython.core.display.Math object>"
            ],
            "text/latex": "$\\displaystyle \\left[\\begin{matrix}1.0 m_{1} + 1.0 m_{2} & 0\\\\0 & 1.0 I_{c2} + 1.0 m_{2} \\left(d_{2}^{2} \\sin^{2}{\\left(q_{2} \\right)} + \\left(d_{2} \\cos{\\left(q_{2} \\right)} + d_{2} + q_{1}\\right)^{2}\\right)\\end{matrix}\\right]$"
          },
          "metadata": {}
        }
      ]
    },
    {
      "cell_type": "code",
      "source": [
        "sigma = [0,0,0]\n",
        "q_dot = [sp.symbols('q_dot_1'), sp.symbols('q_dot_2'), sp.symbols('q_dot_3')]\n",
        "r_c = [np.array([[0], [sp.symbols('dc1')], [0]]), np.array([[sp.symbols('dc2')-sp.symbols('a2')], [0], [0]]), np.array([[sp.symbols('dc3')-sp.symbols('a3')], [0], [0]])]\n",
        "m = [sp.symbols('m1'), sp.symbols('m2'), sp.symbols('m3')]\n",
        "I_c = [sp.symbols('I_c1'), sp.symbols('I_c2'), sp.symbols('I_c3')]\n",
        "moving_frames(R, r, r_c, m, I_c, sigma, q_dot)\n",
        "\n",
        "\n",
        "print(\"\\nInertia Matrix:\\n\")\n",
        "M = sp.hessian(T.item(), (sp.symbols('q_dot_1'), sp.symbols('q_dot_2'),sp.symbols('q_dot_3')))\n",
        "M_latex = sp.latex(sp.simplify(M))\n",
        "display(Math(M_latex))"
      ],
      "metadata": {
        "colab": {
          "base_uri": "https://localhost:8080/",
          "height": 1000
        },
        "id": "ydfjTDTl-O28",
        "outputId": "3a936ded-1dc4-4282-c87e-496cb07d480b"
      },
      "execution_count": null,
      "outputs": [
        {
          "output_type": "stream",
          "name": "stdout",
          "text": [
            "\n",
            "Rotation matrix from 0 to 1:\n",
            "\n"
          ]
        },
        {
          "output_type": "display_data",
          "data": {
            "text/plain": [
              "<IPython.core.display.Math object>"
            ],
            "text/latex": "$\\displaystyle \\left[\\begin{matrix}\\cos{\\left(q_{1} \\right)} & 0 & 1.0 \\sin{\\left(q_{1} \\right)}\\\\\\sin{\\left(q_{1} \\right)} & 0 & - 1.0 \\cos{\\left(q_{1} \\right)}\\\\0 & 1.0 & 0\\end{matrix}\\right]$"
          },
          "metadata": {}
        },
        {
          "output_type": "stream",
          "name": "stdout",
          "text": [
            "\n",
            "Positional vector between origins in moving frame:\n",
            "\n"
          ]
        },
        {
          "output_type": "display_data",
          "data": {
            "text/plain": [
              "<IPython.core.display.Math object>"
            ],
            "text/latex": "$\\displaystyle \\left[\\begin{matrix}0\\\\0\\\\0\\end{matrix}\\right]$"
          },
          "metadata": {}
        },
        {
          "output_type": "stream",
          "name": "stdout",
          "text": [
            "\n",
            "Positional vector of link CoM0 in moving frame:\n",
            "\n"
          ]
        },
        {
          "output_type": "display_data",
          "data": {
            "text/plain": [
              "<IPython.core.display.Math object>"
            ],
            "text/latex": "$\\displaystyle \\left[\\begin{matrix}0\\\\dc_{1}\\\\0\\end{matrix}\\right]$"
          },
          "metadata": {}
        },
        {
          "output_type": "stream",
          "name": "stdout",
          "text": [
            "\n",
            "i = 1\n",
            "\n",
            "w_1:\n",
            "\n"
          ]
        },
        {
          "output_type": "display_data",
          "data": {
            "text/plain": [
              "<IPython.core.display.Math object>"
            ],
            "text/latex": "$\\displaystyle \\left[\\begin{matrix}0\\\\1.0 q_{dot 1}\\\\0\\end{matrix}\\right]$"
          },
          "metadata": {}
        },
        {
          "output_type": "stream",
          "name": "stdout",
          "text": [
            "\n",
            "v_1:\n",
            "\n"
          ]
        },
        {
          "output_type": "display_data",
          "data": {
            "text/plain": [
              "<IPython.core.display.Math object>"
            ],
            "text/latex": "$\\displaystyle \\left[\\begin{matrix}0\\\\0\\\\0\\end{matrix}\\right]$"
          },
          "metadata": {}
        },
        {
          "output_type": "stream",
          "name": "stdout",
          "text": [
            "\n",
            "v_c1:\n",
            "\n"
          ]
        },
        {
          "output_type": "display_data",
          "data": {
            "text/plain": [
              "<IPython.core.display.Math object>"
            ],
            "text/latex": "$\\displaystyle \\left[\\begin{matrix}0\\\\0\\\\0\\end{matrix}\\right]$"
          },
          "metadata": {}
        },
        {
          "output_type": "stream",
          "name": "stdout",
          "text": [
            "\n",
            "T_1:\n",
            "\n"
          ]
        },
        {
          "output_type": "display_data",
          "data": {
            "text/plain": [
              "<IPython.core.display.Math object>"
            ],
            "text/latex": "$\\displaystyle \\left[\\begin{matrix}0.5 I_{c1} q_{dot 1}^{2}\\end{matrix}\\right]$"
          },
          "metadata": {}
        },
        {
          "output_type": "stream",
          "name": "stdout",
          "text": [
            "\n",
            "Rotation matrix from 1 to 2:\n",
            "\n"
          ]
        },
        {
          "output_type": "display_data",
          "data": {
            "text/plain": [
              "<IPython.core.display.Math object>"
            ],
            "text/latex": "$\\displaystyle \\left[\\begin{matrix}\\cos{\\left(q_{2} \\right)} & - \\sin{\\left(q_{2} \\right)} & 0\\\\\\sin{\\left(q_{2} \\right)} & \\cos{\\left(q_{2} \\right)} & 0\\\\0 & 0 & 1\\end{matrix}\\right]$"
          },
          "metadata": {}
        },
        {
          "output_type": "stream",
          "name": "stdout",
          "text": [
            "\n",
            "Positional vector between origins in moving frame:\n",
            "\n"
          ]
        },
        {
          "output_type": "display_data",
          "data": {
            "text/plain": [
              "<IPython.core.display.Math object>"
            ],
            "text/latex": "$\\displaystyle \\left[\\begin{matrix}a_{2}\\\\0\\\\0\\end{matrix}\\right]$"
          },
          "metadata": {}
        },
        {
          "output_type": "stream",
          "name": "stdout",
          "text": [
            "\n",
            "Positional vector of link CoM1 in moving frame:\n",
            "\n"
          ]
        },
        {
          "output_type": "display_data",
          "data": {
            "text/plain": [
              "<IPython.core.display.Math object>"
            ],
            "text/latex": "$\\displaystyle \\left[\\begin{matrix}- a_{2} + dc_{2}\\\\0\\\\0\\end{matrix}\\right]$"
          },
          "metadata": {}
        },
        {
          "output_type": "stream",
          "name": "stdout",
          "text": [
            "\n",
            "i = 2\n",
            "\n",
            "w_2:\n",
            "\n"
          ]
        },
        {
          "output_type": "display_data",
          "data": {
            "text/plain": [
              "<IPython.core.display.Math object>"
            ],
            "text/latex": "$\\displaystyle \\left[\\begin{matrix}1.0 q_{dot 1} \\sin{\\left(q_{2} \\right)}\\\\1.0 q_{dot 1} \\cos{\\left(q_{2} \\right)}\\\\q_{dot 2}\\end{matrix}\\right]$"
          },
          "metadata": {}
        },
        {
          "output_type": "stream",
          "name": "stdout",
          "text": [
            "\n",
            "v_2:\n",
            "\n"
          ]
        },
        {
          "output_type": "display_data",
          "data": {
            "text/plain": [
              "<IPython.core.display.Math object>"
            ],
            "text/latex": "$\\displaystyle \\left[\\begin{matrix}0\\\\a_{2} q_{dot 2}\\\\- 1.0 a_{2} q_{dot 1} \\cos{\\left(q_{2} \\right)}\\end{matrix}\\right]$"
          },
          "metadata": {}
        },
        {
          "output_type": "stream",
          "name": "stdout",
          "text": [
            "\n",
            "v_c2:\n",
            "\n"
          ]
        },
        {
          "output_type": "display_data",
          "data": {
            "text/plain": [
              "<IPython.core.display.Math object>"
            ],
            "text/latex": "$\\displaystyle \\left[\\begin{matrix}0\\\\dc_{2} q_{dot 2}\\\\- 1.0 dc_{2} q_{dot 1} \\cos{\\left(q_{2} \\right)}\\end{matrix}\\right]$"
          },
          "metadata": {}
        },
        {
          "output_type": "stream",
          "name": "stdout",
          "text": [
            "\n",
            "T_2:\n",
            "\n"
          ]
        },
        {
          "output_type": "display_data",
          "data": {
            "text/plain": [
              "<IPython.core.display.Math object>"
            ],
            "text/latex": "$\\displaystyle \\left[\\begin{matrix}0.5 I_{c2} \\left(q_{dot 1}^{2} + q_{dot 2}^{2}\\right) + 0.5 dc_{2}^{2} m_{2} \\left(1.0 q_{dot 1}^{2} \\cos^{2}{\\left(q_{2} \\right)} + q_{dot 2}^{2}\\right)\\end{matrix}\\right]$"
          },
          "metadata": {}
        },
        {
          "output_type": "stream",
          "name": "stdout",
          "text": [
            "\n",
            "Rotation matrix from 2 to 3:\n",
            "\n"
          ]
        },
        {
          "output_type": "display_data",
          "data": {
            "text/plain": [
              "<IPython.core.display.Math object>"
            ],
            "text/latex": "$\\displaystyle \\left[\\begin{matrix}\\cos{\\left(q_{3} \\right)} & - \\sin{\\left(q_{3} \\right)} & 0\\\\\\sin{\\left(q_{3} \\right)} & \\cos{\\left(q_{3} \\right)} & 0\\\\0 & 0 & 1\\end{matrix}\\right]$"
          },
          "metadata": {}
        },
        {
          "output_type": "stream",
          "name": "stdout",
          "text": [
            "\n",
            "Positional vector between origins in moving frame:\n",
            "\n"
          ]
        },
        {
          "output_type": "display_data",
          "data": {
            "text/plain": [
              "<IPython.core.display.Math object>"
            ],
            "text/latex": "$\\displaystyle \\left[\\begin{matrix}a_{3}\\\\0\\\\0\\end{matrix}\\right]$"
          },
          "metadata": {}
        },
        {
          "output_type": "stream",
          "name": "stdout",
          "text": [
            "\n",
            "Positional vector of link CoM2 in moving frame:\n",
            "\n"
          ]
        },
        {
          "output_type": "display_data",
          "data": {
            "text/plain": [
              "<IPython.core.display.Math object>"
            ],
            "text/latex": "$\\displaystyle \\left[\\begin{matrix}- a_{3} + dc_{3}\\\\0\\\\0\\end{matrix}\\right]$"
          },
          "metadata": {}
        },
        {
          "output_type": "stream",
          "name": "stdout",
          "text": [
            "\n",
            "i = 3\n",
            "\n",
            "w_3:\n",
            "\n"
          ]
        },
        {
          "output_type": "display_data",
          "data": {
            "text/plain": [
              "<IPython.core.display.Math object>"
            ],
            "text/latex": "$\\displaystyle \\left[\\begin{matrix}1.0 q_{dot 1} \\sin{\\left(q_{2} + q_{3} \\right)}\\\\1.0 q_{dot 1} \\cos{\\left(q_{2} + q_{3} \\right)}\\\\q_{dot 2} + q_{dot 3}\\end{matrix}\\right]$"
          },
          "metadata": {}
        },
        {
          "output_type": "stream",
          "name": "stdout",
          "text": [
            "\n",
            "v_3:\n",
            "\n"
          ]
        },
        {
          "output_type": "display_data",
          "data": {
            "text/plain": [
              "<IPython.core.display.Math object>"
            ],
            "text/latex": "$\\displaystyle \\left[\\begin{matrix}a_{2} q_{dot 2} \\sin{\\left(q_{3} \\right)}\\\\a_{2} q_{dot 2} \\cos{\\left(q_{3} \\right)} + a_{3} \\left(q_{dot 2} + q_{dot 3}\\right)\\\\- 1.0 q_{dot 1} \\left(a_{2} \\cos{\\left(q_{2} \\right)} + a_{3} \\cos{\\left(q_{2} + q_{3} \\right)}\\right)\\end{matrix}\\right]$"
          },
          "metadata": {}
        },
        {
          "output_type": "stream",
          "name": "stdout",
          "text": [
            "\n",
            "v_c3:\n",
            "\n"
          ]
        },
        {
          "output_type": "display_data",
          "data": {
            "text/plain": [
              "<IPython.core.display.Math object>"
            ],
            "text/latex": "$\\displaystyle \\left[\\begin{matrix}a_{2} q_{dot 2} \\sin{\\left(q_{3} \\right)}\\\\a_{2} q_{dot 2} \\cos{\\left(q_{3} \\right)} + dc_{3} q_{dot 2} + dc_{3} q_{dot 3}\\\\- 1.0 q_{dot 1} \\left(a_{2} \\cos{\\left(q_{2} \\right)} + dc_{3} \\cos{\\left(q_{2} + q_{3} \\right)}\\right)\\end{matrix}\\right]$"
          },
          "metadata": {}
        },
        {
          "output_type": "stream",
          "name": "stdout",
          "text": [
            "\n",
            "T_3:\n",
            "\n"
          ]
        },
        {
          "output_type": "display_data",
          "data": {
            "text/plain": [
              "<IPython.core.display.Math object>"
            ],
            "text/latex": "$\\displaystyle \\left[\\begin{matrix}0.5 I_{c3} \\left(q_{dot 1}^{2} + q_{dot 2}^{2} + 2 q_{dot 2} q_{dot 3} + q_{dot 3}^{2}\\right) + 0.5 m_{3} \\left(a_{2}^{2} q_{dot 2}^{2} \\sin^{2}{\\left(q_{3} \\right)} + 1.0 q_{dot 1}^{2} \\left(a_{2} \\cos{\\left(q_{2} \\right)} + dc_{3} \\cos{\\left(q_{2} + q_{3} \\right)}\\right)^{2} + \\left(a_{2} q_{dot 2} \\cos{\\left(q_{3} \\right)} + dc_{3} q_{dot 2} + dc_{3} q_{dot 3}\\right)^{2}\\right)\\end{matrix}\\right]$"
          },
          "metadata": {}
        }
      ]
    },
    {
      "cell_type": "code",
      "source": [
        "sigma = [0,0,0,0]\n",
        "q_dot = [sp.symbols('q_dot_1'), sp.symbols('q_dot_2'), sp.symbols('q_dot_3'),sp.symbols('q_dot_4')]\n",
        "r_c = [np.array([[sp.symbols('dc1')-sp.symbols('l1')], [0], [0]]), np.array([[sp.symbols('dc2')-sp.symbols('l2')], [0], [0]]), np.array([[sp.symbols('dc3')-sp.symbols('l3')], [0], [0]]), np.array([[0], [0], [0]])]\n",
        "m = [sp.symbols('m1'), sp.symbols('m2'), sp.symbols('m3'), sp.symbols('m4')]\n",
        "I_c = [sp.symbols('I_c1'), sp.symbols('I_c2'), sp.symbols('I_c3'), sp.symbols('I_c4')]\n",
        "moving_frames(R, r, r_c, m, I_c, sigma, q_dot)\n",
        "\n",
        "\n",
        "print(\"\\nInertia Matrix:\\n\")\n",
        "M = sp.hessian(T.item(), (sp.symbols('q_dot_1'), sp.symbols('q_dot_2'),sp.symbols('q_dot_3'),sp.symbols('q_dot_4')))\n",
        "M_latex = sp.latex(sp.simplify(M))\n",
        "display(Math(M_latex))"
      ],
      "metadata": {
        "colab": {
          "base_uri": "https://localhost:8080/",
          "height": 1000
        },
        "id": "OTPLORhrD6H9",
        "outputId": "00c8ad0e-232c-4466-ad1a-3e68dd0d4857"
      },
      "execution_count": null,
      "outputs": [
        {
          "output_type": "stream",
          "name": "stdout",
          "text": [
            "\n",
            "Rotation matrix from 0 to 1:\n",
            "\n"
          ]
        },
        {
          "output_type": "display_data",
          "data": {
            "text/plain": [
              "<IPython.core.display.Math object>"
            ],
            "text/latex": "$\\displaystyle \\left[\\begin{matrix}\\cos{\\left(q_{1} \\right)} & - \\sin{\\left(q_{1} \\right)} & 0\\\\\\sin{\\left(q_{1} \\right)} & \\cos{\\left(q_{1} \\right)} & 0\\\\0 & 0 & 1\\end{matrix}\\right]$"
          },
          "metadata": {}
        },
        {
          "output_type": "stream",
          "name": "stdout",
          "text": [
            "\n",
            "Positional vector between origins in moving frame:\n",
            "\n"
          ]
        },
        {
          "output_type": "display_data",
          "data": {
            "text/plain": [
              "<IPython.core.display.Math object>"
            ],
            "text/latex": "$\\displaystyle \\left[\\begin{matrix}l_{1}\\\\0\\\\0\\end{matrix}\\right]$"
          },
          "metadata": {}
        },
        {
          "output_type": "stream",
          "name": "stdout",
          "text": [
            "\n",
            "Positional vector of link CoM0 in moving frame:\n",
            "\n"
          ]
        },
        {
          "output_type": "display_data",
          "data": {
            "text/plain": [
              "<IPython.core.display.Math object>"
            ],
            "text/latex": "$\\displaystyle \\left[\\begin{matrix}dc_{1} - l_{1}\\\\0\\\\0\\end{matrix}\\right]$"
          },
          "metadata": {}
        },
        {
          "output_type": "stream",
          "name": "stdout",
          "text": [
            "\n",
            "i = 1\n",
            "\n",
            "w_1:\n",
            "\n"
          ]
        },
        {
          "output_type": "display_data",
          "data": {
            "text/plain": [
              "<IPython.core.display.Math object>"
            ],
            "text/latex": "$\\displaystyle \\left[\\begin{matrix}0\\\\0\\\\q_{dot 1}\\end{matrix}\\right]$"
          },
          "metadata": {}
        },
        {
          "output_type": "stream",
          "name": "stdout",
          "text": [
            "\n",
            "v_1:\n",
            "\n"
          ]
        },
        {
          "output_type": "display_data",
          "data": {
            "text/plain": [
              "<IPython.core.display.Math object>"
            ],
            "text/latex": "$\\displaystyle \\left[\\begin{matrix}0\\\\l_{1} q_{dot 1}\\\\0\\end{matrix}\\right]$"
          },
          "metadata": {}
        },
        {
          "output_type": "stream",
          "name": "stdout",
          "text": [
            "\n",
            "v_c1:\n",
            "\n"
          ]
        },
        {
          "output_type": "display_data",
          "data": {
            "text/plain": [
              "<IPython.core.display.Math object>"
            ],
            "text/latex": "$\\displaystyle \\left[\\begin{matrix}0\\\\dc_{1} q_{dot 1}\\\\0\\end{matrix}\\right]$"
          },
          "metadata": {}
        },
        {
          "output_type": "stream",
          "name": "stdout",
          "text": [
            "\n",
            "T_1:\n",
            "\n"
          ]
        },
        {
          "output_type": "display_data",
          "data": {
            "text/plain": [
              "<IPython.core.display.Math object>"
            ],
            "text/latex": "$\\displaystyle \\left[\\begin{matrix}0.5 q_{dot 1}^{2} \\left(I_{c1} + dc_{1}^{2} m_{1}\\right)\\end{matrix}\\right]$"
          },
          "metadata": {}
        },
        {
          "output_type": "stream",
          "name": "stdout",
          "text": [
            "\n",
            "Rotation matrix from 1 to 2:\n",
            "\n"
          ]
        },
        {
          "output_type": "display_data",
          "data": {
            "text/plain": [
              "<IPython.core.display.Math object>"
            ],
            "text/latex": "$\\displaystyle \\left[\\begin{matrix}\\cos{\\left(q_{2} \\right)} & - \\sin{\\left(q_{2} \\right)} & 0\\\\\\sin{\\left(q_{2} \\right)} & \\cos{\\left(q_{2} \\right)} & 0\\\\0 & 0 & 1\\end{matrix}\\right]$"
          },
          "metadata": {}
        },
        {
          "output_type": "stream",
          "name": "stdout",
          "text": [
            "\n",
            "Positional vector between origins in moving frame:\n",
            "\n"
          ]
        },
        {
          "output_type": "display_data",
          "data": {
            "text/plain": [
              "<IPython.core.display.Math object>"
            ],
            "text/latex": "$\\displaystyle \\left[\\begin{matrix}l_{2}\\\\0\\\\0\\end{matrix}\\right]$"
          },
          "metadata": {}
        },
        {
          "output_type": "stream",
          "name": "stdout",
          "text": [
            "\n",
            "Positional vector of link CoM1 in moving frame:\n",
            "\n"
          ]
        },
        {
          "output_type": "display_data",
          "data": {
            "text/plain": [
              "<IPython.core.display.Math object>"
            ],
            "text/latex": "$\\displaystyle \\left[\\begin{matrix}dc_{2} - l_{2}\\\\0\\\\0\\end{matrix}\\right]$"
          },
          "metadata": {}
        },
        {
          "output_type": "stream",
          "name": "stdout",
          "text": [
            "\n",
            "i = 2\n",
            "\n",
            "w_2:\n",
            "\n"
          ]
        },
        {
          "output_type": "display_data",
          "data": {
            "text/plain": [
              "<IPython.core.display.Math object>"
            ],
            "text/latex": "$\\displaystyle \\left[\\begin{matrix}0\\\\0\\\\q_{dot 1} + q_{dot 2}\\end{matrix}\\right]$"
          },
          "metadata": {}
        },
        {
          "output_type": "stream",
          "name": "stdout",
          "text": [
            "\n",
            "v_2:\n",
            "\n"
          ]
        },
        {
          "output_type": "display_data",
          "data": {
            "text/plain": [
              "<IPython.core.display.Math object>"
            ],
            "text/latex": "$\\displaystyle \\left[\\begin{matrix}l_{1} q_{dot 1} \\sin{\\left(q_{2} \\right)}\\\\l_{1} q_{dot 1} \\cos{\\left(q_{2} \\right)} + l_{2} \\left(q_{dot 1} + q_{dot 2}\\right)\\\\0\\end{matrix}\\right]$"
          },
          "metadata": {}
        },
        {
          "output_type": "stream",
          "name": "stdout",
          "text": [
            "\n",
            "v_c2:\n",
            "\n"
          ]
        },
        {
          "output_type": "display_data",
          "data": {
            "text/plain": [
              "<IPython.core.display.Math object>"
            ],
            "text/latex": "$\\displaystyle \\left[\\begin{matrix}l_{1} q_{dot 1} \\sin{\\left(q_{2} \\right)}\\\\dc_{2} q_{dot 1} + dc_{2} q_{dot 2} + l_{1} q_{dot 1} \\cos{\\left(q_{2} \\right)}\\\\0\\end{matrix}\\right]$"
          },
          "metadata": {}
        },
        {
          "output_type": "stream",
          "name": "stdout",
          "text": [
            "\n",
            "T_2:\n",
            "\n"
          ]
        },
        {
          "output_type": "display_data",
          "data": {
            "text/plain": [
              "<IPython.core.display.Math object>"
            ],
            "text/latex": "$\\displaystyle \\left[\\begin{matrix}0.5 I_{c2} \\left(q_{dot 1} + q_{dot 2}\\right)^{2} + 0.5 m_{2} \\left(l_{1}^{2} q_{dot 1}^{2} \\sin^{2}{\\left(q_{2} \\right)} + \\left(dc_{2} q_{dot 1} + dc_{2} q_{dot 2} + l_{1} q_{dot 1} \\cos{\\left(q_{2} \\right)}\\right)^{2}\\right)\\end{matrix}\\right]$"
          },
          "metadata": {}
        },
        {
          "output_type": "stream",
          "name": "stdout",
          "text": [
            "\n",
            "Rotation matrix from 2 to 3:\n",
            "\n"
          ]
        },
        {
          "output_type": "display_data",
          "data": {
            "text/plain": [
              "<IPython.core.display.Math object>"
            ],
            "text/latex": "$\\displaystyle \\left[\\begin{matrix}\\cos{\\left(q_{3} \\right)} & - \\sin{\\left(q_{3} \\right)} & 0\\\\\\sin{\\left(q_{3} \\right)} & \\cos{\\left(q_{3} \\right)} & 0\\\\0 & 0 & 1\\end{matrix}\\right]$"
          },
          "metadata": {}
        },
        {
          "output_type": "stream",
          "name": "stdout",
          "text": [
            "\n",
            "Positional vector between origins in moving frame:\n",
            "\n"
          ]
        },
        {
          "output_type": "display_data",
          "data": {
            "text/plain": [
              "<IPython.core.display.Math object>"
            ],
            "text/latex": "$\\displaystyle \\left[\\begin{matrix}l_{3}\\\\0\\\\0\\end{matrix}\\right]$"
          },
          "metadata": {}
        },
        {
          "output_type": "stream",
          "name": "stdout",
          "text": [
            "\n",
            "Positional vector of link CoM2 in moving frame:\n",
            "\n"
          ]
        },
        {
          "output_type": "display_data",
          "data": {
            "text/plain": [
              "<IPython.core.display.Math object>"
            ],
            "text/latex": "$\\displaystyle \\left[\\begin{matrix}dc_{3} - l_{3}\\\\0\\\\0\\end{matrix}\\right]$"
          },
          "metadata": {}
        },
        {
          "output_type": "stream",
          "name": "stdout",
          "text": [
            "\n",
            "i = 3\n",
            "\n",
            "w_3:\n",
            "\n"
          ]
        },
        {
          "output_type": "display_data",
          "data": {
            "text/plain": [
              "<IPython.core.display.Math object>"
            ],
            "text/latex": "$\\displaystyle \\left[\\begin{matrix}0\\\\0\\\\q_{dot 1} + q_{dot 2} + q_{dot 3}\\end{matrix}\\right]$"
          },
          "metadata": {}
        },
        {
          "output_type": "stream",
          "name": "stdout",
          "text": [
            "\n",
            "v_3:\n",
            "\n"
          ]
        },
        {
          "output_type": "display_data",
          "data": {
            "text/plain": [
              "<IPython.core.display.Math object>"
            ],
            "text/latex": "$\\displaystyle \\left[\\begin{matrix}l_{1} q_{dot 1} \\sin{\\left(q_{2} + q_{3} \\right)} + l_{2} q_{dot 1} \\sin{\\left(q_{3} \\right)} + l_{2} q_{dot 2} \\sin{\\left(q_{3} \\right)}\\\\l_{1} q_{dot 1} \\cos{\\left(q_{2} + q_{3} \\right)} + l_{2} q_{dot 1} \\cos{\\left(q_{3} \\right)} + l_{2} q_{dot 2} \\cos{\\left(q_{3} \\right)} + l_{3} q_{dot 1} + l_{3} q_{dot 2} + l_{3} q_{dot 3}\\\\0\\end{matrix}\\right]$"
          },
          "metadata": {}
        },
        {
          "output_type": "stream",
          "name": "stdout",
          "text": [
            "\n",
            "v_c3:\n",
            "\n"
          ]
        },
        {
          "output_type": "display_data",
          "data": {
            "text/plain": [
              "<IPython.core.display.Math object>"
            ],
            "text/latex": "$\\displaystyle \\left[\\begin{matrix}l_{1} q_{dot 1} \\sin{\\left(q_{2} + q_{3} \\right)} + l_{2} q_{dot 1} \\sin{\\left(q_{3} \\right)} + l_{2} q_{dot 2} \\sin{\\left(q_{3} \\right)}\\\\dc_{3} q_{dot 1} + dc_{3} q_{dot 2} + dc_{3} q_{dot 3} + l_{1} q_{dot 1} \\cos{\\left(q_{2} + q_{3} \\right)} + l_{2} q_{dot 1} \\cos{\\left(q_{3} \\right)} + l_{2} q_{dot 2} \\cos{\\left(q_{3} \\right)}\\\\0\\end{matrix}\\right]$"
          },
          "metadata": {}
        },
        {
          "output_type": "stream",
          "name": "stdout",
          "text": [
            "\n",
            "T_3:\n",
            "\n"
          ]
        },
        {
          "output_type": "display_data",
          "data": {
            "text/plain": [
              "<IPython.core.display.Math object>"
            ],
            "text/latex": "$\\displaystyle \\left[\\begin{matrix}0.5 I_{c3} \\left(q_{dot 1} + q_{dot 2} + q_{dot 3}\\right)^{2} + 0.5 m_{3} \\left(\\left(l_{1} q_{dot 1} \\sin{\\left(q_{2} + q_{3} \\right)} + l_{2} q_{dot 1} \\sin{\\left(q_{3} \\right)} + l_{2} q_{dot 2} \\sin{\\left(q_{3} \\right)}\\right)^{2} + \\left(dc_{3} q_{dot 1} + dc_{3} q_{dot 2} + dc_{3} q_{dot 3} + l_{1} q_{dot 1} \\cos{\\left(q_{2} + q_{3} \\right)} + l_{2} q_{dot 1} \\cos{\\left(q_{3} \\right)} + l_{2} q_{dot 2} \\cos{\\left(q_{3} \\right)}\\right)^{2}\\right)\\end{matrix}\\right]$"
          },
          "metadata": {}
        },
        {
          "output_type": "stream",
          "name": "stdout",
          "text": [
            "\n",
            "Rotation matrix from 3 to 4:\n",
            "\n"
          ]
        },
        {
          "output_type": "display_data",
          "data": {
            "text/plain": [
              "<IPython.core.display.Math object>"
            ],
            "text/latex": "$\\displaystyle \\left[\\begin{matrix}\\cos{\\left(q_{4} \\right)} & - \\sin{\\left(q_{4} \\right)} & 0\\\\\\sin{\\left(q_{4} \\right)} & \\cos{\\left(q_{4} \\right)} & 0\\\\0 & 0 & 1\\end{matrix}\\right]$"
          },
          "metadata": {}
        },
        {
          "output_type": "stream",
          "name": "stdout",
          "text": [
            "\n",
            "Positional vector between origins in moving frame:\n",
            "\n"
          ]
        },
        {
          "output_type": "display_data",
          "data": {
            "text/plain": [
              "<IPython.core.display.Math object>"
            ],
            "text/latex": "$\\displaystyle \\left[\\begin{matrix}l_{4}\\\\0\\\\0\\end{matrix}\\right]$"
          },
          "metadata": {}
        },
        {
          "output_type": "stream",
          "name": "stdout",
          "text": [
            "\n",
            "Positional vector of link CoM3 in moving frame:\n",
            "\n"
          ]
        },
        {
          "output_type": "display_data",
          "data": {
            "text/plain": [
              "<IPython.core.display.Math object>"
            ],
            "text/latex": "$\\displaystyle \\left[\\begin{matrix}0\\\\0\\\\0\\end{matrix}\\right]$"
          },
          "metadata": {}
        },
        {
          "output_type": "stream",
          "name": "stdout",
          "text": [
            "\n",
            "i = 4\n",
            "\n",
            "w_4:\n",
            "\n"
          ]
        },
        {
          "output_type": "display_data",
          "data": {
            "text/plain": [
              "<IPython.core.display.Math object>"
            ],
            "text/latex": "$\\displaystyle \\left[\\begin{matrix}0\\\\0\\\\q_{dot 1} + q_{dot 2} + q_{dot 3} + q_{dot 4}\\end{matrix}\\right]$"
          },
          "metadata": {}
        },
        {
          "output_type": "stream",
          "name": "stdout",
          "text": [
            "\n",
            "v_4:\n",
            "\n"
          ]
        },
        {
          "output_type": "display_data",
          "data": {
            "text/plain": [
              "<IPython.core.display.Math object>"
            ],
            "text/latex": "$\\displaystyle \\left[\\begin{matrix}l_{1} q_{dot 1} \\sin{\\left(q_{2} + q_{3} + q_{4} \\right)} + l_{2} q_{dot 1} \\sin{\\left(q_{3} + q_{4} \\right)} + l_{2} q_{dot 2} \\sin{\\left(q_{3} + q_{4} \\right)} + l_{3} q_{dot 1} \\sin{\\left(q_{4} \\right)} + l_{3} q_{dot 2} \\sin{\\left(q_{4} \\right)} + l_{3} q_{dot 3} \\sin{\\left(q_{4} \\right)}\\\\l_{1} q_{dot 1} \\cos{\\left(q_{2} + q_{3} + q_{4} \\right)} + l_{2} q_{dot 1} \\cos{\\left(q_{3} + q_{4} \\right)} + l_{2} q_{dot 2} \\cos{\\left(q_{3} + q_{4} \\right)} + l_{3} q_{dot 1} \\cos{\\left(q_{4} \\right)} + l_{3} q_{dot 2} \\cos{\\left(q_{4} \\right)} + l_{3} q_{dot 3} \\cos{\\left(q_{4} \\right)} + l_{4} q_{dot 1} + l_{4} q_{dot 2} + l_{4} q_{dot 3} + l_{4} q_{dot 4}\\\\0\\end{matrix}\\right]$"
          },
          "metadata": {}
        },
        {
          "output_type": "stream",
          "name": "stdout",
          "text": [
            "\n",
            "v_c4:\n",
            "\n"
          ]
        },
        {
          "output_type": "display_data",
          "data": {
            "text/plain": [
              "<IPython.core.display.Math object>"
            ],
            "text/latex": "$\\displaystyle \\left[\\begin{matrix}l_{1} q_{dot 1} \\sin{\\left(q_{2} + q_{3} + q_{4} \\right)} + l_{2} q_{dot 1} \\sin{\\left(q_{3} + q_{4} \\right)} + l_{2} q_{dot 2} \\sin{\\left(q_{3} + q_{4} \\right)} + l_{3} q_{dot 1} \\sin{\\left(q_{4} \\right)} + l_{3} q_{dot 2} \\sin{\\left(q_{4} \\right)} + l_{3} q_{dot 3} \\sin{\\left(q_{4} \\right)}\\\\l_{1} q_{dot 1} \\cos{\\left(q_{2} + q_{3} + q_{4} \\right)} + l_{2} q_{dot 1} \\cos{\\left(q_{3} + q_{4} \\right)} + l_{2} q_{dot 2} \\cos{\\left(q_{3} + q_{4} \\right)} + l_{3} q_{dot 1} \\cos{\\left(q_{4} \\right)} + l_{3} q_{dot 2} \\cos{\\left(q_{4} \\right)} + l_{3} q_{dot 3} \\cos{\\left(q_{4} \\right)} + l_{4} q_{dot 1} + l_{4} q_{dot 2} + l_{4} q_{dot 3} + l_{4} q_{dot 4}\\\\0\\end{matrix}\\right]$"
          },
          "metadata": {}
        },
        {
          "output_type": "stream",
          "name": "stdout",
          "text": [
            "\n",
            "T_4:\n",
            "\n"
          ]
        },
        {
          "output_type": "display_data",
          "data": {
            "text/plain": [
              "<IPython.core.display.Math object>"
            ],
            "text/latex": "$\\displaystyle \\left[\\begin{matrix}0.5 I_{c4} \\left(q_{dot 1} + q_{dot 2} + q_{dot 3} + q_{dot 4}\\right)^{2} + 0.5 m_{4} \\left(\\left(l_{1} q_{dot 1} \\sin{\\left(q_{2} + q_{3} + q_{4} \\right)} + l_{2} q_{dot 1} \\sin{\\left(q_{3} + q_{4} \\right)} + l_{2} q_{dot 2} \\sin{\\left(q_{3} + q_{4} \\right)} + l_{3} q_{dot 1} \\sin{\\left(q_{4} \\right)} + l_{3} q_{dot 2} \\sin{\\left(q_{4} \\right)} + l_{3} q_{dot 3} \\sin{\\left(q_{4} \\right)}\\right)^{2} + \\left(l_{1} q_{dot 1} \\cos{\\left(q_{2} + q_{3} + q_{4} \\right)} + l_{2} q_{dot 1} \\cos{\\left(q_{3} + q_{4} \\right)} + l_{2} q_{dot 2} \\cos{\\left(q_{3} + q_{4} \\right)} + l_{3} q_{dot 1} \\cos{\\left(q_{4} \\right)} + l_{3} q_{dot 2} \\cos{\\left(q_{4} \\right)} + l_{3} q_{dot 3} \\cos{\\left(q_{4} \\right)} + l_{4} q_{dot 1} + l_{4} q_{dot 2} + l_{4} q_{dot 3} + l_{4} q_{dot 4}\\right)^{2}\\right)\\end{matrix}\\right]$"
          },
          "metadata": {}
        }
      ]
    },
    {
      "cell_type": "markdown",
      "source": [
        "## Centrifugal and Coriolis terms"
      ],
      "metadata": {
        "id": "CyS-DNpsmDdz"
      }
    },
    {
      "cell_type": "code",
      "source": [
        "\"\"\"\n",
        "- M is a quadratic matrix (symbolic)\n",
        "- q_dot is a symbolic vector containing the symbolic variables of each joint velocity\n",
        "- variables is a list of symbolic variables for which we have to differentiate\n",
        "\"\"\"\n",
        "def compute_centrifugal_coriolis(M, q_dot, variables):\n",
        "\n",
        "  n = M.shape[0]\n",
        "  C = []\n",
        "  c = []\n",
        "\n",
        "  for i in range(n):\n",
        "    M_i = M[:,i]\n",
        "    dMi_dq = M_i.jacobian(variables)\n",
        "    dM_dqi = sp.Matrix([sp.diff(M, variables[i])])\n",
        "    C_i = 0.5*(dMi_dq + dMi_dq.T - dM_dqi)\n",
        "    C.append(C_i)\n",
        "    c_i = q_dot.T * C_i * q_dot\n",
        "    C_i_latex = sp.latex(C_i)\n",
        "    c_i_latex = sp.latex(c_i)\n",
        "    print(f\"\\nC_{i+1}:\\n\")\n",
        "    display(Math(C_i_latex))\n",
        "    print(f\"\\nc_{i+1}:\\n\")\n",
        "    display(Math(c_i_latex))\n",
        "\n",
        "  return"
      ],
      "metadata": {
        "id": "QZhS_bicQY1e"
      },
      "execution_count": null,
      "outputs": []
    },
    {
      "cell_type": "code",
      "source": [
        "# build your M matrix from the computations above\n",
        "# example 2R planar robot\n",
        "\n",
        "q1 = sp.symbols('q1')\n",
        "q2 = sp.symbols('q2')\n",
        "variables = [q1, q2]\n",
        "\n",
        "A = sp.symbols('A')\n",
        "B = sp.symbols('B')\n",
        "C = sp.symbols('C')\n",
        "c2 = sp.cos('q2')\n",
        "\n",
        "m11 = A\n",
        "m12 = B*c2\n",
        "m21 = m12\n",
        "m22 = C\n",
        "\n",
        "M = sp.Matrix([\n",
        "    [m11,m12],\n",
        "    [m21,m22]\n",
        "])\n",
        "\n",
        "q_dot_1 = sp.symbols('q_dot_1')\n",
        "q_dot_2 = sp.symbols('q_dot_2')\n",
        "q_dot = sp.Matrix([\n",
        "    [q_dot_1],\n",
        "    [q_dot_2]\n",
        "])\n",
        "\n",
        "compute_centrifugal_coriolis(M, q_dot, variables)"
      ],
      "metadata": {
        "id": "7_kx0PG3RG2p",
        "colab": {
          "base_uri": "https://localhost:8080/",
          "height": 349
        },
        "outputId": "be90d0ff-6afd-42da-b98e-315bbb668d1c"
      },
      "execution_count": null,
      "outputs": [
        {
          "output_type": "stream",
          "name": "stdout",
          "text": [
            "\n",
            "C_1:\n",
            "\n"
          ]
        },
        {
          "output_type": "display_data",
          "data": {
            "text/plain": [
              "<IPython.core.display.Math object>"
            ],
            "text/latex": "$\\displaystyle \\left[\\begin{matrix}0 & 0\\\\0 & - 1.0 B \\sin{\\left(q_{2} \\right)}\\end{matrix}\\right]$"
          },
          "metadata": {}
        },
        {
          "output_type": "stream",
          "name": "stdout",
          "text": [
            "\n",
            "c_1:\n",
            "\n"
          ]
        },
        {
          "output_type": "display_data",
          "data": {
            "text/plain": [
              "<IPython.core.display.Math object>"
            ],
            "text/latex": "$\\displaystyle \\left[\\begin{matrix}- 1.0 B q_{dot 2}^{2} \\sin{\\left(q_{2} \\right)}\\end{matrix}\\right]$"
          },
          "metadata": {}
        },
        {
          "output_type": "stream",
          "name": "stdout",
          "text": [
            "\n",
            "C_2:\n",
            "\n"
          ]
        },
        {
          "output_type": "display_data",
          "data": {
            "text/plain": [
              "<IPython.core.display.Math object>"
            ],
            "text/latex": "$\\displaystyle \\left[\\begin{matrix}0 & 0\\\\0 & 0\\end{matrix}\\right]$"
          },
          "metadata": {}
        },
        {
          "output_type": "stream",
          "name": "stdout",
          "text": [
            "\n",
            "c_2:\n",
            "\n"
          ]
        },
        {
          "output_type": "display_data",
          "data": {
            "text/plain": [
              "<IPython.core.display.Math object>"
            ],
            "text/latex": "$\\displaystyle \\left[\\begin{matrix}0\\end{matrix}\\right]$"
          },
          "metadata": {}
        }
      ]
    },
    {
      "cell_type": "code",
      "source": [
        "# build your M matrix from the computations above\n",
        "# example 2R planar robot\n",
        "\n",
        "q1 = sp.symbols('q1')\n",
        "q2 = sp.symbols('q2')\n",
        "variables = [q1, q2]\n",
        "\n",
        "m1,m2 = sp.symbols('m1 m2')\n",
        "Ic2 = sp.symbols('Ic2')\n",
        "d2 = sp.symbols('d2')\n",
        "c2 = sp.cos('q2')\n",
        "\n",
        "m11 = m1+m2\n",
        "m12 = d2*c2\n",
        "m21 = m12\n",
        "m22 = Ic2+d2**2\n",
        "\n",
        "M = sp.Matrix([\n",
        "    [m11,m12],\n",
        "    [m21,m22]\n",
        "])\n",
        "\n",
        "q_dot_1 = sp.symbols('q_dot_1')\n",
        "q_dot_2 = sp.symbols('q_dot_2')\n",
        "q_dot = sp.Matrix([\n",
        "    [q_dot_1],\n",
        "    [q_dot_2]\n",
        "])\n",
        "\n",
        "compute_centrifugal_coriolis(M, q_dot, variables)"
      ],
      "metadata": {
        "colab": {
          "base_uri": "https://localhost:8080/",
          "height": 349
        },
        "id": "ImPkHWH9epqx",
        "outputId": "bb9964b2-f137-4bb3-8bad-4d8b5d65b392"
      },
      "execution_count": null,
      "outputs": [
        {
          "output_type": "stream",
          "name": "stdout",
          "text": [
            "\n",
            "C_1:\n",
            "\n"
          ]
        },
        {
          "output_type": "display_data",
          "data": {
            "text/plain": [
              "<IPython.core.display.Math object>"
            ],
            "text/latex": "$\\displaystyle \\left[\\begin{matrix}0 & 0\\\\0 & - 1.0 d_{2} \\sin{\\left(q_{2} \\right)}\\end{matrix}\\right]$"
          },
          "metadata": {}
        },
        {
          "output_type": "stream",
          "name": "stdout",
          "text": [
            "\n",
            "c_1:\n",
            "\n"
          ]
        },
        {
          "output_type": "display_data",
          "data": {
            "text/plain": [
              "<IPython.core.display.Math object>"
            ],
            "text/latex": "$\\displaystyle \\left[\\begin{matrix}- 1.0 d_{2} q_{dot 2}^{2} \\sin{\\left(q_{2} \\right)}\\end{matrix}\\right]$"
          },
          "metadata": {}
        },
        {
          "output_type": "stream",
          "name": "stdout",
          "text": [
            "\n",
            "C_2:\n",
            "\n"
          ]
        },
        {
          "output_type": "display_data",
          "data": {
            "text/plain": [
              "<IPython.core.display.Math object>"
            ],
            "text/latex": "$\\displaystyle \\left[\\begin{matrix}0 & 0\\\\0 & 0\\end{matrix}\\right]$"
          },
          "metadata": {}
        },
        {
          "output_type": "stream",
          "name": "stdout",
          "text": [
            "\n",
            "c_2:\n",
            "\n"
          ]
        },
        {
          "output_type": "display_data",
          "data": {
            "text/plain": [
              "<IPython.core.display.Math object>"
            ],
            "text/latex": "$\\displaystyle \\left[\\begin{matrix}0\\end{matrix}\\right]$"
          },
          "metadata": {}
        }
      ]
    },
    {
      "cell_type": "code",
      "source": [
        "# example 2R planar robot\n",
        "q1 = sp.symbols('q1')\n",
        "q2 = sp.symbols('q2')\n",
        "variables = [q1, q2]\n",
        "\n",
        "a1 = sp.symbols('a1')\n",
        "a2 = sp.symbols('a2')\n",
        "a3 = sp.symbols('a3')\n",
        "c2 = sp.cos('q2')\n",
        "\n",
        "m11 = a1+2*a2*c2\n",
        "m12 = a3+a2*c2\n",
        "m21 = m12\n",
        "m22 = a3\n",
        "\n",
        "M = sp.Matrix([\n",
        "    [m11,m12],\n",
        "    [m21,m22]\n",
        "])\n",
        "\n",
        "q_dot_1 = sp.symbols('q_dot_1')\n",
        "q_dot_2 = sp.symbols('q_dot_2')\n",
        "q_dot = sp.Matrix([\n",
        "    [q_dot_1],\n",
        "    [q_dot_2]\n",
        "])\n",
        "\n",
        "compute_centrifugal_coriolis(M, q_dot, variables)"
      ],
      "metadata": {
        "colab": {
          "base_uri": "https://localhost:8080/",
          "height": 349
        },
        "id": "UYSOgESHbmzf",
        "outputId": "73c3f209-ca58-4783-8d86-714c53bb137e"
      },
      "execution_count": null,
      "outputs": [
        {
          "output_type": "stream",
          "name": "stdout",
          "text": [
            "\n",
            "C_1:\n",
            "\n"
          ]
        },
        {
          "output_type": "display_data",
          "data": {
            "text/plain": [
              "<IPython.core.display.Math object>"
            ],
            "text/latex": "$\\displaystyle \\left[\\begin{matrix}0 & - 1.0 a_{2} \\sin{\\left(q_{2} \\right)}\\\\- 1.0 a_{2} \\sin{\\left(q_{2} \\right)} & - 1.0 a_{2} \\sin{\\left(q_{2} \\right)}\\end{matrix}\\right]$"
          },
          "metadata": {}
        },
        {
          "output_type": "stream",
          "name": "stdout",
          "text": [
            "\n",
            "c_1:\n",
            "\n"
          ]
        },
        {
          "output_type": "display_data",
          "data": {
            "text/plain": [
              "<IPython.core.display.Math object>"
            ],
            "text/latex": "$\\displaystyle \\left[\\begin{matrix}- 1.0 a_{2} q_{dot 1} q_{dot 2} \\sin{\\left(q_{2} \\right)} + q_{dot 2} \\left(- 1.0 a_{2} q_{dot 1} \\sin{\\left(q_{2} \\right)} - 1.0 a_{2} q_{dot 2} \\sin{\\left(q_{2} \\right)}\\right)\\end{matrix}\\right]$"
          },
          "metadata": {}
        },
        {
          "output_type": "stream",
          "name": "stdout",
          "text": [
            "\n",
            "C_2:\n",
            "\n"
          ]
        },
        {
          "output_type": "display_data",
          "data": {
            "text/plain": [
              "<IPython.core.display.Math object>"
            ],
            "text/latex": "$\\displaystyle \\left[\\begin{matrix}1.0 a_{2} \\sin{\\left(q_{2} \\right)} & 0\\\\0 & 0\\end{matrix}\\right]$"
          },
          "metadata": {}
        },
        {
          "output_type": "stream",
          "name": "stdout",
          "text": [
            "\n",
            "c_2:\n",
            "\n"
          ]
        },
        {
          "output_type": "display_data",
          "data": {
            "text/plain": [
              "<IPython.core.display.Math object>"
            ],
            "text/latex": "$\\displaystyle \\left[\\begin{matrix}1.0 a_{2} q_{dot 1}^{2} \\sin{\\left(q_{2} \\right)}\\end{matrix}\\right]$"
          },
          "metadata": {}
        }
      ]
    },
    {
      "cell_type": "code",
      "source": [
        "# example 2R planar robot\n",
        "q1 = sp.symbols('q1')\n",
        "q2 = sp.symbols('q2')\n",
        "variables = [q1, q2]\n",
        "\n",
        "m1 = sp.symbols('m1')\n",
        "m2 = sp.symbols('m2')\n",
        "dc2 = sp.symbols('d_c2')\n",
        "s2 = sp.sin('q2')\n",
        "Ic2 = sp.symbols('Ic2')\n",
        "\n",
        "m11 = m1+m2\n",
        "m12 = -m2*dc2*s2\n",
        "m21 = -m2*dc2*s2\n",
        "m22 = Ic2+m2*dc2**2\n",
        "\n",
        "M = sp.Matrix([\n",
        "    [m11,m12],\n",
        "    [m21,m22]\n",
        "])\n",
        "\n",
        "q_dot_1 = sp.symbols('q_dot_1')\n",
        "q_dot_2 = sp.symbols('q_dot_2')\n",
        "q_dot = sp.Matrix([\n",
        "    [q_dot_1],\n",
        "    [q_dot_2]\n",
        "])\n",
        "\n",
        "compute_centrifugal_coriolis(M, q_dot, variables)"
      ],
      "metadata": {
        "colab": {
          "base_uri": "https://localhost:8080/",
          "height": 350
        },
        "id": "idmA4nBDWGhv",
        "outputId": "7d243410-aac5-4e39-ca6c-4977434dfe63"
      },
      "execution_count": null,
      "outputs": [
        {
          "output_type": "stream",
          "name": "stdout",
          "text": [
            "\n",
            "C_1:\n",
            "\n"
          ]
        },
        {
          "output_type": "display_data",
          "data": {
            "text/plain": [
              "<IPython.core.display.Math object>"
            ],
            "text/latex": "$\\displaystyle \\left[\\begin{matrix}0 & 0\\\\0 & - 1.0 d_{c2} m_{2} \\cos{\\left(q_{2} \\right)}\\end{matrix}\\right]$"
          },
          "metadata": {}
        },
        {
          "output_type": "stream",
          "name": "stdout",
          "text": [
            "\n",
            "c_1:\n",
            "\n"
          ]
        },
        {
          "output_type": "display_data",
          "data": {
            "text/plain": [
              "<IPython.core.display.Math object>"
            ],
            "text/latex": "$\\displaystyle \\left[\\begin{matrix}- 1.0 d_{c2} m_{2} q_{dot 2}^{2} \\cos{\\left(q_{2} \\right)}\\end{matrix}\\right]$"
          },
          "metadata": {}
        },
        {
          "output_type": "stream",
          "name": "stdout",
          "text": [
            "\n",
            "C_2:\n",
            "\n"
          ]
        },
        {
          "output_type": "display_data",
          "data": {
            "text/plain": [
              "<IPython.core.display.Math object>"
            ],
            "text/latex": "$\\displaystyle \\left[\\begin{matrix}0 & 0\\\\0 & 0\\end{matrix}\\right]$"
          },
          "metadata": {}
        },
        {
          "output_type": "stream",
          "name": "stdout",
          "text": [
            "\n",
            "c_2:\n",
            "\n"
          ]
        },
        {
          "output_type": "display_data",
          "data": {
            "text/plain": [
              "<IPython.core.display.Math object>"
            ],
            "text/latex": "$\\displaystyle \\left[\\begin{matrix}0\\end{matrix}\\right]$"
          },
          "metadata": {}
        }
      ]
    },
    {
      "cell_type": "code",
      "source": [
        "# example 2R planar robot\n",
        "q1 = sp.symbols('q1')\n",
        "q2 = sp.symbols('q2')\n",
        "q3 = sp.symbols('q3')\n",
        "variables = [q1, q2, q3]\n",
        "\n",
        "m1 = sp.symbols('m1')\n",
        "m2 = sp.symbols('m2')\n",
        "m3 = sp.symbols('m3')\n",
        "dc3 = sp.symbols('d_c3')\n",
        "s2 = sp.sin('q2')\n",
        "s3 = sp.sin('q3')\n",
        "c2 = sp.cos('q2')\n",
        "c3 = sp.cos('q3')\n",
        "Ic2 = sp.symbols('Ic2')\n",
        "Ic3y = sp.symbols('Ic3y')\n",
        "Ic3x = sp.symbols('Ic3x')\n",
        "Ic3z = sp.symbols('Ic3z')\n",
        "\n",
        "m11 = m1+m2+m3\n",
        "m12 = -m3*dc3*c2*c3\n",
        "m13 = m3*dc3*s2*s3\n",
        "\n",
        "m21 = -m3*dc3*c2*c3\n",
        "m22 = Ic2+Ic3x+(Ic3y-Ic3x+m3*dc3**2)*c3**2\n",
        "m23 = 0\n",
        "\n",
        "m31 = m3*dc3*s2*s3\n",
        "m32 = 0\n",
        "m33 = Ic3z+m3*dc3**2\n",
        "\n",
        "M = sp.Matrix([\n",
        "    [m11,m12,m13],\n",
        "    [m21,m22,m23],\n",
        "    [m31,m32,m33]\n",
        "])\n",
        "\n",
        "q_dot_1 = sp.symbols('q_dot_1')\n",
        "q_dot_2 = sp.symbols('q_dot_2')\n",
        "q_dot_3 = sp.symbols('q_dot_3')\n",
        "q_dot = sp.Matrix([\n",
        "    [q_dot_1],\n",
        "    [q_dot_2],\n",
        "    [q_dot_3]\n",
        "])\n",
        "\n",
        "compute_centrifugal_coriolis(M, q_dot, variables)"
      ],
      "metadata": {
        "colab": {
          "base_uri": "https://localhost:8080/",
          "height": 596
        },
        "id": "msetLiNJaL0n",
        "outputId": "891e3437-871e-4602-af78-310c8fd58535"
      },
      "execution_count": null,
      "outputs": [
        {
          "output_type": "stream",
          "name": "stdout",
          "text": [
            "\n",
            "C_1:\n",
            "\n"
          ]
        },
        {
          "output_type": "display_data",
          "data": {
            "text/plain": [
              "<IPython.core.display.Math object>"
            ],
            "text/latex": "$\\displaystyle \\left[\\begin{matrix}0 & 0 & 0\\\\0 & 1.0 d_{c3} m_{3} \\sin{\\left(q_{2} \\right)} \\cos{\\left(q_{3} \\right)} & 1.0 d_{c3} m_{3} \\sin{\\left(q_{3} \\right)} \\cos{\\left(q_{2} \\right)}\\\\0 & 1.0 d_{c3} m_{3} \\sin{\\left(q_{3} \\right)} \\cos{\\left(q_{2} \\right)} & 1.0 d_{c3} m_{3} \\sin{\\left(q_{2} \\right)} \\cos{\\left(q_{3} \\right)}\\end{matrix}\\right]$"
          },
          "metadata": {}
        },
        {
          "output_type": "stream",
          "name": "stdout",
          "text": [
            "\n",
            "c_1:\n",
            "\n"
          ]
        },
        {
          "output_type": "display_data",
          "data": {
            "text/plain": [
              "<IPython.core.display.Math object>"
            ],
            "text/latex": "$\\displaystyle \\left[\\begin{matrix}q_{dot 2} \\left(1.0 d_{c3} m_{3} q_{dot 2} \\sin{\\left(q_{2} \\right)} \\cos{\\left(q_{3} \\right)} + 1.0 d_{c3} m_{3} q_{dot 3} \\sin{\\left(q_{3} \\right)} \\cos{\\left(q_{2} \\right)}\\right) + q_{dot 3} \\left(1.0 d_{c3} m_{3} q_{dot 2} \\sin{\\left(q_{3} \\right)} \\cos{\\left(q_{2} \\right)} + 1.0 d_{c3} m_{3} q_{dot 3} \\sin{\\left(q_{2} \\right)} \\cos{\\left(q_{3} \\right)}\\right)\\end{matrix}\\right]$"
          },
          "metadata": {}
        },
        {
          "output_type": "stream",
          "name": "stdout",
          "text": [
            "\n",
            "C_2:\n",
            "\n"
          ]
        },
        {
          "output_type": "display_data",
          "data": {
            "text/plain": [
              "<IPython.core.display.Math object>"
            ],
            "text/latex": "$\\displaystyle \\left[\\begin{matrix}0 & 0 & 0\\\\0 & 0 & - 1.0 \\left(- Ic3x + Ic3y + d_{c3}^{2} m_{3}\\right) \\sin{\\left(q_{3} \\right)} \\cos{\\left(q_{3} \\right)}\\\\0 & - 1.0 \\left(- Ic3x + Ic3y + d_{c3}^{2} m_{3}\\right) \\sin{\\left(q_{3} \\right)} \\cos{\\left(q_{3} \\right)} & 0\\end{matrix}\\right]$"
          },
          "metadata": {}
        },
        {
          "output_type": "stream",
          "name": "stdout",
          "text": [
            "\n",
            "c_2:\n",
            "\n"
          ]
        },
        {
          "output_type": "display_data",
          "data": {
            "text/plain": [
              "<IPython.core.display.Math object>"
            ],
            "text/latex": "$\\displaystyle \\left[\\begin{matrix}- 2.0 q_{dot 2} q_{dot 3} \\left(- Ic3x + Ic3y + d_{c3}^{2} m_{3}\\right) \\sin{\\left(q_{3} \\right)} \\cos{\\left(q_{3} \\right)}\\end{matrix}\\right]$"
          },
          "metadata": {}
        },
        {
          "output_type": "stream",
          "name": "stdout",
          "text": [
            "\n",
            "C_3:\n",
            "\n"
          ]
        },
        {
          "output_type": "display_data",
          "data": {
            "text/plain": [
              "<IPython.core.display.Math object>"
            ],
            "text/latex": "$\\displaystyle \\left[\\begin{matrix}0 & 0 & 0\\\\0 & 1.0 \\left(- Ic3x + Ic3y + d_{c3}^{2} m_{3}\\right) \\sin{\\left(q_{3} \\right)} \\cos{\\left(q_{3} \\right)} & 0\\\\0 & 0 & 0\\end{matrix}\\right]$"
          },
          "metadata": {}
        },
        {
          "output_type": "stream",
          "name": "stdout",
          "text": [
            "\n",
            "c_3:\n",
            "\n"
          ]
        },
        {
          "output_type": "display_data",
          "data": {
            "text/plain": [
              "<IPython.core.display.Math object>"
            ],
            "text/latex": "$\\displaystyle \\left[\\begin{matrix}1.0 q_{dot 2}^{2} \\left(- Ic3x + Ic3y + d_{c3}^{2} m_{3}\\right) \\sin{\\left(q_{3} \\right)} \\cos{\\left(q_{3} \\right)}\\end{matrix}\\right]$"
          },
          "metadata": {}
        }
      ]
    },
    {
      "cell_type": "markdown",
      "source": [
        "## Gravity terms"
      ],
      "metadata": {
        "id": "kidmwUENmIr6"
      }
    },
    {
      "cell_type": "code",
      "source": [
        "\"\"\"\n",
        "- g is a symbolic vector containing for each component the gravity effect on that component\n",
        "- r is a list of vectors containing the positional vectors from the origin to the CoM of that component\n",
        "- m is a list of symbols m_i\n",
        "- n is the number of joints\n",
        "- variables is a list of variable to which differentiate U\n",
        "\"\"\"\n",
        "def compute_gravity(g, r, m, n, variables):\n",
        "  U = np.zeros((1, 1))\n",
        "  for i in range(n):\n",
        "    m_i = m[i]\n",
        "    r_i = r[i]\n",
        "    u_i = -m_i*g.T*r_i\n",
        "    U += u_i.T\n",
        "\n",
        "  U_latex = sp.latex(U)\n",
        "  print(\"\\nTotal gravity U:\\n\")\n",
        "  display(Math(U_latex))\n",
        "\n",
        "  g_q = U.jacobian(variables)\n",
        "  g_q_latex = sp.latex(g_q.T)\n",
        "  print(\"\\nGravity vector g(q):\\n\")\n",
        "  display(Math(g_q_latex))\n",
        "\n",
        "  return"
      ],
      "metadata": {
        "id": "JOZCxcSpf4tN"
      },
      "execution_count": null,
      "outputs": []
    },
    {
      "cell_type": "code",
      "source": [
        "g0 = sp.symbols('g0')\n",
        "g = sp.Matrix([\n",
        "    [0],\n",
        "    [-g0],\n",
        "    [0]\n",
        "])\n",
        "\n",
        "d1 = sp.symbols('d1')\n",
        "s1 = sp.sin('q1')\n",
        "r1 = sp.Matrix([\n",
        "    [0],\n",
        "    [d1*s1],\n",
        "    [0]\n",
        "])\n",
        "\n",
        "l1 = sp.symbols('l1')\n",
        "d2 = sp.symbols('d2')\n",
        "s12 = sp.sin('q1+q2')\n",
        "\n",
        "r2 = sp.Matrix([\n",
        "    [0],\n",
        "    [l1*s1+d2*s12],\n",
        "    [0]\n",
        "])\n",
        "\n",
        "r = [r1, r2]\n",
        "\n",
        "m1 = sp.symbols('m1')\n",
        "m2 = sp.symbols('m2')\n",
        "m = [m1, m2]\n",
        "\n",
        "n = 2\n",
        "variables = [sp.symbols('q1'), sp.symbols('q2')]\n",
        "\n",
        "compute_gravity(g, r, m, n, variables)"
      ],
      "metadata": {
        "colab": {
          "base_uri": "https://localhost:8080/",
          "height": 183
        },
        "id": "MokhGM63iYZJ",
        "outputId": "b03161a4-4a8f-466b-eff2-953fb7746d44"
      },
      "execution_count": null,
      "outputs": [
        {
          "output_type": "stream",
          "name": "stdout",
          "text": [
            "\n",
            "Total gravity U:\n",
            "\n"
          ]
        },
        {
          "output_type": "display_data",
          "data": {
            "text/plain": [
              "<IPython.core.display.Math object>"
            ],
            "text/latex": "$\\displaystyle \\left[\\begin{matrix}d_{1} g_{0} m_{1} \\sin{\\left(q_{1} \\right)} + g_{0} m_{2} \\left(d_{2} \\sin{\\left(q_{1} + q_{2} \\right)} + l_{1} \\sin{\\left(q_{1} \\right)}\\right)\\end{matrix}\\right]$"
          },
          "metadata": {}
        },
        {
          "output_type": "stream",
          "name": "stdout",
          "text": [
            "\n",
            "Gravity vector g(q):\n",
            "\n"
          ]
        },
        {
          "output_type": "display_data",
          "data": {
            "text/plain": [
              "<IPython.core.display.Math object>"
            ],
            "text/latex": "$\\displaystyle \\left[\\begin{matrix}d_{1} g_{0} m_{1} \\cos{\\left(q_{1} \\right)} + g_{0} m_{2} \\left(d_{2} \\cos{\\left(q_{1} + q_{2} \\right)} + l_{1} \\cos{\\left(q_{1} \\right)}\\right)\\\\d_{2} g_{0} m_{2} \\cos{\\left(q_{1} + q_{2} \\right)}\\end{matrix}\\right]$"
          },
          "metadata": {}
        }
      ]
    },
    {
      "cell_type": "markdown",
      "source": [
        "# Newton-Euler Method"
      ],
      "metadata": {
        "id": "L77KBYmYzPir"
      }
    },
    {
      "cell_type": "markdown",
      "source": [
        "## Forward recursion"
      ],
      "metadata": {
        "id": "B36CkOOj0V1C"
      }
    },
    {
      "cell_type": "code",
      "source": [
        "\"\"\"\n",
        "this function only works with revolute joints based robot\n",
        "- q is the list of variables\n",
        "- q_dot is a column vector containing the velocities for each joint\n",
        "- q_ddot is a column vector containing the accelerations for each joint\n",
        "- g is a vector of gravity terms\n",
        "- r is a list of vectors of the positions ^ir_{i-1,i}\n",
        "- r_c is a list of vectors of the positions ^ir_{i, ci}\n",
        "\"\"\"\n",
        "def NE_forward(q, q_dot, q_ddot, g, r, r_c):\n",
        "\n",
        "  Wi = []\n",
        "  Wi_dot = []\n",
        "  Ai = []\n",
        "  Aci = []\n",
        "\n",
        "  # initialization step\n",
        "  n = len(q)\n",
        "  w0 = np.zeros((n,1))\n",
        "  w0_dot = np.zeros((n,1))\n",
        "\n",
        "  z0 = np.array([\n",
        "       [0],\n",
        "       [0],\n",
        "       [1]\n",
        "  ])\n",
        "\n",
        "  a0 = -g\n",
        "\n",
        "  # computation\n",
        "  for i in range(1,n+1):\n",
        "    print(f\"\\nJoint {i}\")\n",
        "    ci = sp.cos('q'+str(i))\n",
        "    si = sp.sin('q'+str(i))\n",
        "    Ri = sp.Matrix(\n",
        "        [\n",
        "            [ci, -si, 0],\n",
        "            [si, ci, 0],\n",
        "            [0, 0, 1]\n",
        "        ]\n",
        "    )\n",
        "\n",
        "    if i == 1:\n",
        "      wi = Ri.T * (w0 + q_dot[i-1] * z0)\n",
        "      term = np.cross((q_dot[i-1].item()*w0).reshape(1,3), z0.reshape(1,3)).reshape(3,1)\n",
        "      wi_dot = Ri.T * (w0_dot + q_ddot[i].item()*z0 + term)\n",
        "      c1 = np.cross(wi_dot.reshape(1,3), r[i-1].reshape(1,3)).reshape(3,1)\n",
        "      c2 = np.cross(wi.reshape(1,3), r[i-1].reshape(1,3))\n",
        "      ai = Ri.T * a0 + c1 + np.cross(wi.reshape(1,3), c2).reshape(3,1)\n",
        "      last_term = np.cross(wi.reshape(1,3), np.cross(wi.reshape(1,3), r_c[i-1].reshape(1,3))).reshape(3,1)\n",
        "      aci = ai+np.cross(wi_dot.reshape(1,3), r_c[i-1].reshape(1,3)).reshape(3,1) + last_term\n",
        "    else:\n",
        "      wi = Ri.T * (wi + q_dot[i-1].item()* z0)\n",
        "      term = np.cross((q_dot[i-1].item()*wi).reshape(1,3), z0.reshape(1,3)).reshape(3,1)\n",
        "      wi_dot = Ri.T * (wi_dot + q_ddot[i-1].item()*z0 + term)\n",
        "      c1 = np.cross(wi_dot.reshape(1,3), r[i-1].reshape(1,3)).reshape(3,1)\n",
        "      c2 = np.cross(wi.reshape(1,3), r[i-1].reshape(1,3))\n",
        "      ai = Ri.T * ai + c1 + np.cross(wi.reshape(1,3), c2).reshape(3,1)\n",
        "      last_term = np.cross(wi.reshape(1,3), np.cross(wi.reshape(1,3), r_c[i-1].reshape(1,3))).reshape(3,1)\n",
        "      aci = ai+np.cross(wi_dot.reshape(1,3), r_c[i-1].reshape(1,3)).reshape(3,1) + last_term\n",
        "\n",
        "    Wi.append(wi)\n",
        "    Wi_dot.append(wi_dot)\n",
        "    Ai.append(ai)\n",
        "    Aci.append(aci)\n",
        "\n",
        "    wi_l = sp.latex(wi)\n",
        "    wi_dot_l = sp.latex(wi_dot)\n",
        "    ai_l = sp.latex(sp.simplify(ai))\n",
        "    aci_l = sp.latex(sp.simplify(aci))\n",
        "    print(f\"\\nw_{i}:\\n\")\n",
        "    display(Math(wi_l))\n",
        "    print(f\"\\nw_{i}_dot:\\n\")\n",
        "    display(Math(wi_dot_l))\n",
        "    print(f\"\\na_{i}:\\n\")\n",
        "    display(Math(ai_l))\n",
        "    print(f\"\\na_c{i}:\\n\")\n",
        "    display(Math(aci_l))\n",
        "\n",
        "  return Wi, Wi_dot, Ai, Aci"
      ],
      "metadata": {
        "id": "_FDruVXnzPB2"
      },
      "execution_count": null,
      "outputs": []
    },
    {
      "cell_type": "code",
      "source": [
        "# example of usage\n",
        "dh = create_DH_table([0, 0, 0], [sp.symbols('a1'),sp.symbols('a2'),sp.symbols('a2')],[0,0,0], [sp.symbols('q1'), sp.symbols('q2'),sp.symbols('q3')])\n",
        "A,R,r = define_all_matrices(3, dh)\n",
        "q = [sp.symbols('q1'), sp.symbols('q2'), sp.symbols('q3')]\n",
        "n = len(q)\n",
        "q_dot = np.zeros((n,1))\n",
        "q_ddot = np.zeros((n,1))\n",
        "g = sp.Matrix([\n",
        "    [sp.symbols('g0')],\n",
        "    [0],\n",
        "    [0]\n",
        "])\n",
        "\n",
        "r_c = [np.array([[sp.symbols('d1')], [0], [0]]), np.array([[sp.symbols('d2')], [0], [0]]), np.array([[sp.symbols('d3')], [0], [0]])]\n",
        "\n",
        "\n",
        "Wi, Wi_dot, Ai, Aci = NE_forward(q, q_dot, q_ddot, g, r, r_c)"
      ],
      "metadata": {
        "colab": {
          "base_uri": "https://localhost:8080/",
          "height": 1000
        },
        "id": "NVTPvwo-EUS7",
        "outputId": "53771ba9-21a4-4652-cf89-eed401b506e6"
      },
      "execution_count": null,
      "outputs": [
        {
          "output_type": "stream",
          "name": "stdout",
          "text": [
            "i = 1\n",
            "alpha = 0\n",
            "a = a1\n",
            "d = 0\n",
            "theta = q1\n",
            "\n",
            "i = 2\n",
            "alpha = 0\n",
            "a = a2\n",
            "d = 0\n",
            "theta = q2\n",
            "\n",
            "i = 3\n",
            "alpha = 0\n",
            "a = a2\n",
            "d = 0\n",
            "theta = q3\n",
            "\n",
            "\n",
            "Matrix A associated to RF1 wrt RF0\n",
            "\n",
            "[[cos(q1) -sin(q1) 0 a1*cos(q1)]\n",
            " [sin(q1) cos(q1) 0 a1*sin(q1)]\n",
            " [0 0 1 0]\n",
            " [0 0 0 1]]\n",
            "\n",
            "\n",
            "Matrix A associated to RF2 wrt RF1\n",
            "\n",
            "[[cos(q2) -sin(q2) 0 a2*cos(q2)]\n",
            " [sin(q2) cos(q2) 0 a2*sin(q2)]\n",
            " [0 0 1 0]\n",
            " [0 0 0 1]]\n",
            "\n",
            "\n",
            "Matrix A associated to RF3 wrt RF2\n",
            "\n",
            "[[cos(q3) -sin(q3) 0 a2*cos(q3)]\n",
            " [sin(q3) cos(q3) 0 a2*sin(q3)]\n",
            " [0 0 1 0]\n",
            " [0 0 0 1]]\n",
            "\n",
            "\n",
            "Joint 1\n",
            "\n",
            "w_1:\n",
            "\n"
          ]
        },
        {
          "output_type": "display_data",
          "data": {
            "text/plain": [
              "<IPython.core.display.Math object>"
            ],
            "text/latex": "$\\displaystyle \\left[\\begin{matrix}0\\\\0\\\\0\\end{matrix}\\right]$"
          },
          "metadata": {}
        },
        {
          "output_type": "stream",
          "name": "stdout",
          "text": [
            "\n",
            "w_1_dot:\n",
            "\n"
          ]
        },
        {
          "output_type": "display_data",
          "data": {
            "text/plain": [
              "<IPython.core.display.Math object>"
            ],
            "text/latex": "$\\displaystyle \\left[\\begin{matrix}0\\\\0\\\\0\\end{matrix}\\right]$"
          },
          "metadata": {}
        },
        {
          "output_type": "stream",
          "name": "stdout",
          "text": [
            "\n",
            "a_1:\n",
            "\n"
          ]
        },
        {
          "output_type": "display_data",
          "data": {
            "text/plain": [
              "<IPython.core.display.Math object>"
            ],
            "text/latex": "$\\displaystyle \\left[\\begin{matrix}- g_{0} \\cos{\\left(q_{1} \\right)}\\\\g_{0} \\sin{\\left(q_{1} \\right)}\\\\0\\end{matrix}\\right]$"
          },
          "metadata": {}
        },
        {
          "output_type": "stream",
          "name": "stdout",
          "text": [
            "\n",
            "a_c1:\n",
            "\n"
          ]
        },
        {
          "output_type": "display_data",
          "data": {
            "text/plain": [
              "<IPython.core.display.Math object>"
            ],
            "text/latex": "$\\displaystyle \\left[\\begin{matrix}- g_{0} \\cos{\\left(q_{1} \\right)}\\\\g_{0} \\sin{\\left(q_{1} \\right)}\\\\0\\end{matrix}\\right]$"
          },
          "metadata": {}
        },
        {
          "output_type": "stream",
          "name": "stdout",
          "text": [
            "\n",
            "Joint 2\n",
            "\n",
            "w_2:\n",
            "\n"
          ]
        },
        {
          "output_type": "display_data",
          "data": {
            "text/plain": [
              "<IPython.core.display.Math object>"
            ],
            "text/latex": "$\\displaystyle \\left[\\begin{matrix}0\\\\0\\\\0\\end{matrix}\\right]$"
          },
          "metadata": {}
        },
        {
          "output_type": "stream",
          "name": "stdout",
          "text": [
            "\n",
            "w_2_dot:\n",
            "\n"
          ]
        },
        {
          "output_type": "display_data",
          "data": {
            "text/plain": [
              "<IPython.core.display.Math object>"
            ],
            "text/latex": "$\\displaystyle \\left[\\begin{matrix}0\\\\0\\\\0\\end{matrix}\\right]$"
          },
          "metadata": {}
        },
        {
          "output_type": "stream",
          "name": "stdout",
          "text": [
            "\n",
            "a_2:\n",
            "\n"
          ]
        },
        {
          "output_type": "display_data",
          "data": {
            "text/plain": [
              "<IPython.core.display.Math object>"
            ],
            "text/latex": "$\\displaystyle \\left[\\begin{matrix}- g_{0} \\cos{\\left(q_{1} + q_{2} \\right)}\\\\g_{0} \\sin{\\left(q_{1} + q_{2} \\right)}\\\\0\\end{matrix}\\right]$"
          },
          "metadata": {}
        },
        {
          "output_type": "stream",
          "name": "stdout",
          "text": [
            "\n",
            "a_c2:\n",
            "\n"
          ]
        },
        {
          "output_type": "display_data",
          "data": {
            "text/plain": [
              "<IPython.core.display.Math object>"
            ],
            "text/latex": "$\\displaystyle \\left[\\begin{matrix}- g_{0} \\cos{\\left(q_{1} + q_{2} \\right)}\\\\g_{0} \\sin{\\left(q_{1} + q_{2} \\right)}\\\\0\\end{matrix}\\right]$"
          },
          "metadata": {}
        },
        {
          "output_type": "stream",
          "name": "stdout",
          "text": [
            "\n",
            "Joint 3\n",
            "\n",
            "w_3:\n",
            "\n"
          ]
        },
        {
          "output_type": "display_data",
          "data": {
            "text/plain": [
              "<IPython.core.display.Math object>"
            ],
            "text/latex": "$\\displaystyle \\left[\\begin{matrix}0\\\\0\\\\0\\end{matrix}\\right]$"
          },
          "metadata": {}
        },
        {
          "output_type": "stream",
          "name": "stdout",
          "text": [
            "\n",
            "w_3_dot:\n",
            "\n"
          ]
        },
        {
          "output_type": "display_data",
          "data": {
            "text/plain": [
              "<IPython.core.display.Math object>"
            ],
            "text/latex": "$\\displaystyle \\left[\\begin{matrix}0\\\\0\\\\0\\end{matrix}\\right]$"
          },
          "metadata": {}
        },
        {
          "output_type": "stream",
          "name": "stdout",
          "text": [
            "\n",
            "a_3:\n",
            "\n"
          ]
        },
        {
          "output_type": "display_data",
          "data": {
            "text/plain": [
              "<IPython.core.display.Math object>"
            ],
            "text/latex": "$\\displaystyle \\left[\\begin{matrix}- g_{0} \\cos{\\left(q_{1} + q_{2} + q_{3} \\right)}\\\\g_{0} \\sin{\\left(q_{1} + q_{2} + q_{3} \\right)}\\\\0\\end{matrix}\\right]$"
          },
          "metadata": {}
        },
        {
          "output_type": "stream",
          "name": "stdout",
          "text": [
            "\n",
            "a_c3:\n",
            "\n"
          ]
        },
        {
          "output_type": "display_data",
          "data": {
            "text/plain": [
              "<IPython.core.display.Math object>"
            ],
            "text/latex": "$\\displaystyle \\left[\\begin{matrix}- g_{0} \\cos{\\left(q_{1} + q_{2} + q_{3} \\right)}\\\\g_{0} \\sin{\\left(q_{1} + q_{2} + q_{3} \\right)}\\\\0\\end{matrix}\\right]$"
          },
          "metadata": {}
        }
      ]
    },
    {
      "cell_type": "markdown",
      "source": [
        "## Backward recursion"
      ],
      "metadata": {
        "id": "d2W53fD40ZkT"
      }
    },
    {
      "cell_type": "code",
      "source": [
        "def NE_backward(R, r, r_c, Ac, Wi_dot, Wi, I, q, m):\n",
        "  n = len(q)\n",
        "  f_nsucc = np.zeros((n,1))\n",
        "  t_nsucc = np.zeros((n,1))\n",
        "  z0 = np.array([\n",
        "      [0],\n",
        "      [0],\n",
        "      [1]\n",
        "  ])\n",
        "  for i in range(n-1, 0, -1):\n",
        "    Ri = R[i]\n",
        "    Aci = Ac[i]\n",
        "    mi = m[i]\n",
        "    fi = np.dot(Ri,f_nsucc) + mi*Aci\n",
        "    rci = r_c[i]\n",
        "    ri = r[i]\n",
        "    Ii = I[i]\n",
        "    wi = Wi[i]\n",
        "    wi_dot = Wi_dot[i]\n",
        "    term1 = np.cross(np.dot(Ri, fi).reshape(1,3), rci.reshape(1,3)).reshape(3,1)\n",
        "    term2 = np.cross(fi.reshape(1,3), (ri+rci).reshape(1,3)).reshape(3,1)\n",
        "    term3 = np.cross(wi.reshape(1,3), (Ii*wi).reshape(1,3)).reshape(3,1)\n",
        "    ti = np.dot(Ri,t_nsucc) + term1 - term2 + Ii*wi_dot + term3\n",
        "    ui = np.dot(ti.T,z0)\n",
        "\n",
        "    fi_l = sp.latex(sp.simplify(fi))\n",
        "    print(f\"f_{i+1}:\\n\")\n",
        "    display(Math(fi_l))\n",
        "    ti_l = sp.latex(sp.simplify(ti))\n",
        "    print(f\"t_{i+1}:\\n\")\n",
        "    display(Math(ti_l))\n",
        "    ui_l = sp.latex(sp.simplify(ui))\n",
        "    print(f\"u_{i+1}:\\n\")\n",
        "    display(Math(ui_l))\n",
        "\n",
        "    f_nsucc = fi\n",
        "    t_nsucc = ti\n",
        "\n",
        "  return"
      ],
      "metadata": {
        "id": "5VPPWn1d6rmH"
      },
      "execution_count": null,
      "outputs": []
    },
    {
      "cell_type": "code",
      "source": [
        "dh = create_DH_table([0, 0, 0], [sp.symbols('a1'),sp.symbols('a2'),sp.symbols('a2')],[0,0,0], [sp.symbols('q1'), sp.symbols('q2'),sp.symbols('q3')])\n",
        "A,R,r = define_all_matrices(3, dh)\n",
        "\n",
        "m=[sp.symbols('m1'), sp.symbols('m2'), sp.symbols('m3')]\n",
        "r_c = [np.array([[sp.symbols('d1')], [0], [0]]), np.array([[sp.symbols('d2')], [0], [0]]), np.array([[sp.symbols('d3')], [0], [0]])]\n",
        "\n",
        "I = [0,0,0]\n",
        "NE_backward(R, r, r_c, Aci, Wi_dot, Wi, I, q, m)"
      ],
      "metadata": {
        "colab": {
          "base_uri": "https://localhost:8080/",
          "height": 1000
        },
        "id": "hnGEif1He-3Q",
        "outputId": "a81113b3-7609-4d9e-83db-bfe851e26e8f"
      },
      "execution_count": null,
      "outputs": [
        {
          "output_type": "stream",
          "name": "stdout",
          "text": [
            "i = 1\n",
            "alpha = 0\n",
            "a = a1\n",
            "d = 0\n",
            "theta = q1\n",
            "\n",
            "i = 2\n",
            "alpha = 0\n",
            "a = a2\n",
            "d = 0\n",
            "theta = q2\n",
            "\n",
            "i = 3\n",
            "alpha = 0\n",
            "a = a2\n",
            "d = 0\n",
            "theta = q3\n",
            "\n",
            "\n",
            "Matrix A associated to RF1 wrt RF0\n",
            "\n",
            "[[cos(q1) -sin(q1) 0 a1*cos(q1)]\n",
            " [sin(q1) cos(q1) 0 a1*sin(q1)]\n",
            " [0 0 1 0]\n",
            " [0 0 0 1]]\n",
            "\n",
            "\n",
            "Matrix A associated to RF2 wrt RF1\n",
            "\n",
            "[[cos(q2) -sin(q2) 0 a2*cos(q2)]\n",
            " [sin(q2) cos(q2) 0 a2*sin(q2)]\n",
            " [0 0 1 0]\n",
            " [0 0 0 1]]\n",
            "\n",
            "\n",
            "Matrix A associated to RF3 wrt RF2\n",
            "\n",
            "[[cos(q3) -sin(q3) 0 a2*cos(q3)]\n",
            " [sin(q3) cos(q3) 0 a2*sin(q3)]\n",
            " [0 0 1 0]\n",
            " [0 0 0 1]]\n",
            "\n",
            "f_3:\n",
            "\n"
          ]
        },
        {
          "output_type": "display_data",
          "data": {
            "text/plain": [
              "<IPython.core.display.Math object>"
            ],
            "text/latex": "$\\displaystyle \\left[\\begin{matrix}- g_{0} m_{3} \\cos{\\left(q_{1} + q_{2} + q_{3} \\right)}\\\\g_{0} m_{3} \\sin{\\left(q_{1} + q_{2} + q_{3} \\right)}\\\\0\\end{matrix}\\right]$"
          },
          "metadata": {}
        },
        {
          "output_type": "stream",
          "name": "stdout",
          "text": [
            "t_3:\n",
            "\n"
          ]
        },
        {
          "output_type": "display_data",
          "data": {
            "text/plain": [
              "<IPython.core.display.Math object>"
            ],
            "text/latex": "$\\displaystyle \\left[\\begin{matrix}0\\\\0\\\\g_{0} m_{3} \\left(a_{2} \\sin{\\left(q_{3} \\right)} \\cos{\\left(q_{1} + q_{2} + q_{3} \\right)} - d_{3} \\sin{\\left(q_{1} + q_{2} \\right)} + \\left(a_{2} \\cos{\\left(q_{3} \\right)} + d_{3}\\right) \\sin{\\left(q_{1} + q_{2} + q_{3} \\right)}\\right)\\end{matrix}\\right]$"
          },
          "metadata": {}
        },
        {
          "output_type": "stream",
          "name": "stdout",
          "text": [
            "u_3:\n",
            "\n"
          ]
        },
        {
          "output_type": "display_data",
          "data": {
            "text/plain": [
              "<IPython.core.display.Math object>"
            ],
            "text/latex": "$\\displaystyle \\left[\\left[\\begin{matrix}g_{0} m_{3} \\left(a_{2} \\sin{\\left(q_{3} \\right)} \\cos{\\left(q_{1} + q_{2} + q_{3} \\right)} - d_{3} \\sin{\\left(q_{1} + q_{2} \\right)} + \\left(a_{2} \\cos{\\left(q_{3} \\right)} + d_{3}\\right) \\sin{\\left(q_{1} + q_{2} + q_{3} \\right)}\\right)\\end{matrix}\\right]\\right]$"
          },
          "metadata": {}
        },
        {
          "output_type": "stream",
          "name": "stdout",
          "text": [
            "f_2:\n",
            "\n"
          ]
        },
        {
          "output_type": "display_data",
          "data": {
            "text/plain": [
              "<IPython.core.display.Math object>"
            ],
            "text/latex": "$\\displaystyle \\left[\\begin{matrix}- g_{0} \\left(m_{2} \\cos{\\left(q_{1} + q_{2} \\right)} + m_{3} \\cos{\\left(q_{1} + q_{3} \\right)}\\right)\\\\g_{0} \\left(m_{2} \\sin{\\left(q_{1} + q_{2} \\right)} + m_{3} \\sin{\\left(q_{1} + q_{3} \\right)}\\right)\\\\0\\end{matrix}\\right]$"
          },
          "metadata": {}
        },
        {
          "output_type": "stream",
          "name": "stdout",
          "text": [
            "t_2:\n",
            "\n"
          ]
        },
        {
          "output_type": "display_data",
          "data": {
            "text/plain": [
              "<IPython.core.display.Math object>"
            ],
            "text/latex": "$\\displaystyle \\left[\\begin{matrix}0\\\\0\\\\g_{0} \\left(a_{2} m_{3} \\sin{\\left(q_{3} \\right)} \\cos{\\left(q_{1} + q_{2} + q_{3} \\right)} + a_{2} \\left(m_{2} \\cos{\\left(q_{1} + q_{2} \\right)} + m_{3} \\cos{\\left(q_{1} + q_{3} \\right)}\\right) \\sin{\\left(q_{2} \\right)} - d_{2} \\left(m_{2} \\sin{\\left(q_{1} \\right)} + m_{3} \\sin{\\left(q_{1} - q_{2} + q_{3} \\right)}\\right) - d_{3} m_{3} \\sin{\\left(q_{1} + q_{2} \\right)} + m_{3} \\left(a_{2} \\cos{\\left(q_{3} \\right)} + d_{3}\\right) \\sin{\\left(q_{1} + q_{2} + q_{3} \\right)} + \\left(a_{2} \\cos{\\left(q_{2} \\right)} + d_{2}\\right) \\left(m_{2} \\sin{\\left(q_{1} + q_{2} \\right)} + m_{3} \\sin{\\left(q_{1} + q_{3} \\right)}\\right)\\right)\\end{matrix}\\right]$"
          },
          "metadata": {}
        },
        {
          "output_type": "stream",
          "name": "stdout",
          "text": [
            "u_2:\n",
            "\n"
          ]
        },
        {
          "output_type": "display_data",
          "data": {
            "text/plain": [
              "<IPython.core.display.Math object>"
            ],
            "text/latex": "$\\displaystyle \\left[\\left[\\begin{matrix}g_{0} \\left(a_{2} m_{3} \\sin{\\left(q_{3} \\right)} \\cos{\\left(q_{1} + q_{2} + q_{3} \\right)} + a_{2} \\left(m_{2} \\cos{\\left(q_{1} + q_{2} \\right)} + m_{3} \\cos{\\left(q_{1} + q_{3} \\right)}\\right) \\sin{\\left(q_{2} \\right)} - d_{2} \\left(m_{2} \\sin{\\left(q_{1} \\right)} + m_{3} \\sin{\\left(q_{1} - q_{2} + q_{3} \\right)}\\right) - d_{3} m_{3} \\sin{\\left(q_{1} + q_{2} \\right)} + m_{3} \\left(a_{2} \\cos{\\left(q_{3} \\right)} + d_{3}\\right) \\sin{\\left(q_{1} + q_{2} + q_{3} \\right)} + \\left(a_{2} \\cos{\\left(q_{2} \\right)} + d_{2}\\right) \\left(m_{2} \\sin{\\left(q_{1} + q_{2} \\right)} + m_{3} \\sin{\\left(q_{1} + q_{3} \\right)}\\right)\\right)\\end{matrix}\\right]\\right]$"
          },
          "metadata": {}
        }
      ]
    },
    {
      "cell_type": "markdown",
      "source": [
        "# Stability"
      ],
      "metadata": {
        "id": "XkZCBFluS7xm"
      }
    },
    {
      "cell_type": "code",
      "source": [
        "def find_equilibrium(equation, variables):\n",
        "\n",
        "    if not isinstance(equation, Eq):\n",
        "        equation = Eq(equation, 0)\n",
        "\n",
        "    equilibrium_points = solve(equation, variables)\n",
        "\n",
        "    return equilibrium_points"
      ],
      "metadata": {
        "id": "Th4tiPefS7ZY"
      },
      "execution_count": null,
      "outputs": []
    },
    {
      "cell_type": "code",
      "source": [
        "# define here the function\n",
        "B = symbols('B')\n",
        "K = symbols('K')\n",
        "D = symbols('D')\n",
        "F = symbols('F')\n",
        "M = symbols('M')\n",
        "g = symbols('g')\n",
        "\n",
        "t = symbols('t')  # Time variable\n",
        "theta = Function('theta')(t)  # Define theta as a function of time\n",
        "theta_dot = theta.diff(t)\n",
        "theta_ddot = theta_dot.diff(t)\n",
        "\n",
        "q = Function('q')(t)  # Define theta as a function of time\n",
        "q_dot = q.diff(t)\n",
        "q_ddot = q_dot.diff(t)\n",
        "\n",
        "tau = symbols('tau')\n",
        "\n",
        "equation1 = Eq(B*theta_ddot+K*(theta-q)+D*(theta_dot-q_dot)+F*theta_dot-tau, 0)\n",
        "equation2 = Eq(M*theta_ddot+K*(q-theta)-M*g+D*(q_dot-theta_dot)+F*q_dot, 0)\n",
        "\n",
        "display(Math(sp.latex(equation1)))\n",
        "\n",
        "display(Math(sp.latex(equation2)))\n",
        "\n",
        "eq_pnt = {q:0, theta:0}\n",
        "\n",
        "print(\"\\nBy substituting equilibrium points in the first eq:\\n\")\n",
        "display(Math(sp.latex(simplify(equation1.subs(eq_pnt)))))\n",
        "\n",
        "print(\"\\nBy substituting equilibrium points in the second eq:\\n\")\n",
        "display(Math(sp.latex(simplify(equation2.subs(eq_pnt)))))\n"
      ],
      "metadata": {
        "colab": {
          "base_uri": "https://localhost:8080/",
          "height": 248
        },
        "id": "ie-c9P-kVu0m",
        "outputId": "67bb7114-7c2d-4bca-81a3-84fd72a6d2c8"
      },
      "execution_count": null,
      "outputs": [
        {
          "output_type": "display_data",
          "data": {
            "text/plain": [
              "<IPython.core.display.Math object>"
            ],
            "text/latex": "$\\displaystyle B \\frac{d^{2}}{d t^{2}} \\theta{\\left(t \\right)} + D \\left(- \\frac{d}{d t} q{\\left(t \\right)} + \\frac{d}{d t} \\theta{\\left(t \\right)}\\right) + F \\frac{d}{d t} \\theta{\\left(t \\right)} + K \\left(- q{\\left(t \\right)} + \\theta{\\left(t \\right)}\\right) - \\tau = 0$"
          },
          "metadata": {}
        },
        {
          "output_type": "display_data",
          "data": {
            "text/plain": [
              "<IPython.core.display.Math object>"
            ],
            "text/latex": "$\\displaystyle D \\left(\\frac{d}{d t} q{\\left(t \\right)} - \\frac{d}{d t} \\theta{\\left(t \\right)}\\right) + F \\frac{d}{d t} q{\\left(t \\right)} + K \\left(q{\\left(t \\right)} - \\theta{\\left(t \\right)}\\right) - M g + M \\frac{d^{2}}{d t^{2}} \\theta{\\left(t \\right)} = 0$"
          },
          "metadata": {}
        },
        {
          "output_type": "stream",
          "name": "stdout",
          "text": [
            "\n",
            "By substituting equilibrium points in the first eq:\n",
            "\n"
          ]
        },
        {
          "output_type": "display_data",
          "data": {
            "text/plain": [
              "<IPython.core.display.Math object>"
            ],
            "text/latex": "$\\displaystyle \\tau = 0$"
          },
          "metadata": {}
        },
        {
          "output_type": "stream",
          "name": "stdout",
          "text": [
            "\n",
            "By substituting equilibrium points in the second eq:\n",
            "\n"
          ]
        },
        {
          "output_type": "display_data",
          "data": {
            "text/plain": [
              "<IPython.core.display.Math object>"
            ],
            "text/latex": "$\\displaystyle M g = 0$"
          },
          "metadata": {}
        }
      ]
    },
    {
      "cell_type": "markdown",
      "source": [
        "## Lyapunov Candidate"
      ],
      "metadata": {
        "id": "QNk-9IKYmpbz"
      }
    },
    {
      "cell_type": "code",
      "source": [
        "def Lyapunov_candidate(V, eq_points):\n",
        "  print(\"\\nLyapunov candidate:\\n\")\n",
        "  display(Math(sp.latex(V)))\n",
        "\n",
        "  print(\"\\nVERIFY ON YOUR OWN IF THE CANDIDATE IS POSITIVE DEFINITE...\\n\")\n",
        "\n",
        "  pt = simplify(V.subs(eq_points))\n",
        "  print(\"\\nBy substituting in V the equilibrium points we get:\\n\")\n",
        "  display(Math(sp.latex(pt)))\n",
        "\n",
        "  # Compute the partial derivatives\n",
        "  dV_dtheta = diff(V, theta)\n",
        "  dV_dq = diff(V, q)\n",
        "  dV_dtheta_dot = diff(V, theta_dot)\n",
        "  dV_dq_dot = diff(V, q_dot)\n",
        "\n",
        "  V_dot = dV_dtheta * theta_dot + dV_dq * q_dot + dV_dtheta_dot * theta_ddot + dV_dq_dot * q_ddot\n",
        "  print(\"\\nLyapunov derivative:\\n\")\n",
        "  display(Math(sp.latex(sp.simplify(V_dot))))\n",
        "\n",
        "  print(\"\\nVERIFY ON YOUR OWN IF THE DERIVATIVE IS <= 0...\\n\")\n",
        "  y_n = input(\"Is V\\dot <= 0? (Y/N): \")\n",
        "  if y_n == 'Y':\n",
        "    print(\"Sufficient condition of stability is satisfied...\")\n",
        "    print(f\"\\nLaSalle (V\\dot = 0 iff q\\dot = theta\\dot = 0)...\\nV\\dot = {simplify(V_dot.subs(values))}\")\n",
        "    if simplify(V_dot.subs(values)) == 0:\n",
        "      print(\"\\nSufficient condition of asymptotic stability is satisfied!\\n\")\n",
        "\n",
        "  if y_n == 'N':\n",
        "    print(\"Sufficient condition of stability is NOT satisfied...Proceed regulating the system with a control law!\")\n",
        "\n",
        "  return\n",
        "\n",
        "\n"
      ],
      "metadata": {
        "id": "4duBUjOQAk02"
      },
      "execution_count": null,
      "outputs": []
    },
    {
      "cell_type": "code",
      "source": [
        "B, K, Kp, D, F, M, g = symbols('B K Kp D F M g', real=True)\n",
        "\n",
        "t = symbols('t')  # Time variable\n",
        "theta = Function('theta')(t)  # Define theta as a function of time\n",
        "theta_d = Function('theta_d')(t)  # Define theta as a function of time\n",
        "\n",
        "theta_dot = theta.diff(t)\n",
        "theta_ddot = theta_dot.diff(t)\n",
        "\n",
        "q = Function('q')(t)  # Define theta as a function of time\n",
        "q_d = Function('q_d')(t)  # Define theta as a function of time\n",
        "\n",
        "q_dot = q.diff(t)\n",
        "q_ddot = q_dot.diff(t)\n",
        "\n",
        "tau = symbols('tau')\n",
        "V = 0.5*B*theta_dot**2 + 0.5*M*q_dot**2 + 0.5*K*(theta-q)**2 - M*g*q + 0.5*Kp*(theta_d - theta)**2 - M*g*(theta_d-theta)\n",
        "values = {theta: theta_d, q:q_d, theta_dot:0, q_dot:0}"
      ],
      "metadata": {
        "id": "7BlU-5DJKn5j"
      },
      "execution_count": null,
      "outputs": []
    },
    {
      "cell_type": "code",
      "source": [
        "Lyapunov_candidate(V, values)"
      ],
      "metadata": {
        "colab": {
          "base_uri": "https://localhost:8080/",
          "height": 599
        },
        "id": "fZJ-VQXaLz0h",
        "outputId": "48af0bee-a468-442d-9c4e-2c62435da81e"
      },
      "execution_count": null,
      "outputs": [
        {
          "output_type": "stream",
          "name": "stdout",
          "text": [
            "\n",
            "Lyapunov candidate:\n",
            "\n"
          ]
        },
        {
          "output_type": "display_data",
          "data": {
            "text/plain": [
              "<IPython.core.display.Math object>"
            ],
            "text/latex": "$\\displaystyle 0.5 B \\left(\\frac{d}{d t} \\theta{\\left(t \\right)}\\right)^{2} + 0.5 K \\left(- q{\\left(t \\right)} + \\theta{\\left(t \\right)}\\right)^{2} + 0.5 Kp \\left(- \\theta{\\left(t \\right)} + \\theta_{d}{\\left(t \\right)}\\right)^{2} - M g \\left(- \\theta{\\left(t \\right)} + \\theta_{d}{\\left(t \\right)}\\right) - M g q{\\left(t \\right)} + 0.5 M \\left(\\frac{d}{d t} q{\\left(t \\right)}\\right)^{2}$"
          },
          "metadata": {}
        },
        {
          "output_type": "stream",
          "name": "stdout",
          "text": [
            "\n",
            "VERIFY ON YOUR OWN IF THE CANDIDATE IS POSITIVE DEFINITE...\n",
            "\n",
            "\n",
            "By substituting in V the equilibrium points we get:\n",
            "\n"
          ]
        },
        {
          "output_type": "display_data",
          "data": {
            "text/plain": [
              "<IPython.core.display.Math object>"
            ],
            "text/latex": "$\\displaystyle 0.5 K \\left(q_{d}{\\left(t \\right)} - \\theta_{d}{\\left(t \\right)}\\right)^{2} - M g q_{d}{\\left(t \\right)}$"
          },
          "metadata": {}
        },
        {
          "output_type": "stream",
          "name": "stdout",
          "text": [
            "\n",
            "Lyapunov derivative:\n",
            "\n"
          ]
        },
        {
          "output_type": "display_data",
          "data": {
            "text/plain": [
              "<IPython.core.display.Math object>"
            ],
            "text/latex": "$\\displaystyle 1.0 B \\frac{d}{d t} \\theta{\\left(t \\right)} \\frac{d^{2}}{d t^{2}} \\theta{\\left(t \\right)} + 1.0 M \\frac{d}{d t} q{\\left(t \\right)} \\frac{d^{2}}{d t^{2}} q{\\left(t \\right)} + \\left(1.0 K \\left(q{\\left(t \\right)} - \\theta{\\left(t \\right)}\\right) - M g\\right) \\frac{d}{d t} q{\\left(t \\right)} + \\left(- 1.0 K \\left(q{\\left(t \\right)} - \\theta{\\left(t \\right)}\\right) + 1.0 Kp \\left(\\theta{\\left(t \\right)} - \\theta_{d}{\\left(t \\right)}\\right) + M g\\right) \\frac{d}{d t} \\theta{\\left(t \\right)}$"
          },
          "metadata": {}
        },
        {
          "output_type": "stream",
          "name": "stdout",
          "text": [
            "\n",
            "VERIFY ON YOUR OWN IF THE DERIVATIVE IS <= 0...\n",
            "\n",
            "Is V\\dot <= 0? (Y/N): Y\n",
            "Sufficient condition of stability is satisfied...\n",
            "\n",
            "LaSalle (V\\dot = 0 iff q\\dot = theta\\dot = 0)...\n",
            "V\\dot = 0\n",
            "\n",
            "Sufficient condition of asymptotic stability is satisfied...\n",
            "\n"
          ]
        }
      ]
    }
  ]
}